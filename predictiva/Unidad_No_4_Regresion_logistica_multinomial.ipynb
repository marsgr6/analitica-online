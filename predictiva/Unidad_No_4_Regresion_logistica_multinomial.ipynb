{
 "cells": [
  {
   "cell_type": "markdown",
   "id": "63204cec",
   "metadata": {},
   "source": [
    "En el script anterior, hemos cubierto al modelo de regresion logística simple, que corresponde a tener un modelo con dos niveles en nuestra variable objetivo \"Y\". \n",
    "\n",
    "En el script de hoy, importaremos una base enfocada a resolver un problema de clasificación multinomial en el cual ahondaremos en los conceptos de la Regresión Logística y lo aplicaremos a un caso práctico de empresa que nos dará la ventaja de tener interpretaciones de coeficientes mucho más significativas que en el problema anterior que sólo cubrió un cambio de variable de pendiente.\n",
    "\n",
    "Comencemos!"
   ]
  },
  {
   "cell_type": "markdown",
   "id": "840324c4",
   "metadata": {},
   "source": [
    "# La Regresión logística Multinomial\n"
   ]
  },
  {
   "cell_type": "markdown",
   "id": "4f3f5aed",
   "metadata": {},
   "source": [
    "La regresión logística multinomial es similar a la regresión logística pero con la diferencia de que la variable dependiente  puede tener más de dos niveles, es decir, es multiclase o policotómica.\n",
    "\n",
    "Este modelo, tiene varios nombres, es así que lo podrán encontrar como regresión logística multiclase, regresión softmax, regresión logística politómica, logit multinomial, clasificador de entropía máxima (MaxEnt) y modelo de entropía máxima condicional.\n",
    "\n",
    "Al igual que con otros tipos de regresión, la regresión logística multinomial puede tener variables independientes nominales y/o continuas y puede tener interacciones entre variables independientes para predecir la variable dependiente.\n",
    "\n"
   ]
  },
  {
   "cell_type": "markdown",
   "id": "490a6a6e",
   "metadata": {},
   "source": [
    "_Nota No. 1: Si bien hemos mencionado que la variable objetivo tiene que ser categórica tanto en el modelo de Regresión Logística simple como en el multinomial, es importante mencionar que nos referimos a variables que tengan niveles, pero que no sean significativos. En otras palabras, la variable objetivo no puede presentar clases que puedan ser ordenadas._"
   ]
  },
  {
   "cell_type": "markdown",
   "id": "7cd8f80f",
   "metadata": {},
   "source": [
    "Me pueden dar ejemplos de variables categóricas con más de dos niveles?"
   ]
  },
  {
   "cell_type": "markdown",
   "id": "b98ea0fd",
   "metadata": {},
   "source": [
    " "
   ]
  },
  {
   "cell_type": "markdown",
   "id": "092519cd",
   "metadata": {},
   "source": [
    " "
   ]
  },
  {
   "cell_type": "markdown",
   "id": "27d59e27",
   "metadata": {},
   "source": [
    "En sí, la diferencia en el modelo de regresión logística normal y el del modelo de regresión logística multinomial radica que a más de contar con una variable multiclase en nuestra variable dependiente \"Y\", la función que transforma las probabilidades es diferente, así:\n",
    "\n",
    "- En la regresión logística, la función con la que modelábamos y calculábamos las las probabilidades de los dos resultados posibles era la función sigmoidea\n",
    "- En la regresión logística multinomial, la función es la función Softmax, razón por la cuál algunas veces este modelo se conoce como Regresión Softmax"
   ]
  },
  {
   "cell_type": "markdown",
   "id": "ec79db82",
   "metadata": {},
   "source": [
    "## Definición matemática del modelo"
   ]
  },
  {
   "cell_type": "markdown",
   "id": "e7a95eb5",
   "metadata": {},
   "source": [
    "Al ajustar un modelo de regresión logística multinomial, lo que ocurre tras cámaras es que el problema se puede pensar como el ajuste de k-1 modelos logit binarios independientes, donde uno de los posibles resultados se define como pivot, y los resultados k-1 se regresan frente al resultado pivot.\n",
    "\n",
    "Recordemos que partíamos de la siguiente ecuación:"
   ]
  },
  {
   "cell_type": "markdown",
   "id": "2cd9df5e",
   "metadata": {},
   "source": [
    "$$logit(p)= log (o d d s)=\\operatorname{logit}(Y)=\\ln \\left(\\frac{p}{1-p}\\right)=\\hat \\beta_0+\\hat \\beta_{1}X_1+.... \\hat \\beta_{n}X_n+\\underbrace{\\epsilon}_{error}$$\n"
   ]
  },
  {
   "cell_type": "markdown",
   "id": "55b31792",
   "metadata": {},
   "source": [
    "Donde:\n",
    "\n",
    "    - p: Es la probabilidad de pertenecer a una clase\n",
    "    - e: corresponde al \"exponencial\" que es aproximadamente 2.72\n",
    "    - 𝛽̂ 0 es la constante de la ecuación\n",
    "    - y los demás betas corresponden al coeficiente de cada variable independiente\n",
    "    "
   ]
  },
  {
   "cell_type": "markdown",
   "id": "82e97fe5",
   "metadata": {},
   "source": [
    "Ahora si tomamos como referencia la clase k y obtenemos la siguiente relación:"
   ]
  },
  {
   "cell_type": "markdown",
   "id": "3f93fbab",
   "metadata": {},
   "source": [
    "$$ ln(\\frac{{prob(Y_i=1 )}}{{prob(Y_i=k )}})=\\hat \\beta_{1}X_1$$"
   ]
  },
  {
   "cell_type": "markdown",
   "id": "7df84ece",
   "metadata": {},
   "source": [
    "$$ ln(\\frac{{prob(Y_i=2 )}}{{prob(Y_i=k )}})=\\hat \\beta_{2}X_2$$"
   ]
  },
  {
   "cell_type": "markdown",
   "id": "553090a2",
   "metadata": {},
   "source": [
    "$$ ... $$"
   ]
  },
  {
   "cell_type": "markdown",
   "id": "243be821",
   "metadata": {},
   "source": [
    "$$ ln(\\frac{{prob(Y_i=k-1 )}}{{prob(Y_i=k )}})=\\hat \\beta_{k-1}X_k-1$$"
   ]
  },
  {
   "cell_type": "markdown",
   "id": "4e7919e6",
   "metadata": {},
   "source": [
    "Aplicando exponenciales para eliminar el logaritmo a mano derecha obtenemos:\n",
    "\n",
    "\n",
    "    "
   ]
  },
  {
   "cell_type": "markdown",
   "id": "4e7cab18",
   "metadata": {},
   "source": [
    "$$prob(Y_i=1)={prob(Y_i=k)*e^{(\\hat \\beta_{1}X_1)}}$$"
   ]
  },
  {
   "cell_type": "markdown",
   "id": "a5a7ffe5",
   "metadata": {},
   "source": [
    "$$prob(Y_i=2)={prob(Y_i=k)*e^{(\\hat \\beta_{2}X_1)}}$$"
   ]
  },
  {
   "cell_type": "markdown",
   "id": "76743672",
   "metadata": {},
   "source": [
    "$$ ... $$"
   ]
  },
  {
   "cell_type": "markdown",
   "id": "b1352a97",
   "metadata": {},
   "source": [
    "$$prob(Y_i=k-1)={prob(Y_i=k)*e^{(\\hat \\beta_{k-1}X_k-1)}}$$"
   ]
  },
  {
   "cell_type": "markdown",
   "id": "03e88a09",
   "metadata": {},
   "source": [
    "De el desgloce de fórmulas precedente, psi tuviésemos tres categorías (clase 1, clase 2, y clase 3), el análisis de la regresión logística multinomial consiste en:\n",
    "\n",
    "- Comparar todo con la primera categoría: Clase 1 vs. Calse 2 y Clase 1 vs. Clase 3\n"
   ]
  },
  {
   "cell_type": "markdown",
   "id": "46c34476",
   "metadata": {},
   "source": [
    "## La función Softmax"
   ]
  },
  {
   "cell_type": "markdown",
   "id": "9704c5b5",
   "metadata": {},
   "source": [
    "Es importate mencionar que la función sigmoidea, tenía un umbral de probabilidad de 0,5, donde las observaciones con una probabilidad por debajo de ese umbral entraban a la clase 0, y aquellas con una probabilidad por encima del umbral entran en la clase 1. En consecuencia, esta función estaba reservado para una predicción entre dos clases.\n",
    "\n",
    "Como en la regresión multinomial tenemos que clasificar para más de dos clases, requerimos de una función que devuelva un valor de probabilidad para cada clase, en donde la suma agregada de todas las probabilidades sume uno. \n",
    "\n",
    "La función softmax se adapta a estos requisitos."
   ]
  },
  {
   "cell_type": "markdown",
   "id": "09d645c5",
   "metadata": {},
   "source": [
    "La función logística venía dada por σ(x) o sig(x):\n"
   ]
  },
  {
   "cell_type": "markdown",
   "id": "113dc536",
   "metadata": {},
   "source": [
    "$$σ(x) = \\frac{1}{1+e^{-x}}$$"
   ]
  },
  {
   "cell_type": "markdown",
   "id": "6f8742a6",
   "metadata": {},
   "source": [
    "Mientras que la función softmax es expresada como:"
   ]
  },
  {
   "cell_type": "markdown",
   "id": "5170f1bc",
   "metadata": {},
   "source": [
    "$$softmax(x_i) = \\frac{e^{x_j}}{\\sum_{j=1}^{n} e^{x_j}}$$"
   ]
  },
  {
   "cell_type": "markdown",
   "id": "533394fe",
   "metadata": {},
   "source": [
    "Donde:\n",
    "\n",
    "    - Xi: Es el vector de variables explicativas con longitud equivalente al número de clases k\n",
    "    - denominador corresponde al término de normalización que asegura que todos los valores de salida de la función sumen 1, constituyendo así una distribución de probabilidad válida\n",
    "    "
   ]
  },
  {
   "attachments": {
    "image-2.png": {
     "image/png": "[encoded data removed]"
    }
   },
   "cell_type": "markdown",
   "id": "755ae4c7",
   "metadata": {},
   "source": [
    "![image-2.png](attachment:image-2.png)"
   ]
  },
  {
   "cell_type": "markdown",
   "id": "a5458efa",
   "metadata": {},
   "source": [
    "_Fuente: Nomidl:Difference between Sigmoid and Softmax activation function?_"
   ]
  },
  {
   "cell_type": "markdown",
   "id": "c5e4c8d0",
   "metadata": {},
   "source": [
    "Al igual que la funcion sigmoidea, la función softmax tiene la 'curva en forma de S', y su valor siempre se encuentra entre 0 y 1, por lo que se la implementa para resolver problemas categóricos que tienen mmás de dos valores posibles.\n"
   ]
  },
  {
   "cell_type": "markdown",
   "id": "f048daa9",
   "metadata": {},
   "source": [
    "### El método de Máxima Versonilitud-MLE"
   ]
  },
  {
   "cell_type": "markdown",
   "id": "88bb2755",
   "metadata": {},
   "source": [
    "Al igual que en la regresión logística simple, el modelo logit multinomial, también utiliza el método de máxima verosimilitud, donde la primera iteración es un modelo sin regresores, solo el intercepto, la siguiente iteración incluye 1 regresor en el modelo, y los regresores se cambian en cada iteración. De esta forma, las iteraciones continuarán hasta que el modelo converja. "
   ]
  },
  {
   "cell_type": "markdown",
   "id": "1a637b72",
   "metadata": {},
   "source": [
    "### Ajuste del modelo"
   ]
  },
  {
   "cell_type": "markdown",
   "id": "28e4a56e",
   "metadata": {},
   "source": [
    "En el modelo de Regresión Logística analizaremos los p-values para evaluar si el modelo es mejor que un modelo sin predictores, sólo con β0. Para ello, nos basaremos en el likelihood ratio, que es el que Python utiliza por defecto.\n",
    "\n",
    "El likelihood ratio usa la diferencia entre la probabilidad de obtener los valores observados con el modelo logístico y las probabilidades de hacerlo con un modelo sin relación entre las variables calculando la significancia de la diferencia de residuos entre el modelo con predictores y el modelo nulo. El estadístico tiene una distribución chi-cuadrado con grados de libertad equivalentes a la diferencia de grados de libertad de los dos modelos comparados. Si se compara respecto al modelo nulo, los grados de libertad equivalen al número de predictores del modelo generado. "
   ]
  },
  {
   "cell_type": "markdown",
   "id": "c1c32f0d",
   "metadata": {},
   "source": [
    "# Supuestos del modelo de Regresión Logística Multinomial"
   ]
  },
  {
   "cell_type": "markdown",
   "id": "e2cd5b08",
   "metadata": {},
   "source": [
    "Similar a la regresión logistica, la regresión logística multinomial comparte los supuestos de su versión binaria:"
   ]
  },
  {
   "cell_type": "markdown",
   "id": "164bbda7",
   "metadata": {},
   "source": [
    "### 1. Variable dependiente categórica "
   ]
  },
  {
   "cell_type": "markdown",
   "id": "e0992750",
   "metadata": {},
   "source": [
    "Como se mencionó al inicio, la regresión logística multinomial es para problemas de clasificación, por lo que necesitamos asegurarnos de que la variable objetivo sea categórica y que no presente ningún orden inherente."
   ]
  },
  {
   "cell_type": "markdown",
   "id": "6f85b8ff",
   "metadata": {},
   "source": [
    "#### Formas de verificación"
   ]
  },
  {
   "cell_type": "markdown",
   "id": "8312e6da",
   "metadata": {},
   "source": [
    "- La forma más sencilla de verificar el supuesto, es comprobando que en nuestra base de datos la variable \"Y\" sea categórica, o de tipo \"object\". "
   ]
  },
  {
   "cell_type": "markdown",
   "id": "b5a03ab8",
   "metadata": {},
   "source": [
    "#### Posibles soluciones"
   ]
  },
  {
   "cell_type": "markdown",
   "id": "f81b86f9",
   "metadata": {},
   "source": [
    "Para dar solución a este supuesto, lo mejor es recodificar nuestra variable dependiente mediante LabelEncoder() utilizado en el anterior script."
   ]
  },
  {
   "cell_type": "markdown",
   "id": "66146166",
   "metadata": {},
   "source": [
    "### 2. Relación lineal entre el logaritmo natural de odds y la variable continua"
   ]
  },
  {
   "cell_type": "markdown",
   "id": "2860decc",
   "metadata": {},
   "source": [
    "El modelo logístico requiere que las variables independientes están linealmente relacionadas con las probabilidades logarítmicas, patrones en forma de U son una clara violación de esta condición.\n",
    "\n",
    "Importante: La Regresión Logística no requiere que la variable independiente presente una distribución normal."
   ]
  },
  {
   "cell_type": "markdown",
   "id": "19d12b49",
   "metadata": {},
   "source": [
    "### 3. No colinealidad perfecta entre las covariables  "
   ]
  },
  {
   "cell_type": "markdown",
   "id": "a4438675",
   "metadata": {},
   "source": [
    "Aunque encontrar multicolinealidad perfecta es bastante extraño, lo que generalmente implica es que existe duplicidad de variables explicativas en el modelo. También puede ser el caso que existe una segunda variable derivada de la primera más una constante. \n",
    "\n",
    "El problema de la multicolinearidad perfecta es que implica estimadores indeterminados y una varianza infinita de los estimadores."
   ]
  },
  {
   "cell_type": "markdown",
   "id": "a957b731",
   "metadata": {},
   "source": [
    "$$ var \\hat{\\beta} = inf $$"
   ]
  },
  {
   "cell_type": "markdown",
   "id": "0e465630",
   "metadata": {},
   "source": [
    "Lo cierto es que es más común en la práctica encontrarnos con situaciones donde exista multicolinearidad no perfecta que provoque errores elevados y de acuerdo con (Gujarati, 2007, p.329) estadísticos pequeños que llevan a no rechazar la hpótesis nula, lo que incrementaría la probabilidad de cometer errores de tipo II.\n",
    "\n",
    "\n",
    "En sí el problema de violar este supuesto es que obtiene estimadores menos precisos y muy sensibles a cambios en los datos."
   ]
  },
  {
   "cell_type": "markdown",
   "id": "860fb1b2",
   "metadata": {},
   "source": [
    "#### Formas de verificación"
   ]
  },
  {
   "cell_type": "markdown",
   "id": "689f182d",
   "metadata": {},
   "source": [
    "Existe una herramienta llamada Factor de inflación de la varianza-VIF la cual devuelve un valor conforme al nivel de asociación de las variables predictoras ( mide la correlación y la fuerza de la correlación ). Los rangos a tomar en cuenta del VIF son los siguientes:"
   ]
  },
  {
   "cell_type": "markdown",
   "id": "f552b8e3",
   "metadata": {},
   "source": [
    "$$ \\textrm{VIF}_i = \\frac{1}{1-R_i^2}$$"
   ]
  },
  {
   "cell_type": "markdown",
   "id": "b29ccb7f",
   "metadata": {},
   "source": [
    "#### Posibles soluciones"
   ]
  },
  {
   "cell_type": "markdown",
   "id": "effe9bff",
   "metadata": {},
   "source": [
    "- Verificar que no exista duplicidad entre variables\n",
    "\n",
    "- Retirar uno de los pares de variables que presente el mayor VIF e ir trabajando uno a uno hasta que el VIF se estabilice"
   ]
  },
  {
   "cell_type": "markdown",
   "id": "1b202673",
   "metadata": {},
   "source": [
    "### 4. Grandes tamaños de muestra "
   ]
  },
  {
   "cell_type": "markdown",
   "id": "7b41e3b5",
   "metadata": {},
   "source": [
    "Se espera que el modelo de regresión logística sea construído con tamaños de muestra bastante grandes, aunque dependiendo de los resultados del modelo, este supuesto puede ser relajado."
   ]
  },
  {
   "cell_type": "markdown",
   "id": "06fa9e44",
   "metadata": {},
   "source": [
    "Comencemos!\n"
   ]
  },
  {
   "cell_type": "markdown",
   "id": "18f42aeb",
   "metadata": {},
   "source": [
    "## La base a importar"
   ]
  },
  {
   "cell_type": "markdown",
   "id": "c379d764",
   "metadata": {},
   "source": [
    "El día de hoy analizaremos un caso de \"Churn\", o cómo clasificar a los clientes en función de si permanecen en la empresa, se afiliaron o la abandonaron. Por lo tanto, son modelos predictivos que calculan la tasa de abandono de los clientes."
   ]
  },
  {
   "cell_type": "markdown",
   "id": "d8d53283",
   "metadata": {},
   "source": [
    "Esta base, contiene información sobre 7043 clientes de una empresa de telecomunicaciones en California en el segundo trimestre de 2022 en formato .csv.\n",
    "Cada registro representa a un cliente y contiene detalles sobre sus datos demográficos, ubicación, permanencia, servicios de suscripción, estado en el trimestre (afiliado, permanente o cancelado) ¡y más!. Además tiene un puntaje de 10, por lo que nos ayudará a tener resultados muy significativos.\n",
    "\n",
    "Para descargarla, pueden dirigirse directamente a: https://www.kaggle.com/datasets/shilongzhuang/telecom-customer-churn-by-maven-analytics o descargarla del aula virtual.\n"
   ]
  },
  {
   "cell_type": "markdown",
   "id": "8f9d42bb",
   "metadata": {},
   "source": [
    "### Importar los modules requeridos"
   ]
  },
  {
   "cell_type": "code",
   "execution_count": 790,
   "id": "c74dd046",
   "metadata": {},
   "outputs": [],
   "source": [
    "import numpy as np\n",
    "import pandas as pd\n",
    "import matplotlib.pyplot as plt\n",
    "import seaborn as sns"
   ]
  },
  {
   "cell_type": "code",
   "execution_count": 791,
   "id": "fec81563",
   "metadata": {},
   "outputs": [],
   "source": [
    "import warnings\n",
    "warnings.filterwarnings(\"ignore\")"
   ]
  },
  {
   "cell_type": "markdown",
   "id": "39da1299",
   "metadata": {},
   "source": [
    "Para la regresión y validación de supuestos llamamos a statsmodel, el módulo encargado de la notación de fórmula."
   ]
  },
  {
   "cell_type": "code",
   "execution_count": 792,
   "id": "7f3e4e2e",
   "metadata": {},
   "outputs": [],
   "source": [
    "import statsmodels.api as sm\n",
    "import statsmodels.formula.api as sms"
   ]
  },
  {
   "cell_type": "markdown",
   "id": "184e8144",
   "metadata": {},
   "source": [
    "Ahora,  llamemos a nuestras bases de datos a nuestro espacio en el Jupyer Notebook:"
   ]
  },
  {
   "cell_type": "code",
   "execution_count": 919,
   "id": "6d01b03a",
   "metadata": {},
   "outputs": [
    {
     "data": {
      "text/html": [
       "<div>\n",
       "<style scoped>\n",
       "    .dataframe tbody tr th:only-of-type {\n",
       "        vertical-align: middle;\n",
       "    }\n",
       "\n",
       "    .dataframe tbody tr th {\n",
       "        vertical-align: top;\n",
       "    }\n",
       "\n",
       "    .dataframe thead th {\n",
       "        text-align: right;\n",
       "    }\n",
       "</style>\n",
       "<table border=\"1\" class=\"dataframe\">\n",
       "  <thead>\n",
       "    <tr style=\"text-align: right;\">\n",
       "      <th></th>\n",
       "      <th>Customer ID</th>\n",
       "      <th>Gender</th>\n",
       "      <th>Age</th>\n",
       "      <th>Married</th>\n",
       "      <th>Number of Dependents</th>\n",
       "      <th>City</th>\n",
       "      <th>Zip Code</th>\n",
       "      <th>Latitude</th>\n",
       "      <th>Longitude</th>\n",
       "      <th>Number of Referrals</th>\n",
       "      <th>...</th>\n",
       "      <th>Payment Method</th>\n",
       "      <th>Monthly Charge</th>\n",
       "      <th>Total Charges</th>\n",
       "      <th>Total Refunds</th>\n",
       "      <th>Total Extra Data Charges</th>\n",
       "      <th>Total Long Distance Charges</th>\n",
       "      <th>Total Revenue</th>\n",
       "      <th>Customer Status</th>\n",
       "      <th>Churn Category</th>\n",
       "      <th>Churn Reason</th>\n",
       "    </tr>\n",
       "  </thead>\n",
       "  <tbody>\n",
       "    <tr>\n",
       "      <th>0</th>\n",
       "      <td>0002-ORFBO</td>\n",
       "      <td>Female</td>\n",
       "      <td>37</td>\n",
       "      <td>Yes</td>\n",
       "      <td>0</td>\n",
       "      <td>Frazier Park</td>\n",
       "      <td>93225</td>\n",
       "      <td>34.827662</td>\n",
       "      <td>-118.999073</td>\n",
       "      <td>2</td>\n",
       "      <td>...</td>\n",
       "      <td>Credit Card</td>\n",
       "      <td>65.60</td>\n",
       "      <td>593.30</td>\n",
       "      <td>0.00</td>\n",
       "      <td>0</td>\n",
       "      <td>381.51</td>\n",
       "      <td>974.81</td>\n",
       "      <td>Stayed</td>\n",
       "      <td>NaN</td>\n",
       "      <td>NaN</td>\n",
       "    </tr>\n",
       "    <tr>\n",
       "      <th>1</th>\n",
       "      <td>0003-MKNFE</td>\n",
       "      <td>Male</td>\n",
       "      <td>46</td>\n",
       "      <td>No</td>\n",
       "      <td>0</td>\n",
       "      <td>Glendale</td>\n",
       "      <td>91206</td>\n",
       "      <td>34.162515</td>\n",
       "      <td>-118.203869</td>\n",
       "      <td>0</td>\n",
       "      <td>...</td>\n",
       "      <td>Credit Card</td>\n",
       "      <td>-4.00</td>\n",
       "      <td>542.40</td>\n",
       "      <td>38.33</td>\n",
       "      <td>10</td>\n",
       "      <td>96.21</td>\n",
       "      <td>610.28</td>\n",
       "      <td>Stayed</td>\n",
       "      <td>NaN</td>\n",
       "      <td>NaN</td>\n",
       "    </tr>\n",
       "    <tr>\n",
       "      <th>2</th>\n",
       "      <td>0004-TLHLJ</td>\n",
       "      <td>Male</td>\n",
       "      <td>50</td>\n",
       "      <td>No</td>\n",
       "      <td>0</td>\n",
       "      <td>Costa Mesa</td>\n",
       "      <td>92627</td>\n",
       "      <td>33.645672</td>\n",
       "      <td>-117.922613</td>\n",
       "      <td>0</td>\n",
       "      <td>...</td>\n",
       "      <td>Bank Withdrawal</td>\n",
       "      <td>73.90</td>\n",
       "      <td>280.85</td>\n",
       "      <td>0.00</td>\n",
       "      <td>0</td>\n",
       "      <td>134.60</td>\n",
       "      <td>415.45</td>\n",
       "      <td>Churned</td>\n",
       "      <td>Competitor</td>\n",
       "      <td>Competitor had better devices</td>\n",
       "    </tr>\n",
       "    <tr>\n",
       "      <th>3</th>\n",
       "      <td>0011-IGKFF</td>\n",
       "      <td>Male</td>\n",
       "      <td>78</td>\n",
       "      <td>Yes</td>\n",
       "      <td>0</td>\n",
       "      <td>Martinez</td>\n",
       "      <td>94553</td>\n",
       "      <td>38.014457</td>\n",
       "      <td>-122.115432</td>\n",
       "      <td>1</td>\n",
       "      <td>...</td>\n",
       "      <td>Bank Withdrawal</td>\n",
       "      <td>98.00</td>\n",
       "      <td>1237.85</td>\n",
       "      <td>0.00</td>\n",
       "      <td>0</td>\n",
       "      <td>361.66</td>\n",
       "      <td>1599.51</td>\n",
       "      <td>Churned</td>\n",
       "      <td>Dissatisfaction</td>\n",
       "      <td>Product dissatisfaction</td>\n",
       "    </tr>\n",
       "    <tr>\n",
       "      <th>4</th>\n",
       "      <td>0013-EXCHZ</td>\n",
       "      <td>Female</td>\n",
       "      <td>75</td>\n",
       "      <td>Yes</td>\n",
       "      <td>0</td>\n",
       "      <td>Camarillo</td>\n",
       "      <td>93010</td>\n",
       "      <td>34.227846</td>\n",
       "      <td>-119.079903</td>\n",
       "      <td>3</td>\n",
       "      <td>...</td>\n",
       "      <td>Credit Card</td>\n",
       "      <td>83.90</td>\n",
       "      <td>267.40</td>\n",
       "      <td>0.00</td>\n",
       "      <td>0</td>\n",
       "      <td>22.14</td>\n",
       "      <td>289.54</td>\n",
       "      <td>Churned</td>\n",
       "      <td>Dissatisfaction</td>\n",
       "      <td>Network reliability</td>\n",
       "    </tr>\n",
       "    <tr>\n",
       "      <th>...</th>\n",
       "      <td>...</td>\n",
       "      <td>...</td>\n",
       "      <td>...</td>\n",
       "      <td>...</td>\n",
       "      <td>...</td>\n",
       "      <td>...</td>\n",
       "      <td>...</td>\n",
       "      <td>...</td>\n",
       "      <td>...</td>\n",
       "      <td>...</td>\n",
       "      <td>...</td>\n",
       "      <td>...</td>\n",
       "      <td>...</td>\n",
       "      <td>...</td>\n",
       "      <td>...</td>\n",
       "      <td>...</td>\n",
       "      <td>...</td>\n",
       "      <td>...</td>\n",
       "      <td>...</td>\n",
       "      <td>...</td>\n",
       "      <td>...</td>\n",
       "    </tr>\n",
       "    <tr>\n",
       "      <th>7038</th>\n",
       "      <td>9987-LUTYD</td>\n",
       "      <td>Female</td>\n",
       "      <td>20</td>\n",
       "      <td>No</td>\n",
       "      <td>0</td>\n",
       "      <td>La Mesa</td>\n",
       "      <td>91941</td>\n",
       "      <td>32.759327</td>\n",
       "      <td>-116.997260</td>\n",
       "      <td>0</td>\n",
       "      <td>...</td>\n",
       "      <td>Credit Card</td>\n",
       "      <td>55.15</td>\n",
       "      <td>742.90</td>\n",
       "      <td>0.00</td>\n",
       "      <td>0</td>\n",
       "      <td>606.84</td>\n",
       "      <td>1349.74</td>\n",
       "      <td>Stayed</td>\n",
       "      <td>NaN</td>\n",
       "      <td>NaN</td>\n",
       "    </tr>\n",
       "    <tr>\n",
       "      <th>7039</th>\n",
       "      <td>9992-RRAMN</td>\n",
       "      <td>Male</td>\n",
       "      <td>40</td>\n",
       "      <td>Yes</td>\n",
       "      <td>0</td>\n",
       "      <td>Riverbank</td>\n",
       "      <td>95367</td>\n",
       "      <td>37.734971</td>\n",
       "      <td>-120.954271</td>\n",
       "      <td>1</td>\n",
       "      <td>...</td>\n",
       "      <td>Bank Withdrawal</td>\n",
       "      <td>85.10</td>\n",
       "      <td>1873.70</td>\n",
       "      <td>0.00</td>\n",
       "      <td>0</td>\n",
       "      <td>356.40</td>\n",
       "      <td>2230.10</td>\n",
       "      <td>Churned</td>\n",
       "      <td>Dissatisfaction</td>\n",
       "      <td>Product dissatisfaction</td>\n",
       "    </tr>\n",
       "    <tr>\n",
       "      <th>7040</th>\n",
       "      <td>9992-UJOEL</td>\n",
       "      <td>Male</td>\n",
       "      <td>22</td>\n",
       "      <td>No</td>\n",
       "      <td>0</td>\n",
       "      <td>Elk</td>\n",
       "      <td>95432</td>\n",
       "      <td>39.108252</td>\n",
       "      <td>-123.645121</td>\n",
       "      <td>0</td>\n",
       "      <td>...</td>\n",
       "      <td>Credit Card</td>\n",
       "      <td>50.30</td>\n",
       "      <td>92.75</td>\n",
       "      <td>0.00</td>\n",
       "      <td>0</td>\n",
       "      <td>37.24</td>\n",
       "      <td>129.99</td>\n",
       "      <td>Joined</td>\n",
       "      <td>NaN</td>\n",
       "      <td>NaN</td>\n",
       "    </tr>\n",
       "    <tr>\n",
       "      <th>7041</th>\n",
       "      <td>9993-LHIEB</td>\n",
       "      <td>Male</td>\n",
       "      <td>21</td>\n",
       "      <td>Yes</td>\n",
       "      <td>0</td>\n",
       "      <td>Solana Beach</td>\n",
       "      <td>92075</td>\n",
       "      <td>33.001813</td>\n",
       "      <td>-117.263628</td>\n",
       "      <td>5</td>\n",
       "      <td>...</td>\n",
       "      <td>Credit Card</td>\n",
       "      <td>67.85</td>\n",
       "      <td>4627.65</td>\n",
       "      <td>0.00</td>\n",
       "      <td>0</td>\n",
       "      <td>142.04</td>\n",
       "      <td>4769.69</td>\n",
       "      <td>Stayed</td>\n",
       "      <td>NaN</td>\n",
       "      <td>NaN</td>\n",
       "    </tr>\n",
       "    <tr>\n",
       "      <th>7042</th>\n",
       "      <td>9995-HOTOH</td>\n",
       "      <td>Male</td>\n",
       "      <td>36</td>\n",
       "      <td>Yes</td>\n",
       "      <td>0</td>\n",
       "      <td>Sierra City</td>\n",
       "      <td>96125</td>\n",
       "      <td>39.600599</td>\n",
       "      <td>-120.636358</td>\n",
       "      <td>1</td>\n",
       "      <td>...</td>\n",
       "      <td>Bank Withdrawal</td>\n",
       "      <td>59.00</td>\n",
       "      <td>3707.60</td>\n",
       "      <td>0.00</td>\n",
       "      <td>0</td>\n",
       "      <td>0.00</td>\n",
       "      <td>3707.60</td>\n",
       "      <td>Stayed</td>\n",
       "      <td>NaN</td>\n",
       "      <td>NaN</td>\n",
       "    </tr>\n",
       "  </tbody>\n",
       "</table>\n",
       "<p>7043 rows × 38 columns</p>\n",
       "</div>"
      ],
      "text/plain": [
       "     Customer ID  Gender  Age Married  Number of Dependents          City  \\\n",
       "0     0002-ORFBO  Female   37     Yes                     0  Frazier Park   \n",
       "1     0003-MKNFE    Male   46      No                     0      Glendale   \n",
       "2     0004-TLHLJ    Male   50      No                     0    Costa Mesa   \n",
       "3     0011-IGKFF    Male   78     Yes                     0      Martinez   \n",
       "4     0013-EXCHZ  Female   75     Yes                     0     Camarillo   \n",
       "...          ...     ...  ...     ...                   ...           ...   \n",
       "7038  9987-LUTYD  Female   20      No                     0       La Mesa   \n",
       "7039  9992-RRAMN    Male   40     Yes                     0     Riverbank   \n",
       "7040  9992-UJOEL    Male   22      No                     0           Elk   \n",
       "7041  9993-LHIEB    Male   21     Yes                     0  Solana Beach   \n",
       "7042  9995-HOTOH    Male   36     Yes                     0   Sierra City   \n",
       "\n",
       "      Zip Code   Latitude   Longitude  Number of Referrals  ...  \\\n",
       "0        93225  34.827662 -118.999073                    2  ...   \n",
       "1        91206  34.162515 -118.203869                    0  ...   \n",
       "2        92627  33.645672 -117.922613                    0  ...   \n",
       "3        94553  38.014457 -122.115432                    1  ...   \n",
       "4        93010  34.227846 -119.079903                    3  ...   \n",
       "...        ...        ...         ...                  ...  ...   \n",
       "7038     91941  32.759327 -116.997260                    0  ...   \n",
       "7039     95367  37.734971 -120.954271                    1  ...   \n",
       "7040     95432  39.108252 -123.645121                    0  ...   \n",
       "7041     92075  33.001813 -117.263628                    5  ...   \n",
       "7042     96125  39.600599 -120.636358                    1  ...   \n",
       "\n",
       "       Payment Method Monthly Charge Total Charges  Total Refunds  \\\n",
       "0         Credit Card          65.60        593.30           0.00   \n",
       "1         Credit Card          -4.00        542.40          38.33   \n",
       "2     Bank Withdrawal          73.90        280.85           0.00   \n",
       "3     Bank Withdrawal          98.00       1237.85           0.00   \n",
       "4         Credit Card          83.90        267.40           0.00   \n",
       "...               ...            ...           ...            ...   \n",
       "7038      Credit Card          55.15        742.90           0.00   \n",
       "7039  Bank Withdrawal          85.10       1873.70           0.00   \n",
       "7040      Credit Card          50.30         92.75           0.00   \n",
       "7041      Credit Card          67.85       4627.65           0.00   \n",
       "7042  Bank Withdrawal          59.00       3707.60           0.00   \n",
       "\n",
       "     Total Extra Data Charges Total Long Distance Charges Total Revenue  \\\n",
       "0                           0                      381.51        974.81   \n",
       "1                          10                       96.21        610.28   \n",
       "2                           0                      134.60        415.45   \n",
       "3                           0                      361.66       1599.51   \n",
       "4                           0                       22.14        289.54   \n",
       "...                       ...                         ...           ...   \n",
       "7038                        0                      606.84       1349.74   \n",
       "7039                        0                      356.40       2230.10   \n",
       "7040                        0                       37.24        129.99   \n",
       "7041                        0                      142.04       4769.69   \n",
       "7042                        0                        0.00       3707.60   \n",
       "\n",
       "      Customer Status   Churn Category                   Churn Reason  \n",
       "0              Stayed              NaN                            NaN  \n",
       "1              Stayed              NaN                            NaN  \n",
       "2             Churned       Competitor  Competitor had better devices  \n",
       "3             Churned  Dissatisfaction        Product dissatisfaction  \n",
       "4             Churned  Dissatisfaction            Network reliability  \n",
       "...               ...              ...                            ...  \n",
       "7038           Stayed              NaN                            NaN  \n",
       "7039          Churned  Dissatisfaction        Product dissatisfaction  \n",
       "7040           Joined              NaN                            NaN  \n",
       "7041           Stayed              NaN                            NaN  \n",
       "7042           Stayed              NaN                            NaN  \n",
       "\n",
       "[7043 rows x 38 columns]"
      ]
     },
     "execution_count": 919,
     "metadata": {},
     "output_type": "execute_result"
    }
   ],
   "source": [
    "df=pd.read_csv(\"telecom_customer_churn.csv\")\n",
    "df"
   ]
  },
  {
   "cell_type": "markdown",
   "id": "daf04736",
   "metadata": {},
   "source": [
    "Perfecto!, lo primero que haremos es recodificar el nombre de las columnas al español."
   ]
  },
  {
   "cell_type": "markdown",
   "id": "56f44da8",
   "metadata": {},
   "source": [
    "#### Recodificar el nombre de las columnas a español"
   ]
  },
  {
   "cell_type": "code",
   "execution_count": 920,
   "id": "7eb14f0c",
   "metadata": {},
   "outputs": [],
   "source": [
    "df.columns=['id_consumidor', 'genero', 'edad', 'casado', 'num_dependientes', 'ciudad', 'zip_code', 'latitud', 'longitud', \n",
    " 'num_referencias', 'antiguedad_meses', 'oferta', 'servicio_telefonico', 'cargos_larga_distancia', 'lineas_multiples',\n",
    " 'servicio_internet', 'tipo_internet', 'gigas_promedio_descargas', 'seguridad_online', 'respaldo_online', \n",
    " 'plan_proteccion_equipo', 'soporte_tech_premium', 'servicio_tv', 'servicio_peliculas', 'servicio_musica', \n",
    " 'datos_ilimitados', 'contrato', 'factura_fisica', 'tipo_pago', 'cargo_mensual', 'cargos_totales', 'total_reembolsos',\n",
    " 'total_extra_cargos', 'total_larga_distancia_cargos', 'total_ingreso', 'estado_consumidor', 'categoria_churn', \n",
    " 'razon_churn']"
   ]
  },
  {
   "cell_type": "markdown",
   "id": "5dfb286f",
   "metadata": {},
   "source": [
    "#### Estadísticos de resumen de nuestra base de clientes"
   ]
  },
  {
   "cell_type": "code",
   "execution_count": 921,
   "id": "01a734e0",
   "metadata": {},
   "outputs": [
    {
     "data": {
      "text/html": [
       "<div>\n",
       "<style scoped>\n",
       "    .dataframe tbody tr th:only-of-type {\n",
       "        vertical-align: middle;\n",
       "    }\n",
       "\n",
       "    .dataframe tbody tr th {\n",
       "        vertical-align: top;\n",
       "    }\n",
       "\n",
       "    .dataframe thead th {\n",
       "        text-align: right;\n",
       "    }\n",
       "</style>\n",
       "<table border=\"1\" class=\"dataframe\">\n",
       "  <thead>\n",
       "    <tr style=\"text-align: right;\">\n",
       "      <th></th>\n",
       "      <th>edad</th>\n",
       "      <th>num_dependientes</th>\n",
       "      <th>zip_code</th>\n",
       "      <th>latitud</th>\n",
       "      <th>longitud</th>\n",
       "      <th>num_referencias</th>\n",
       "      <th>antiguedad_meses</th>\n",
       "      <th>cargos_larga_distancia</th>\n",
       "      <th>gigas_promedio_descargas</th>\n",
       "      <th>cargo_mensual</th>\n",
       "      <th>cargos_totales</th>\n",
       "      <th>total_reembolsos</th>\n",
       "      <th>total_extra_cargos</th>\n",
       "      <th>total_larga_distancia_cargos</th>\n",
       "      <th>total_ingreso</th>\n",
       "    </tr>\n",
       "  </thead>\n",
       "  <tbody>\n",
       "    <tr>\n",
       "      <th>count</th>\n",
       "      <td>7043.000000</td>\n",
       "      <td>7043.000000</td>\n",
       "      <td>7043.000000</td>\n",
       "      <td>7043.000000</td>\n",
       "      <td>7043.000000</td>\n",
       "      <td>7043.000000</td>\n",
       "      <td>7043.000000</td>\n",
       "      <td>6361.000000</td>\n",
       "      <td>5517.000000</td>\n",
       "      <td>7043.000000</td>\n",
       "      <td>7043.000000</td>\n",
       "      <td>7043.000000</td>\n",
       "      <td>7043.000000</td>\n",
       "      <td>7043.000000</td>\n",
       "      <td>7043.000000</td>\n",
       "    </tr>\n",
       "    <tr>\n",
       "      <th>mean</th>\n",
       "      <td>46.509726</td>\n",
       "      <td>0.468692</td>\n",
       "      <td>93486.070567</td>\n",
       "      <td>36.197455</td>\n",
       "      <td>-119.756684</td>\n",
       "      <td>1.951867</td>\n",
       "      <td>32.386767</td>\n",
       "      <td>25.420517</td>\n",
       "      <td>26.189958</td>\n",
       "      <td>63.596131</td>\n",
       "      <td>2280.381264</td>\n",
       "      <td>1.962182</td>\n",
       "      <td>6.860713</td>\n",
       "      <td>749.099262</td>\n",
       "      <td>3034.379056</td>\n",
       "    </tr>\n",
       "    <tr>\n",
       "      <th>std</th>\n",
       "      <td>16.750352</td>\n",
       "      <td>0.962802</td>\n",
       "      <td>1856.767505</td>\n",
       "      <td>2.468929</td>\n",
       "      <td>2.154425</td>\n",
       "      <td>3.001199</td>\n",
       "      <td>24.542061</td>\n",
       "      <td>14.200374</td>\n",
       "      <td>19.586585</td>\n",
       "      <td>31.204743</td>\n",
       "      <td>2266.220462</td>\n",
       "      <td>7.902614</td>\n",
       "      <td>25.104978</td>\n",
       "      <td>846.660055</td>\n",
       "      <td>2865.204542</td>\n",
       "    </tr>\n",
       "    <tr>\n",
       "      <th>min</th>\n",
       "      <td>19.000000</td>\n",
       "      <td>0.000000</td>\n",
       "      <td>90001.000000</td>\n",
       "      <td>32.555828</td>\n",
       "      <td>-124.301372</td>\n",
       "      <td>0.000000</td>\n",
       "      <td>1.000000</td>\n",
       "      <td>1.010000</td>\n",
       "      <td>2.000000</td>\n",
       "      <td>-10.000000</td>\n",
       "      <td>18.800000</td>\n",
       "      <td>0.000000</td>\n",
       "      <td>0.000000</td>\n",
       "      <td>0.000000</td>\n",
       "      <td>21.360000</td>\n",
       "    </tr>\n",
       "    <tr>\n",
       "      <th>25%</th>\n",
       "      <td>32.000000</td>\n",
       "      <td>0.000000</td>\n",
       "      <td>92101.000000</td>\n",
       "      <td>33.990646</td>\n",
       "      <td>-121.788090</td>\n",
       "      <td>0.000000</td>\n",
       "      <td>9.000000</td>\n",
       "      <td>13.050000</td>\n",
       "      <td>13.000000</td>\n",
       "      <td>30.400000</td>\n",
       "      <td>400.150000</td>\n",
       "      <td>0.000000</td>\n",
       "      <td>0.000000</td>\n",
       "      <td>70.545000</td>\n",
       "      <td>605.610000</td>\n",
       "    </tr>\n",
       "    <tr>\n",
       "      <th>50%</th>\n",
       "      <td>46.000000</td>\n",
       "      <td>0.000000</td>\n",
       "      <td>93518.000000</td>\n",
       "      <td>36.205465</td>\n",
       "      <td>-119.595293</td>\n",
       "      <td>0.000000</td>\n",
       "      <td>29.000000</td>\n",
       "      <td>25.690000</td>\n",
       "      <td>21.000000</td>\n",
       "      <td>70.050000</td>\n",
       "      <td>1394.550000</td>\n",
       "      <td>0.000000</td>\n",
       "      <td>0.000000</td>\n",
       "      <td>401.440000</td>\n",
       "      <td>2108.640000</td>\n",
       "    </tr>\n",
       "    <tr>\n",
       "      <th>75%</th>\n",
       "      <td>60.000000</td>\n",
       "      <td>0.000000</td>\n",
       "      <td>95329.000000</td>\n",
       "      <td>38.161321</td>\n",
       "      <td>-117.969795</td>\n",
       "      <td>3.000000</td>\n",
       "      <td>55.000000</td>\n",
       "      <td>37.680000</td>\n",
       "      <td>30.000000</td>\n",
       "      <td>89.750000</td>\n",
       "      <td>3786.600000</td>\n",
       "      <td>0.000000</td>\n",
       "      <td>0.000000</td>\n",
       "      <td>1191.100000</td>\n",
       "      <td>4801.145000</td>\n",
       "    </tr>\n",
       "    <tr>\n",
       "      <th>max</th>\n",
       "      <td>80.000000</td>\n",
       "      <td>9.000000</td>\n",
       "      <td>96150.000000</td>\n",
       "      <td>41.962127</td>\n",
       "      <td>-114.192901</td>\n",
       "      <td>11.000000</td>\n",
       "      <td>72.000000</td>\n",
       "      <td>49.990000</td>\n",
       "      <td>85.000000</td>\n",
       "      <td>118.750000</td>\n",
       "      <td>8684.800000</td>\n",
       "      <td>49.790000</td>\n",
       "      <td>150.000000</td>\n",
       "      <td>3564.720000</td>\n",
       "      <td>11979.340000</td>\n",
       "    </tr>\n",
       "  </tbody>\n",
       "</table>\n",
       "</div>"
      ],
      "text/plain": [
       "              edad  num_dependientes      zip_code      latitud     longitud  \\\n",
       "count  7043.000000       7043.000000   7043.000000  7043.000000  7043.000000   \n",
       "mean     46.509726          0.468692  93486.070567    36.197455  -119.756684   \n",
       "std      16.750352          0.962802   1856.767505     2.468929     2.154425   \n",
       "min      19.000000          0.000000  90001.000000    32.555828  -124.301372   \n",
       "25%      32.000000          0.000000  92101.000000    33.990646  -121.788090   \n",
       "50%      46.000000          0.000000  93518.000000    36.205465  -119.595293   \n",
       "75%      60.000000          0.000000  95329.000000    38.161321  -117.969795   \n",
       "max      80.000000          9.000000  96150.000000    41.962127  -114.192901   \n",
       "\n",
       "       num_referencias  antiguedad_meses  cargos_larga_distancia  \\\n",
       "count      7043.000000       7043.000000             6361.000000   \n",
       "mean          1.951867         32.386767               25.420517   \n",
       "std           3.001199         24.542061               14.200374   \n",
       "min           0.000000          1.000000                1.010000   \n",
       "25%           0.000000          9.000000               13.050000   \n",
       "50%           0.000000         29.000000               25.690000   \n",
       "75%           3.000000         55.000000               37.680000   \n",
       "max          11.000000         72.000000               49.990000   \n",
       "\n",
       "       gigas_promedio_descargas  cargo_mensual  cargos_totales  \\\n",
       "count               5517.000000    7043.000000     7043.000000   \n",
       "mean                  26.189958      63.596131     2280.381264   \n",
       "std                   19.586585      31.204743     2266.220462   \n",
       "min                    2.000000     -10.000000       18.800000   \n",
       "25%                   13.000000      30.400000      400.150000   \n",
       "50%                   21.000000      70.050000     1394.550000   \n",
       "75%                   30.000000      89.750000     3786.600000   \n",
       "max                   85.000000     118.750000     8684.800000   \n",
       "\n",
       "       total_reembolsos  total_extra_cargos  total_larga_distancia_cargos  \\\n",
       "count       7043.000000         7043.000000                   7043.000000   \n",
       "mean           1.962182            6.860713                    749.099262   \n",
       "std            7.902614           25.104978                    846.660055   \n",
       "min            0.000000            0.000000                      0.000000   \n",
       "25%            0.000000            0.000000                     70.545000   \n",
       "50%            0.000000            0.000000                    401.440000   \n",
       "75%            0.000000            0.000000                   1191.100000   \n",
       "max           49.790000          150.000000                   3564.720000   \n",
       "\n",
       "       total_ingreso  \n",
       "count    7043.000000  \n",
       "mean     3034.379056  \n",
       "std      2865.204542  \n",
       "min        21.360000  \n",
       "25%       605.610000  \n",
       "50%      2108.640000  \n",
       "75%      4801.145000  \n",
       "max     11979.340000  "
      ]
     },
     "execution_count": 921,
     "metadata": {},
     "output_type": "execute_result"
    }
   ],
   "source": [
    "df.describe()"
   ]
  },
  {
   "cell_type": "markdown",
   "id": "29e7f8b2",
   "metadata": {},
   "source": [
    "#### Comentarios repecto a alguna variable?"
   ]
  },
  {
   "cell_type": "markdown",
   "id": "ad10dc8e",
   "metadata": {},
   "source": [
    " "
   ]
  },
  {
   "cell_type": "markdown",
   "id": "3be8262d",
   "metadata": {},
   "source": [
    " "
   ]
  },
  {
   "cell_type": "markdown",
   "id": "95d89490",
   "metadata": {},
   "source": [
    "Como podemos observar tenemos un total de 15 columnas numéricas, algunas de ellas sin mucho valor predictivo como:el id_del cliente, el código postal y las coordenadas contenidas en longitud y latitud."
   ]
  },
  {
   "cell_type": "markdown",
   "id": "c4e75433",
   "metadata": {},
   "source": [
    "Del método .describe() podemos observar que en las columnas de los totales, el valor mínimo es cero, analicemos estas columnas a mayor profundidad: "
   ]
  },
  {
   "cell_type": "code",
   "execution_count": 922,
   "id": "85537088",
   "metadata": {},
   "outputs": [
    {
     "data": {
      "text/html": [
       "<div>\n",
       "<style scoped>\n",
       "    .dataframe tbody tr th:only-of-type {\n",
       "        vertical-align: middle;\n",
       "    }\n",
       "\n",
       "    .dataframe tbody tr th {\n",
       "        vertical-align: top;\n",
       "    }\n",
       "\n",
       "    .dataframe thead th {\n",
       "        text-align: right;\n",
       "    }\n",
       "</style>\n",
       "<table border=\"1\" class=\"dataframe\">\n",
       "  <thead>\n",
       "    <tr style=\"text-align: right;\">\n",
       "      <th></th>\n",
       "      <th>total_reembolsos</th>\n",
       "    </tr>\n",
       "  </thead>\n",
       "  <tbody>\n",
       "    <tr>\n",
       "      <th>0.00</th>\n",
       "      <td>0.93</td>\n",
       "    </tr>\n",
       "    <tr>\n",
       "      <th>16.56</th>\n",
       "      <td>0.00</td>\n",
       "    </tr>\n",
       "    <tr>\n",
       "      <th>8.74</th>\n",
       "      <td>0.00</td>\n",
       "    </tr>\n",
       "    <tr>\n",
       "      <th>1.31</th>\n",
       "      <td>0.00</td>\n",
       "    </tr>\n",
       "    <tr>\n",
       "      <th>41.74</th>\n",
       "      <td>0.00</td>\n",
       "    </tr>\n",
       "    <tr>\n",
       "      <th>...</th>\n",
       "      <td>...</td>\n",
       "    </tr>\n",
       "    <tr>\n",
       "      <th>31.90</th>\n",
       "      <td>0.00</td>\n",
       "    </tr>\n",
       "    <tr>\n",
       "      <th>12.07</th>\n",
       "      <td>0.00</td>\n",
       "    </tr>\n",
       "    <tr>\n",
       "      <th>37.37</th>\n",
       "      <td>0.00</td>\n",
       "    </tr>\n",
       "    <tr>\n",
       "      <th>48.59</th>\n",
       "      <td>0.00</td>\n",
       "    </tr>\n",
       "    <tr>\n",
       "      <th>10.20</th>\n",
       "      <td>0.00</td>\n",
       "    </tr>\n",
       "  </tbody>\n",
       "</table>\n",
       "<p>500 rows × 1 columns</p>\n",
       "</div>"
      ],
      "text/plain": [
       "       total_reembolsos\n",
       "0.00               0.93\n",
       "16.56              0.00\n",
       "8.74               0.00\n",
       "1.31               0.00\n",
       "41.74              0.00\n",
       "...                 ...\n",
       "31.90              0.00\n",
       "12.07              0.00\n",
       "37.37              0.00\n",
       "48.59              0.00\n",
       "10.20              0.00\n",
       "\n",
       "[500 rows x 1 columns]"
      ]
     },
     "execution_count": 922,
     "metadata": {},
     "output_type": "execute_result"
    }
   ],
   "source": [
    "pd.DataFrame(df.total_reembolsos.value_counts(normalize=True).round(2))"
   ]
  },
  {
   "cell_type": "code",
   "execution_count": 923,
   "id": "b9653d5f",
   "metadata": {},
   "outputs": [
    {
     "data": {
      "text/html": [
       "<div>\n",
       "<style scoped>\n",
       "    .dataframe tbody tr th:only-of-type {\n",
       "        vertical-align: middle;\n",
       "    }\n",
       "\n",
       "    .dataframe tbody tr th {\n",
       "        vertical-align: top;\n",
       "    }\n",
       "\n",
       "    .dataframe thead th {\n",
       "        text-align: right;\n",
       "    }\n",
       "</style>\n",
       "<table border=\"1\" class=\"dataframe\">\n",
       "  <thead>\n",
       "    <tr style=\"text-align: right;\">\n",
       "      <th></th>\n",
       "      <th>total_extra_cargos</th>\n",
       "    </tr>\n",
       "  </thead>\n",
       "  <tbody>\n",
       "    <tr>\n",
       "      <th>0</th>\n",
       "      <td>0.90</td>\n",
       "    </tr>\n",
       "    <tr>\n",
       "      <th>10</th>\n",
       "      <td>0.02</td>\n",
       "    </tr>\n",
       "    <tr>\n",
       "      <th>40</th>\n",
       "      <td>0.01</td>\n",
       "    </tr>\n",
       "    <tr>\n",
       "      <th>30</th>\n",
       "      <td>0.01</td>\n",
       "    </tr>\n",
       "    <tr>\n",
       "      <th>20</th>\n",
       "      <td>0.01</td>\n",
       "    </tr>\n",
       "    <tr>\n",
       "      <th>80</th>\n",
       "      <td>0.01</td>\n",
       "    </tr>\n",
       "    <tr>\n",
       "      <th>100</th>\n",
       "      <td>0.01</td>\n",
       "    </tr>\n",
       "    <tr>\n",
       "      <th>50</th>\n",
       "      <td>0.01</td>\n",
       "    </tr>\n",
       "    <tr>\n",
       "      <th>150</th>\n",
       "      <td>0.01</td>\n",
       "    </tr>\n",
       "    <tr>\n",
       "      <th>130</th>\n",
       "      <td>0.01</td>\n",
       "    </tr>\n",
       "    <tr>\n",
       "      <th>140</th>\n",
       "      <td>0.01</td>\n",
       "    </tr>\n",
       "    <tr>\n",
       "      <th>60</th>\n",
       "      <td>0.01</td>\n",
       "    </tr>\n",
       "    <tr>\n",
       "      <th>90</th>\n",
       "      <td>0.00</td>\n",
       "    </tr>\n",
       "    <tr>\n",
       "      <th>70</th>\n",
       "      <td>0.00</td>\n",
       "    </tr>\n",
       "    <tr>\n",
       "      <th>110</th>\n",
       "      <td>0.00</td>\n",
       "    </tr>\n",
       "    <tr>\n",
       "      <th>120</th>\n",
       "      <td>0.00</td>\n",
       "    </tr>\n",
       "  </tbody>\n",
       "</table>\n",
       "</div>"
      ],
      "text/plain": [
       "     total_extra_cargos\n",
       "0                  0.90\n",
       "10                 0.02\n",
       "40                 0.01\n",
       "30                 0.01\n",
       "20                 0.01\n",
       "80                 0.01\n",
       "100                0.01\n",
       "50                 0.01\n",
       "150                0.01\n",
       "130                0.01\n",
       "140                0.01\n",
       "60                 0.01\n",
       "90                 0.00\n",
       "70                 0.00\n",
       "110                0.00\n",
       "120                0.00"
      ]
     },
     "execution_count": 923,
     "metadata": {},
     "output_type": "execute_result"
    }
   ],
   "source": [
    "pd.DataFrame(df.total_extra_cargos.value_counts(normalize=True).round(2))"
   ]
  },
  {
   "cell_type": "code",
   "execution_count": 924,
   "id": "c5cdeb1e",
   "metadata": {},
   "outputs": [
    {
     "data": {
      "text/html": [
       "<div>\n",
       "<style scoped>\n",
       "    .dataframe tbody tr th:only-of-type {\n",
       "        vertical-align: middle;\n",
       "    }\n",
       "\n",
       "    .dataframe tbody tr th {\n",
       "        vertical-align: top;\n",
       "    }\n",
       "\n",
       "    .dataframe thead th {\n",
       "        text-align: right;\n",
       "    }\n",
       "</style>\n",
       "<table border=\"1\" class=\"dataframe\">\n",
       "  <thead>\n",
       "    <tr style=\"text-align: right;\">\n",
       "      <th></th>\n",
       "      <th>total_larga_distancia_cargos</th>\n",
       "    </tr>\n",
       "  </thead>\n",
       "  <tbody>\n",
       "    <tr>\n",
       "      <th>0.00</th>\n",
       "      <td>0.1</td>\n",
       "    </tr>\n",
       "    <tr>\n",
       "      <th>15.60</th>\n",
       "      <td>0.0</td>\n",
       "    </tr>\n",
       "    <tr>\n",
       "      <th>48.96</th>\n",
       "      <td>0.0</td>\n",
       "    </tr>\n",
       "    <tr>\n",
       "      <th>22.86</th>\n",
       "      <td>0.0</td>\n",
       "    </tr>\n",
       "    <tr>\n",
       "      <th>597.60</th>\n",
       "      <td>0.0</td>\n",
       "    </tr>\n",
       "    <tr>\n",
       "      <th>...</th>\n",
       "      <td>...</td>\n",
       "    </tr>\n",
       "    <tr>\n",
       "      <th>200.75</th>\n",
       "      <td>0.0</td>\n",
       "    </tr>\n",
       "    <tr>\n",
       "      <th>217.62</th>\n",
       "      <td>0.0</td>\n",
       "    </tr>\n",
       "    <tr>\n",
       "      <th>2288.43</th>\n",
       "      <td>0.0</td>\n",
       "    </tr>\n",
       "    <tr>\n",
       "      <th>1417.68</th>\n",
       "      <td>0.0</td>\n",
       "    </tr>\n",
       "    <tr>\n",
       "      <th>142.04</th>\n",
       "      <td>0.0</td>\n",
       "    </tr>\n",
       "  </tbody>\n",
       "</table>\n",
       "<p>6068 rows × 1 columns</p>\n",
       "</div>"
      ],
      "text/plain": [
       "         total_larga_distancia_cargos\n",
       "0.00                              0.1\n",
       "15.60                             0.0\n",
       "48.96                             0.0\n",
       "22.86                             0.0\n",
       "597.60                            0.0\n",
       "...                               ...\n",
       "200.75                            0.0\n",
       "217.62                            0.0\n",
       "2288.43                           0.0\n",
       "1417.68                           0.0\n",
       "142.04                            0.0\n",
       "\n",
       "[6068 rows x 1 columns]"
      ]
     },
     "execution_count": 924,
     "metadata": {},
     "output_type": "execute_result"
    }
   ],
   "source": [
    "pd.DataFrame(df.total_larga_distancia_cargos.value_counts(normalize=True).round(2))"
   ]
  },
  {
   "cell_type": "markdown",
   "id": "e281300d",
   "metadata": {},
   "source": [
    "De la exploración visual de cada una de las variables podemos notar que en los totales, predomina el valor cero, de hecho es su gran mayoría, por lo que podemos binarizar estas columnas para que entren en el modelo de una forma más elegante y no como una variable numérica."
   ]
  },
  {
   "cell_type": "markdown",
   "id": "87bc7565",
   "metadata": {},
   "source": [
    "#### Binarización de los totales"
   ]
  },
  {
   "cell_type": "code",
   "execution_count": 925,
   "id": "1bd11593",
   "metadata": {},
   "outputs": [],
   "source": [
    "df.total_reembolsos             = np.where(df.total_reembolsos == 0,'no','si')\n",
    "df.total_extra_cargos           = np.where(df.total_extra_cargos == 0,'no','si')\n",
    "df.total_larga_distancia_cargos = np.where(df.total_larga_distancia_cargos == 0,'no','si')"
   ]
  },
  {
   "cell_type": "markdown",
   "id": "a8b4a0b6",
   "metadata": {},
   "source": [
    "Perfecto! comprobemos que efctivamente estas variables hayan sido recodificadas a variables categóricas:"
   ]
  },
  {
   "cell_type": "code",
   "execution_count": 926,
   "id": "a290456b",
   "metadata": {},
   "outputs": [
    {
     "data": {
      "text/plain": [
       "id_consumidor                    object\n",
       "genero                           object\n",
       "edad                              int64\n",
       "casado                           object\n",
       "num_dependientes                  int64\n",
       "ciudad                           object\n",
       "zip_code                          int64\n",
       "latitud                         float64\n",
       "longitud                        float64\n",
       "num_referencias                   int64\n",
       "antiguedad_meses                  int64\n",
       "oferta                           object\n",
       "servicio_telefonico              object\n",
       "cargos_larga_distancia          float64\n",
       "lineas_multiples                 object\n",
       "servicio_internet                object\n",
       "tipo_internet                    object\n",
       "gigas_promedio_descargas        float64\n",
       "seguridad_online                 object\n",
       "respaldo_online                  object\n",
       "plan_proteccion_equipo           object\n",
       "soporte_tech_premium             object\n",
       "servicio_tv                      object\n",
       "servicio_peliculas               object\n",
       "servicio_musica                  object\n",
       "datos_ilimitados                 object\n",
       "contrato                         object\n",
       "factura_fisica                   object\n",
       "tipo_pago                        object\n",
       "cargo_mensual                   float64\n",
       "cargos_totales                  float64\n",
       "total_reembolsos                 object\n",
       "total_extra_cargos               object\n",
       "total_larga_distancia_cargos     object\n",
       "total_ingreso                   float64\n",
       "estado_consumidor                object\n",
       "categoria_churn                  object\n",
       "razon_churn                      object\n",
       "dtype: object"
      ]
     },
     "execution_count": 926,
     "metadata": {},
     "output_type": "execute_result"
    }
   ],
   "source": [
    "df.dtypes"
   ]
  },
  {
   "cell_type": "markdown",
   "id": "7642dc10",
   "metadata": {},
   "source": [
    "### Datos perdidos"
   ]
  },
  {
   "cell_type": "markdown",
   "id": "103c5217",
   "metadata": {},
   "source": [
    "\n",
    "Recordemos que una regla básica para eliminar valores perdidos u observaciones que se encuentren erróneas es basándonos en:"
   ]
  },
  {
   "cell_type": "markdown",
   "id": "d8a4c6c6",
   "metadata": {},
   "source": [
    "- Siempre es mejor conservar los datos que descartarlos. Como regla general, se puede descartar variables si los datos faltantes corresponden a más del 60% de las observaciones, siempre teniendo en cuenta que la imputación es preferida sobre la eliminación de variables\n",
    "\n",
    "Existen 3 categorías de datos perdidos:\n",
    "\n",
    "   - Falta al azar (MAR): Cuando la propensión a que falte un punto de datos no está relacionado con los datos faltantes, pero sí con algunos de los datos observados.\n",
    "   \n",
    "   \n",
    "   - Missing Completely at Random (MCAR): Cuando el missing value no tiene nada que ver con su valor hipotético y con los valores de otras variables\n",
    "   \n",
    "   \n",
    "   - Missing not at Random (MNAR): Cuando los missing values dependen del valor hipotético (por ejemplo, las personas con salarios altos generalmente no quieren revelar sus ingresos en las encuestas) o cuando los missing values dependen del valor de alguna otra variable (por ejemplo, cuando en encuestas las mujeres no quieren revelar su edad. Aquí, el valor que falta en la variable de edad se ve afectado por la variable de género)\n"
   ]
  },
  {
   "cell_type": "markdown",
   "id": "44243768",
   "metadata": {},
   "source": [
    "En los primeros dos casos, es seguro eliminar los datos con valores faltantes dependiendo de sus ocurrencias, mientras que en el tercer caso, eliminar las observaciones con valores faltantes puede producir un sesgo en el modelo. Así que tenemos que tener mucho cuidado antes de eliminar las observaciones."
   ]
  },
  {
   "cell_type": "markdown",
   "id": "0009baa6",
   "metadata": {},
   "source": [
    "Exploremos en nuestra base si existen valores perdidos:"
   ]
  },
  {
   "cell_type": "code",
   "execution_count": 927,
   "id": "da536077",
   "metadata": {},
   "outputs": [
    {
     "data": {
      "text/plain": [
       "id_consumidor                      0\n",
       "genero                             0\n",
       "edad                               0\n",
       "casado                             0\n",
       "num_dependientes                   0\n",
       "ciudad                             0\n",
       "zip_code                           0\n",
       "latitud                            0\n",
       "longitud                           0\n",
       "num_referencias                    0\n",
       "antiguedad_meses                   0\n",
       "oferta                             0\n",
       "servicio_telefonico                0\n",
       "cargos_larga_distancia           682\n",
       "lineas_multiples                 682\n",
       "servicio_internet                  0\n",
       "tipo_internet                   1526\n",
       "gigas_promedio_descargas        1526\n",
       "seguridad_online                1526\n",
       "respaldo_online                 1526\n",
       "plan_proteccion_equipo          1526\n",
       "soporte_tech_premium            1526\n",
       "servicio_tv                     1526\n",
       "servicio_peliculas              1526\n",
       "servicio_musica                 1526\n",
       "datos_ilimitados                1526\n",
       "contrato                           0\n",
       "factura_fisica                     0\n",
       "tipo_pago                          0\n",
       "cargo_mensual                      0\n",
       "cargos_totales                     0\n",
       "total_reembolsos                   0\n",
       "total_extra_cargos                 0\n",
       "total_larga_distancia_cargos       0\n",
       "total_ingreso                      0\n",
       "estado_consumidor                  0\n",
       "categoria_churn                 5174\n",
       "razon_churn                     5174\n",
       "dtype: int64"
      ]
     },
     "execution_count": 927,
     "metadata": {},
     "output_type": "execute_result"
    }
   ],
   "source": [
    "df.isna().sum()"
   ]
  },
  {
   "cell_type": "markdown",
   "id": "ac084496",
   "metadata": {},
   "source": [
    "Las últimas dos columnas parece que sobrepasan el umbral de tolerancia de valores perdidos, asi que comencemos el análisis con ellas, para ello calculemos el porcentaje de los valores perdidos en el dataframe."
   ]
  },
  {
   "cell_type": "code",
   "execution_count": 928,
   "id": "174b0c74",
   "metadata": {},
   "outputs": [
    {
     "data": {
      "text/plain": [
       "id_consumidor                   0.00\n",
       "genero                          0.00\n",
       "edad                            0.00\n",
       "casado                          0.00\n",
       "num_dependientes                0.00\n",
       "ciudad                          0.00\n",
       "zip_code                        0.00\n",
       "latitud                         0.00\n",
       "longitud                        0.00\n",
       "num_referencias                 0.00\n",
       "antiguedad_meses                0.00\n",
       "oferta                          0.00\n",
       "servicio_telefonico             0.00\n",
       "cargos_larga_distancia          0.10\n",
       "lineas_multiples                0.10\n",
       "servicio_internet               0.00\n",
       "tipo_internet                   0.22\n",
       "gigas_promedio_descargas        0.22\n",
       "seguridad_online                0.22\n",
       "respaldo_online                 0.22\n",
       "plan_proteccion_equipo          0.22\n",
       "soporte_tech_premium            0.22\n",
       "servicio_tv                     0.22\n",
       "servicio_peliculas              0.22\n",
       "servicio_musica                 0.22\n",
       "datos_ilimitados                0.22\n",
       "contrato                        0.00\n",
       "factura_fisica                  0.00\n",
       "tipo_pago                       0.00\n",
       "cargo_mensual                   0.00\n",
       "cargos_totales                  0.00\n",
       "total_reembolsos                0.00\n",
       "total_extra_cargos              0.00\n",
       "total_larga_distancia_cargos    0.00\n",
       "total_ingreso                   0.00\n",
       "estado_consumidor               0.00\n",
       "categoria_churn                 0.73\n",
       "razon_churn                     0.73\n",
       "dtype: float64"
      ]
     },
     "execution_count": 928,
     "metadata": {},
     "output_type": "execute_result"
    }
   ],
   "source": [
    "(df.isna().sum()/len(df)).round(2)"
   ]
  },
  {
   "cell_type": "markdown",
   "id": "2d2f187c",
   "metadata": {},
   "source": [
    "Correcto, tenemos 73% de las observaciones faltantes en las dos últimas columnas, conforme a la teoría, deberíamos eliminarlas en su totalidad. Sin embargo antes de tomar esta posición, exploremos sus contenidos para analizar si deberíamos removerlas del modelo."
   ]
  },
  {
   "cell_type": "code",
   "execution_count": 929,
   "id": "3f79d495",
   "metadata": {},
   "outputs": [
    {
     "data": {
      "text/plain": [
       "Competitor had better devices                313\n",
       "Competitor made better offer                 311\n",
       "Attitude of support person                   220\n",
       "Don't know                                   130\n",
       "Competitor offered more data                 117\n",
       "Competitor offered higher download speeds    100\n",
       "Attitude of service provider                  94\n",
       "Price too high                                78\n",
       "Product dissatisfaction                       77\n",
       "Network reliability                           72\n",
       "Long distance charges                         64\n",
       "Service dissatisfaction                       63\n",
       "Moved                                         46\n",
       "Extra data charges                            39\n",
       "Limited range of services                     37\n",
       "Poor expertise of online support              31\n",
       "Lack of affordable download/upload speed      30\n",
       "Lack of self-service on Website               29\n",
       "Poor expertise of phone support               12\n",
       "Deceased                                       6\n",
       "Name: razon_churn, dtype: int64"
      ]
     },
     "execution_count": 929,
     "metadata": {},
     "output_type": "execute_result"
    }
   ],
   "source": [
    "df.razon_churn.value_counts()"
   ]
  },
  {
   "cell_type": "code",
   "execution_count": 930,
   "id": "c8cffbf0",
   "metadata": {},
   "outputs": [
    {
     "data": {
      "text/plain": [
       "Competitor         841\n",
       "Dissatisfaction    321\n",
       "Attitude           314\n",
       "Price              211\n",
       "Other              182\n",
       "Name: categoria_churn, dtype: int64"
      ]
     },
     "execution_count": 930,
     "metadata": {},
     "output_type": "execute_result"
    }
   ],
   "source": [
    "df.categoria_churn.value_counts()"
   ]
  },
  {
   "cell_type": "markdown",
   "id": "d00f6998",
   "metadata": {},
   "source": [
    "Después de analizar las variables, observamos que muy posiblemente contienen valores perdidos en las observaciones en las que el cliente se afilia o permanece en la empresa, por lo que no procederemos a eliminarlas. Verifiquemos esta hipótesis con el diccionario de variables en el link compartido: https://www.kaggle.com/datasets/shilongzhuang/telecom-customer-churn-by-maven-analytics"
   ]
  },
  {
   "cell_type": "markdown",
   "id": "f1db707e",
   "metadata": {},
   "source": [
    "#### ¿Qué descubrieron del diccionario de variables para estas dos variables?            \n"
   ]
  },
  {
   "cell_type": "markdown",
   "id": "e890d67e",
   "metadata": {},
   "source": [
    " "
   ]
  },
  {
   "cell_type": "markdown",
   "id": "eab5cafa",
   "metadata": {},
   "source": [
    " "
   ]
  },
  {
   "cell_type": "markdown",
   "id": "8737208b",
   "metadata": {},
   "source": [
    "Continuemos nuestro análisis con el segundo grupo con mayores valores perdidos,  aquellas que contienen un 22% de datos perdidos:\n",
    "\n",
    "- tipo_internet\n",
    "- gigas_promedio_descargas\n",
    "- seguridad_online\n",
    "- respaldo_online\n",
    "- plan_proteccion_equipo\n",
    "- soporte_tech_premium\n",
    "- servicio_tv\n",
    "- servicio_peliculas\n",
    "- servicio_musica\n",
    "- datos_ilimitados"
   ]
  },
  {
   "cell_type": "markdown",
   "id": "479de218",
   "metadata": {},
   "source": [
    "Verifiquemos:\n"
   ]
  },
  {
   "cell_type": "code",
   "execution_count": 931,
   "id": "e4d2b0cc",
   "metadata": {},
   "outputs": [
    {
     "data": {
      "text/plain": [
       "tipo_internet               1526\n",
       "gigas_promedio_descargas    1526\n",
       "seguridad_online            1526\n",
       "respaldo_online             1526\n",
       "plan_proteccion_equipo      1526\n",
       "soporte_tech_premium        1526\n",
       "servicio_tv                 1526\n",
       "servicio_peliculas          1526\n",
       "servicio_musica             1526\n",
       "datos_ilimitados            1526\n",
       "dtype: int64"
      ]
     },
     "execution_count": 931,
     "metadata": {},
     "output_type": "execute_result"
    }
   ],
   "source": [
    "df[['tipo_internet' , 'gigas_promedio_descargas' , 'seguridad_online', 'respaldo_online' , 'plan_proteccion_equipo',\n",
    "    'soporte_tech_premium', 'servicio_tv', 'servicio_peliculas', 'servicio_musica', 'datos_ilimitados']].isna().sum()"
   ]
  },
  {
   "cell_type": "code",
   "execution_count": 932,
   "id": "7748c636",
   "metadata": {},
   "outputs": [
    {
     "data": {
      "text/plain": [
       "Yes    5517\n",
       "No     1526\n",
       "Name: servicio_internet, dtype: int64"
      ]
     },
     "execution_count": 932,
     "metadata": {},
     "output_type": "execute_result"
    }
   ],
   "source": [
    "df.servicio_internet.value_counts()"
   ]
  },
  {
   "cell_type": "markdown",
   "id": "902c0a2f",
   "metadata": {},
   "source": [
    "Como podemos observar, todas las columnas extraídas en el análisis tienen el mismo número de \"valores perdidos\" que los clientes sin servicio de internet, por lo que concluímos que no son valores perdidos. \n",
    "\n",
    "En este caso imputaremos los valores aparentemente perdidos por una categoría que iluste que esos clientes no tienen el servicio de internet y por lo tanto tampoco servicios de streaming."
   ]
  },
  {
   "cell_type": "code",
   "execution_count": 933,
   "id": "737262d1",
   "metadata": {},
   "outputs": [],
   "source": [
    "df.loc[:,['tipo_internet' , 'seguridad_online', 'respaldo_online' , \n",
    "    'plan_proteccion_equipo', 'soporte_tech_premium', 'servicio_tv', 'servicio_peliculas', \n",
    "    'servicio_musica', 'datos_ilimitados']]=\\\n",
    "df.loc[:,['tipo_internet' , 'seguridad_online', 'respaldo_online' , \n",
    "    'plan_proteccion_equipo', 'soporte_tech_premium', 'servicio_tv', 'servicio_peliculas', \n",
    "    'servicio_musica', 'datos_ilimitados']].replace(np.nan,'no_internet')"
   ]
  },
  {
   "cell_type": "markdown",
   "id": "fe6d3f0c",
   "metadata": {},
   "source": [
    "Ahora, para gigas_promedio_descargas, tengamos cuidado de transformar toda la columna en una categórica al imputar 'no_internet'. Es una variable netamente numérica, por lo que lo mejor será imputar esos valores perdidos con cero."
   ]
  },
  {
   "cell_type": "code",
   "execution_count": 934,
   "id": "b9a4b9d8",
   "metadata": {},
   "outputs": [],
   "source": [
    "df.loc[:,'gigas_promedio_descargas']=df.loc[:,'gigas_promedio_descargas'].replace(np.nan, 0)"
   ]
  },
  {
   "cell_type": "markdown",
   "id": "7677809c",
   "metadata": {},
   "source": [
    "Verificamos:"
   ]
  },
  {
   "cell_type": "code",
   "execution_count": 935,
   "id": "6a1ded3c",
   "metadata": {},
   "outputs": [
    {
     "data": {
      "text/plain": [
       "tipo_internet               0\n",
       "gigas_promedio_descargas    0\n",
       "seguridad_online            0\n",
       "respaldo_online             0\n",
       "plan_proteccion_equipo      0\n",
       "soporte_tech_premium        0\n",
       "servicio_tv                 0\n",
       "servicio_peliculas          0\n",
       "servicio_musica             0\n",
       "datos_ilimitados            0\n",
       "dtype: int64"
      ]
     },
     "execution_count": 935,
     "metadata": {},
     "output_type": "execute_result"
    }
   ],
   "source": [
    "df[['tipo_internet' , 'gigas_promedio_descargas' , 'seguridad_online', 'respaldo_online' , 'plan_proteccion_equipo',\n",
    "    'soporte_tech_premium', 'servicio_tv', 'servicio_peliculas', 'servicio_musica', 'datos_ilimitados']].isna().sum()"
   ]
  },
  {
   "cell_type": "markdown",
   "id": "0850fdd5",
   "metadata": {},
   "source": [
    "Perfecto!, hemos logardo corregir los \"valores perdidos\" en 10 columnas, lo que nos deja con aquellas columnas con 10% de datos perdidos:\n",
    "- cargos_larga_distancia \n",
    "- lineas_multiples                \n"
   ]
  },
  {
   "cell_type": "code",
   "execution_count": 936,
   "id": "59c4d787",
   "metadata": {},
   "outputs": [
    {
     "data": {
      "text/plain": [
       "cargos_larga_distancia    682\n",
       "lineas_multiples          682\n",
       "dtype: int64"
      ]
     },
     "execution_count": 936,
     "metadata": {},
     "output_type": "execute_result"
    }
   ],
   "source": [
    "df[['cargos_larga_distancia' , 'lineas_multiples']].isna().sum()"
   ]
  },
  {
   "cell_type": "code",
   "execution_count": 937,
   "id": "3b734ce6",
   "metadata": {},
   "outputs": [
    {
     "data": {
      "text/plain": [
       "Yes    6361\n",
       "No      682\n",
       "Name: servicio_telefonico, dtype: int64"
      ]
     },
     "execution_count": 937,
     "metadata": {},
     "output_type": "execute_result"
    }
   ],
   "source": [
    "df.servicio_telefonico.value_counts()"
   ]
  },
  {
   "cell_type": "markdown",
   "id": "1a661208",
   "metadata": {},
   "source": [
    "El comportamiento se vuelve a repetir, de las columnas extraídas en el análisis, 682 valores aparentemente perdidos coinciden con aquellos clientes que no disponen de serivicio telefónico, por lo que concluímos que no son valores perdidos.\n",
    "\n",
    "Al igual que en el caso anterior, imputaremos los 682 valores aparentemente perdidos por una categoría que iluste que esos clientes no tienen el servicio de telefónico y por lo tanto tampoco cargos en llamadas a larga distancia y cargos por tener múltiples líneas telefónicas, en este último tengamos cuidado de transformar toda la columna, en una categórica al imputar 'no_servicio_telefonico'. Esta es una variable netamente numérica, por lo que lo mejor será imputar esos valores perdidos con cero."
   ]
  },
  {
   "cell_type": "code",
   "execution_count": 938,
   "id": "00ee9206",
   "metadata": {},
   "outputs": [],
   "source": [
    "df.loc[:,'lineas_multiples']=df.loc[:,'lineas_multiples'].replace(np.nan,'no_servicio_telefonico')"
   ]
  },
  {
   "cell_type": "code",
   "execution_count": 939,
   "id": "19ccb363",
   "metadata": {},
   "outputs": [],
   "source": [
    "df.loc[:,'cargos_larga_distancia']=df.loc[:,'cargos_larga_distancia'].replace(np.nan, 0)"
   ]
  },
  {
   "cell_type": "markdown",
   "id": "0b0644fa",
   "metadata": {},
   "source": [
    "Verificamos:"
   ]
  },
  {
   "cell_type": "code",
   "execution_count": 940,
   "id": "2e7daabc",
   "metadata": {},
   "outputs": [
    {
     "data": {
      "text/plain": [
       "0"
      ]
     },
     "execution_count": 940,
     "metadata": {},
     "output_type": "execute_result"
    }
   ],
   "source": [
    "df[['cargos_larga_distancia' , 'lineas_multiples']].isna().sum().isna().sum()"
   ]
  },
  {
   "cell_type": "markdown",
   "id": "9e6bcd60",
   "metadata": {},
   "source": [
    "Perfecto! hemos manejado satisfactoriamente aquellas columnas que presentaban valores perdidos. El siguiente paso consiste en graficar nuestras variables para conocer más a fondo nuestro dataset."
   ]
  },
  {
   "cell_type": "markdown",
   "id": "fef1670d",
   "metadata": {},
   "source": [
    "### Remoción de variables"
   ]
  },
  {
   "cell_type": "markdown",
   "id": "c40ccb80",
   "metadata": {},
   "source": [
    "Antes de obtener la correlación de variables, vamos a eliminar de nuestro análisis a 4 columnas que llamaron la atención, estas son: id_consumidor, ciudad,  zip_code, latitud y longitud.\n",
    "Dado que estas variables individualmente tienen poco valor explicativo y serían muy difíciles de interpretar en el modelo, además de ser una fuente de posible violación de los supuestos, procedemos a retirarlas."
   ]
  },
  {
   "cell_type": "code",
   "execution_count": 941,
   "id": "98d74d34",
   "metadata": {},
   "outputs": [
    {
     "data": {
      "text/plain": [
       "Los Angeles         293\n",
       "San Diego           285\n",
       "San Jose            112\n",
       "Sacramento          108\n",
       "San Francisco       104\n",
       "                   ... \n",
       "Johannesburg          2\n",
       "South Lake Tahoe      2\n",
       "Jacumba               2\n",
       "Holtville             2\n",
       "Eldridge              2\n",
       "Name: ciudad, Length: 1106, dtype: int64"
      ]
     },
     "execution_count": 941,
     "metadata": {},
     "output_type": "execute_result"
    }
   ],
   "source": [
    "df.ciudad.value_counts()"
   ]
  },
  {
   "cell_type": "code",
   "execution_count": 942,
   "id": "2ceb4ab9",
   "metadata": {},
   "outputs": [
    {
     "data": {
      "text/plain": [
       "0002-ORFBO    1\n",
       "6616-AALSR    1\n",
       "6625-UTXEW    1\n",
       "6625-IUTTT    1\n",
       "6625-FLENO    1\n",
       "             ..\n",
       "3352-RICWQ    1\n",
       "3352-ALMCK    1\n",
       "3351-NQLDI    1\n",
       "3351-NGXYI    1\n",
       "9995-HOTOH    1\n",
       "Name: id_consumidor, Length: 7043, dtype: int64"
      ]
     },
     "execution_count": 942,
     "metadata": {},
     "output_type": "execute_result"
    }
   ],
   "source": [
    "df.id_consumidor.value_counts()"
   ]
  },
  {
   "cell_type": "code",
   "execution_count": 943,
   "id": "234f8809",
   "metadata": {},
   "outputs": [],
   "source": [
    "df.drop(['id_consumidor', 'zip_code','latitud','longitud','ciudad'],axis=1, inplace=True)"
   ]
  },
  {
   "cell_type": "markdown",
   "id": "a83fbede",
   "metadata": {},
   "source": [
    "### Variables numéricas"
   ]
  },
  {
   "cell_type": "markdown",
   "id": "488168cd",
   "metadata": {},
   "source": [
    "#### Correlaciones entre las variables"
   ]
  },
  {
   "cell_type": "code",
   "execution_count": 944,
   "id": "0c38cabc",
   "metadata": {},
   "outputs": [
    {
     "data": {
      "text/html": [
       "<style type=\"text/css\">\n",
       "#T_a781f_row0_col0, #T_a781f_row1_col1, #T_a781f_row2_col2, #T_a781f_row3_col3, #T_a781f_row4_col4, #T_a781f_row5_col5, #T_a781f_row6_col6, #T_a781f_row7_col7, #T_a781f_row8_col8 {\n",
       "  background-color: #b40426;\n",
       "  color: #f1f1f1;\n",
       "}\n",
       "#T_a781f_row0_col1, #T_a781f_row4_col3 {\n",
       "  background-color: #3c4ec2;\n",
       "  color: #f1f1f1;\n",
       "}\n",
       "#T_a781f_row0_col2, #T_a781f_row0_col3, #T_a781f_row0_col5, #T_a781f_row1_col6, #T_a781f_row1_col7, #T_a781f_row1_col8, #T_a781f_row5_col0, #T_a781f_row5_col4, #T_a781f_row6_col1 {\n",
       "  background-color: #3b4cc0;\n",
       "  color: #f1f1f1;\n",
       "}\n",
       "#T_a781f_row0_col4 {\n",
       "  background-color: #3f53c6;\n",
       "  color: #f1f1f1;\n",
       "}\n",
       "#T_a781f_row0_col6, #T_a781f_row2_col7, #T_a781f_row2_col8, #T_a781f_row6_col3 {\n",
       "  background-color: #86a9fc;\n",
       "  color: #f1f1f1;\n",
       "}\n",
       "#T_a781f_row0_col7, #T_a781f_row2_col4 {\n",
       "  background-color: #455cce;\n",
       "  color: #f1f1f1;\n",
       "}\n",
       "#T_a781f_row0_col8 {\n",
       "  background-color: #3d50c3;\n",
       "  color: #f1f1f1;\n",
       "}\n",
       "#T_a781f_row1_col0 {\n",
       "  background-color: #7699f6;\n",
       "  color: #f1f1f1;\n",
       "}\n",
       "#T_a781f_row1_col2 {\n",
       "  background-color: #9dbdff;\n",
       "  color: #000000;\n",
       "}\n",
       "#T_a781f_row1_col3 {\n",
       "  background-color: #5977e3;\n",
       "  color: #f1f1f1;\n",
       "}\n",
       "#T_a781f_row1_col4 {\n",
       "  background-color: #4055c8;\n",
       "  color: #f1f1f1;\n",
       "}\n",
       "#T_a781f_row1_col5 {\n",
       "  background-color: #b6cefa;\n",
       "  color: #000000;\n",
       "}\n",
       "#T_a781f_row2_col0, #T_a781f_row8_col4 {\n",
       "  background-color: #8fb1fe;\n",
       "  color: #000000;\n",
       "}\n",
       "#T_a781f_row2_col1 {\n",
       "  background-color: #b2ccfb;\n",
       "  color: #000000;\n",
       "}\n",
       "#T_a781f_row2_col3, #T_a781f_row7_col0 {\n",
       "  background-color: #a5c3fe;\n",
       "  color: #000000;\n",
       "}\n",
       "#T_a781f_row2_col5 {\n",
       "  background-color: #9fbfff;\n",
       "  color: #000000;\n",
       "}\n",
       "#T_a781f_row2_col6 {\n",
       "  background-color: #6485ec;\n",
       "  color: #f1f1f1;\n",
       "}\n",
       "#T_a781f_row3_col0, #T_a781f_row8_col2 {\n",
       "  background-color: #97b8ff;\n",
       "  color: #000000;\n",
       "}\n",
       "#T_a781f_row3_col1 {\n",
       "  background-color: #7ea1fa;\n",
       "  color: #f1f1f1;\n",
       "}\n",
       "#T_a781f_row3_col2 {\n",
       "  background-color: #adc9fd;\n",
       "  color: #000000;\n",
       "}\n",
       "#T_a781f_row3_col4 {\n",
       "  background-color: #485fd1;\n",
       "  color: #f1f1f1;\n",
       "}\n",
       "#T_a781f_row3_col5, #T_a781f_row8_col0 {\n",
       "  background-color: #a2c1ff;\n",
       "  color: #000000;\n",
       "}\n",
       "#T_a781f_row3_col6 {\n",
       "  background-color: #a6c4fe;\n",
       "  color: #000000;\n",
       "}\n",
       "#T_a781f_row3_col7 {\n",
       "  background-color: #e97a5f;\n",
       "  color: #f1f1f1;\n",
       "}\n",
       "#T_a781f_row3_col8 {\n",
       "  background-color: #e46e56;\n",
       "  color: #f1f1f1;\n",
       "}\n",
       "#T_a781f_row4_col0 {\n",
       "  background-color: #92b4fe;\n",
       "  color: #000000;\n",
       "}\n",
       "#T_a781f_row4_col1 {\n",
       "  background-color: #5a78e4;\n",
       "  color: #f1f1f1;\n",
       "}\n",
       "#T_a781f_row4_col2 {\n",
       "  background-color: #4358cb;\n",
       "  color: #f1f1f1;\n",
       "}\n",
       "#T_a781f_row4_col5 {\n",
       "  background-color: #8db0fe;\n",
       "  color: #000000;\n",
       "}\n",
       "#T_a781f_row4_col6, #T_a781f_row5_col1 {\n",
       "  background-color: #85a8fc;\n",
       "  color: #f1f1f1;\n",
       "}\n",
       "#T_a781f_row4_col7, #T_a781f_row6_col2 {\n",
       "  background-color: #4961d2;\n",
       "  color: #f1f1f1;\n",
       "}\n",
       "#T_a781f_row4_col8 {\n",
       "  background-color: #7b9ff9;\n",
       "  color: #f1f1f1;\n",
       "}\n",
       "#T_a781f_row5_col2 {\n",
       "  background-color: #4c66d6;\n",
       "  color: #f1f1f1;\n",
       "}\n",
       "#T_a781f_row5_col3 {\n",
       "  background-color: #465ecf;\n",
       "  color: #f1f1f1;\n",
       "}\n",
       "#T_a781f_row5_col6 {\n",
       "  background-color: #cdd9ec;\n",
       "  color: #000000;\n",
       "}\n",
       "#T_a781f_row5_col7 {\n",
       "  background-color: #7da0f9;\n",
       "  color: #f1f1f1;\n",
       "}\n",
       "#T_a781f_row5_col8, #T_a781f_row8_col1 {\n",
       "  background-color: #688aef;\n",
       "  color: #f1f1f1;\n",
       "}\n",
       "#T_a781f_row6_col0 {\n",
       "  background-color: #b7cff9;\n",
       "  color: #000000;\n",
       "}\n",
       "#T_a781f_row6_col4 {\n",
       "  background-color: #6b8df0;\n",
       "  color: #f1f1f1;\n",
       "}\n",
       "#T_a781f_row6_col5, #T_a781f_row6_col8 {\n",
       "  background-color: #e8d6cc;\n",
       "  color: #000000;\n",
       "}\n",
       "#T_a781f_row6_col7 {\n",
       "  background-color: #f3c7b1;\n",
       "  color: #000000;\n",
       "}\n",
       "#T_a781f_row7_col1 {\n",
       "  background-color: #6384eb;\n",
       "  color: #f1f1f1;\n",
       "}\n",
       "#T_a781f_row7_col2 {\n",
       "  background-color: #93b5fe;\n",
       "  color: #000000;\n",
       "}\n",
       "#T_a781f_row7_col3 {\n",
       "  background-color: #e9785d;\n",
       "  color: #f1f1f1;\n",
       "}\n",
       "#T_a781f_row7_col4 {\n",
       "  background-color: #5875e1;\n",
       "  color: #f1f1f1;\n",
       "}\n",
       "#T_a781f_row7_col5 {\n",
       "  background-color: #cbd8ee;\n",
       "  color: #000000;\n",
       "}\n",
       "#T_a781f_row7_col6 {\n",
       "  background-color: #f7b89c;\n",
       "  color: #000000;\n",
       "}\n",
       "#T_a781f_row7_col8, #T_a781f_row8_col7 {\n",
       "  background-color: #be242e;\n",
       "  color: #f1f1f1;\n",
       "}\n",
       "#T_a781f_row8_col3 {\n",
       "  background-color: #e36b54;\n",
       "  color: #f1f1f1;\n",
       "}\n",
       "#T_a781f_row8_col5 {\n",
       "  background-color: #c1d4f4;\n",
       "  color: #000000;\n",
       "}\n",
       "#T_a781f_row8_col6 {\n",
       "  background-color: #f3c8b2;\n",
       "  color: #000000;\n",
       "}\n",
       "</style>\n",
       "<table id=\"T_a781f_\">\n",
       "  <thead>\n",
       "    <tr>\n",
       "      <th class=\"blank level0\" >&nbsp;</th>\n",
       "      <th class=\"col_heading level0 col0\" >edad</th>\n",
       "      <th class=\"col_heading level0 col1\" >num_dependientes</th>\n",
       "      <th class=\"col_heading level0 col2\" >num_referencias</th>\n",
       "      <th class=\"col_heading level0 col3\" >antiguedad_meses</th>\n",
       "      <th class=\"col_heading level0 col4\" >cargos_larga_distancia</th>\n",
       "      <th class=\"col_heading level0 col5\" >gigas_promedio_descargas</th>\n",
       "      <th class=\"col_heading level0 col6\" >cargo_mensual</th>\n",
       "      <th class=\"col_heading level0 col7\" >cargos_totales</th>\n",
       "      <th class=\"col_heading level0 col8\" >total_ingreso</th>\n",
       "    </tr>\n",
       "  </thead>\n",
       "  <tbody>\n",
       "    <tr>\n",
       "      <th id=\"T_a781f_level0_row0\" class=\"row_heading level0 row0\" >edad</th>\n",
       "      <td id=\"T_a781f_row0_col0\" class=\"data row0 col0\" >1.000000</td>\n",
       "      <td id=\"T_a781f_row0_col1\" class=\"data row0 col1\" >-0.119000</td>\n",
       "      <td id=\"T_a781f_row0_col2\" class=\"data row0 col2\" >-0.025141</td>\n",
       "      <td id=\"T_a781f_row0_col3\" class=\"data row0 col3\" >0.009927</td>\n",
       "      <td id=\"T_a781f_row0_col4\" class=\"data row0 col4\" >-0.011749</td>\n",
       "      <td id=\"T_a781f_row0_col5\" class=\"data row0 col5\" >-0.376595</td>\n",
       "      <td id=\"T_a781f_row0_col6\" class=\"data row0 col6\" >0.134511</td>\n",
       "      <td id=\"T_a781f_row0_col7\" class=\"data row0 col7\" >0.059684</td>\n",
       "      <td id=\"T_a781f_row0_col8\" class=\"data row0 col8\" >0.048265</td>\n",
       "    </tr>\n",
       "    <tr>\n",
       "      <th id=\"T_a781f_level0_row1\" class=\"row_heading level0 row1\" >num_dependientes</th>\n",
       "      <td id=\"T_a781f_row1_col0\" class=\"data row1 col0\" >-0.119000</td>\n",
       "      <td id=\"T_a781f_row1_col1\" class=\"data row1 col1\" >1.000000</td>\n",
       "      <td id=\"T_a781f_row1_col2\" class=\"data row1 col2\" >0.278003</td>\n",
       "      <td id=\"T_a781f_row1_col3\" class=\"data row1 col3\" >0.108237</td>\n",
       "      <td id=\"T_a781f_row1_col4\" class=\"data row1 col4\" >-0.007324</td>\n",
       "      <td id=\"T_a781f_row1_col5\" class=\"data row1 col5\" >0.129966</td>\n",
       "      <td id=\"T_a781f_row1_col6\" class=\"data row1 col6\" >-0.125649</td>\n",
       "      <td id=\"T_a781f_row1_col7\" class=\"data row1 col7\" >0.022535</td>\n",
       "      <td id=\"T_a781f_row1_col8\" class=\"data row1 col8\" >0.038038</td>\n",
       "    </tr>\n",
       "    <tr>\n",
       "      <th id=\"T_a781f_level0_row2\" class=\"row_heading level0 row2\" >num_referencias</th>\n",
       "      <td id=\"T_a781f_row2_col0\" class=\"data row2 col0\" >-0.025141</td>\n",
       "      <td id=\"T_a781f_row2_col1\" class=\"data row2 col1\" >0.278003</td>\n",
       "      <td id=\"T_a781f_row2_col2\" class=\"data row2 col2\" >1.000000</td>\n",
       "      <td id=\"T_a781f_row2_col3\" class=\"data row2 col3\" >0.326975</td>\n",
       "      <td id=\"T_a781f_row2_col4\" class=\"data row2 col4\" >0.006336</td>\n",
       "      <td id=\"T_a781f_row2_col5\" class=\"data row2 col5\" >0.038575</td>\n",
       "      <td id=\"T_a781f_row2_col6\" class=\"data row2 col6\" >0.026301</td>\n",
       "      <td id=\"T_a781f_row2_col7\" class=\"data row2 col7\" >0.250378</td>\n",
       "      <td id=\"T_a781f_row2_col8\" class=\"data row2 col8\" >0.261853</td>\n",
       "    </tr>\n",
       "    <tr>\n",
       "      <th id=\"T_a781f_level0_row3\" class=\"row_heading level0 row3\" >antiguedad_meses</th>\n",
       "      <td id=\"T_a781f_row3_col0\" class=\"data row3 col0\" >0.009927</td>\n",
       "      <td id=\"T_a781f_row3_col1\" class=\"data row3 col1\" >0.108237</td>\n",
       "      <td id=\"T_a781f_row3_col2\" class=\"data row3 col2\" >0.326975</td>\n",
       "      <td id=\"T_a781f_row3_col3\" class=\"data row3 col3\" >1.000000</td>\n",
       "      <td id=\"T_a781f_row3_col4\" class=\"data row3 col4\" >0.014596</td>\n",
       "      <td id=\"T_a781f_row3_col5\" class=\"data row3 col5\" >0.049119</td>\n",
       "      <td id=\"T_a781f_row3_col6\" class=\"data row3 col6\" >0.239065</td>\n",
       "      <td id=\"T_a781f_row3_col7\" class=\"data row3 col7\" >0.826074</td>\n",
       "      <td id=\"T_a781f_row3_col8\" class=\"data row3 col8\" >0.853146</td>\n",
       "    </tr>\n",
       "    <tr>\n",
       "      <th id=\"T_a781f_level0_row4\" class=\"row_heading level0 row4\" >cargos_larga_distancia</th>\n",
       "      <td id=\"T_a781f_row4_col0\" class=\"data row4 col0\" >-0.011749</td>\n",
       "      <td id=\"T_a781f_row4_col1\" class=\"data row4 col1\" >-0.007324</td>\n",
       "      <td id=\"T_a781f_row4_col2\" class=\"data row4 col2\" >0.006336</td>\n",
       "      <td id=\"T_a781f_row4_col3\" class=\"data row4 col3\" >0.014596</td>\n",
       "      <td id=\"T_a781f_row4_col4\" class=\"data row4 col4\" >1.000000</td>\n",
       "      <td id=\"T_a781f_row4_col5\" class=\"data row4 col5\" >-0.030455</td>\n",
       "      <td id=\"T_a781f_row4_col6\" class=\"data row4 col6\" >0.130087</td>\n",
       "      <td id=\"T_a781f_row4_col7\" class=\"data row4 col7\" >0.069500</td>\n",
       "      <td id=\"T_a781f_row4_col8\" class=\"data row4 col8\" >0.232291</td>\n",
       "    </tr>\n",
       "    <tr>\n",
       "      <th id=\"T_a781f_level0_row5\" class=\"row_heading level0 row5\" >gigas_promedio_descargas</th>\n",
       "      <td id=\"T_a781f_row5_col0\" class=\"data row5 col0\" >-0.376595</td>\n",
       "      <td id=\"T_a781f_row5_col1\" class=\"data row5 col1\" >0.129966</td>\n",
       "      <td id=\"T_a781f_row5_col2\" class=\"data row5 col2\" >0.038575</td>\n",
       "      <td id=\"T_a781f_row5_col3\" class=\"data row5 col3\" >0.049119</td>\n",
       "      <td id=\"T_a781f_row5_col4\" class=\"data row5 col4\" >-0.030455</td>\n",
       "      <td id=\"T_a781f_row5_col5\" class=\"data row5 col5\" >1.000000</td>\n",
       "      <td id=\"T_a781f_row5_col6\" class=\"data row5 col6\" >0.372776</td>\n",
       "      <td id=\"T_a781f_row5_col7\" class=\"data row5 col7\" >0.223268</td>\n",
       "      <td id=\"T_a781f_row5_col8\" class=\"data row5 col8\" >0.180726</td>\n",
       "    </tr>\n",
       "    <tr>\n",
       "      <th id=\"T_a781f_level0_row6\" class=\"row_heading level0 row6\" >cargo_mensual</th>\n",
       "      <td id=\"T_a781f_row6_col0\" class=\"data row6 col0\" >0.134511</td>\n",
       "      <td id=\"T_a781f_row6_col1\" class=\"data row6 col1\" >-0.125649</td>\n",
       "      <td id=\"T_a781f_row6_col2\" class=\"data row6 col2\" >0.026301</td>\n",
       "      <td id=\"T_a781f_row6_col3\" class=\"data row6 col3\" >0.239065</td>\n",
       "      <td id=\"T_a781f_row6_col4\" class=\"data row6 col4\" >0.130087</td>\n",
       "      <td id=\"T_a781f_row6_col5\" class=\"data row6 col5\" >0.372776</td>\n",
       "      <td id=\"T_a781f_row6_col6\" class=\"data row6 col6\" >1.000000</td>\n",
       "      <td id=\"T_a781f_row6_col7\" class=\"data row6 col7\" >0.622810</td>\n",
       "      <td id=\"T_a781f_row6_col8\" class=\"data row6 col8\" >0.563249</td>\n",
       "    </tr>\n",
       "    <tr>\n",
       "      <th id=\"T_a781f_level0_row7\" class=\"row_heading level0 row7\" >cargos_totales</th>\n",
       "      <td id=\"T_a781f_row7_col0\" class=\"data row7 col0\" >0.059684</td>\n",
       "      <td id=\"T_a781f_row7_col1\" class=\"data row7 col1\" >0.022535</td>\n",
       "      <td id=\"T_a781f_row7_col2\" class=\"data row7 col2\" >0.250378</td>\n",
       "      <td id=\"T_a781f_row7_col3\" class=\"data row7 col3\" >0.826074</td>\n",
       "      <td id=\"T_a781f_row7_col4\" class=\"data row7 col4\" >0.069500</td>\n",
       "      <td id=\"T_a781f_row7_col5\" class=\"data row7 col5\" >0.223268</td>\n",
       "      <td id=\"T_a781f_row7_col6\" class=\"data row7 col6\" >0.622810</td>\n",
       "      <td id=\"T_a781f_row7_col7\" class=\"data row7 col7\" >1.000000</td>\n",
       "      <td id=\"T_a781f_row7_col8\" class=\"data row7 col8\" >0.972212</td>\n",
       "    </tr>\n",
       "    <tr>\n",
       "      <th id=\"T_a781f_level0_row8\" class=\"row_heading level0 row8\" >total_ingreso</th>\n",
       "      <td id=\"T_a781f_row8_col0\" class=\"data row8 col0\" >0.048265</td>\n",
       "      <td id=\"T_a781f_row8_col1\" class=\"data row8 col1\" >0.038038</td>\n",
       "      <td id=\"T_a781f_row8_col2\" class=\"data row8 col2\" >0.261853</td>\n",
       "      <td id=\"T_a781f_row8_col3\" class=\"data row8 col3\" >0.853146</td>\n",
       "      <td id=\"T_a781f_row8_col4\" class=\"data row8 col4\" >0.232291</td>\n",
       "      <td id=\"T_a781f_row8_col5\" class=\"data row8 col5\" >0.180726</td>\n",
       "      <td id=\"T_a781f_row8_col6\" class=\"data row8 col6\" >0.563249</td>\n",
       "      <td id=\"T_a781f_row8_col7\" class=\"data row8 col7\" >0.972212</td>\n",
       "      <td id=\"T_a781f_row8_col8\" class=\"data row8 col8\" >1.000000</td>\n",
       "    </tr>\n",
       "  </tbody>\n",
       "</table>\n"
      ],
      "text/plain": [
       "<pandas.io.formats.style.Styler at 0x2b4211cfc40>"
      ]
     },
     "execution_count": 944,
     "metadata": {},
     "output_type": "execute_result"
    }
   ],
   "source": [
    "df.corr().style.background_gradient(cmap='coolwarm')"
   ]
  },
  {
   "cell_type": "markdown",
   "id": "0ad2d9d8",
   "metadata": {},
   "source": [
    "De la matriz de correlaciones, podemos observar que aquellas variables que mayor correlación entre sí son: cargos_totales con   antiguedad_meses, cargos_totales con cargo_mensual, y cargo_mensual con total_ingreso.\n",
    "\n",
    "A diferencia de la regresón lineal donde buscábamos incluír las variables con mayor correlación con la variable dependiente, en el presente modelo, la matriz de correlación nos da luces sobre las variables que podrían tener problemas de multicolinearidad. Recordemos que como nuestra variable objetivo es categórica, no se despliega en la matriz de correlación de Pearson."
   ]
  },
  {
   "cell_type": "code",
   "execution_count": 945,
   "id": "e0d4b231",
   "metadata": {},
   "outputs": [],
   "source": [
    "var_cuantitativas = df.select_dtypes('number').columns\n",
    "var_cualitativas  =df.select_dtypes('object').columns"
   ]
  },
  {
   "cell_type": "code",
   "execution_count": 946,
   "id": "5abe985e",
   "metadata": {},
   "outputs": [
    {
     "data": {
      "text/plain": [
       "''"
      ]
     },
     "execution_count": 946,
     "metadata": {},
     "output_type": "execute_result"
    },
    {
     "data": {
      "image/png": "[encoded data removed]",
      "text/plain": [
       "<Figure size 720x720 with 9 Axes>"
      ]
     },
     "metadata": {
      "needs_background": "light"
     },
     "output_type": "display_data"
    }
   ],
   "source": [
    "df[var_cuantitativas].hist(bins = 15, figsize = (10,10))\n",
    ";"
   ]
  },
  {
   "cell_type": "markdown",
   "id": "3b9c3b2a",
   "metadata": {},
   "source": [
    "Dado que en la columna de cargos mensuales existen valores negativos, procedemos a eliminar estas observaciones del análisis ya que existe una columna específica para reembolsos por lo que estas observaciones son errores, (no hay cargos negativos). "
   ]
  },
  {
   "cell_type": "code",
   "execution_count": 947,
   "id": "1203a0ab",
   "metadata": {},
   "outputs": [],
   "source": [
    "df = df[df['cargo_mensual'] >= 0]"
   ]
  },
  {
   "cell_type": "markdown",
   "id": "f107ed21",
   "metadata": {},
   "source": [
    "### Variables categóricas"
   ]
  },
  {
   "cell_type": "code",
   "execution_count": 948,
   "id": "81e7b87f",
   "metadata": {},
   "outputs": [
    {
     "data": {
      "image/png": "[encoded data removed]",
      "text/plain": [
       "<Figure size 1080x720 with 8 Axes>"
      ]
     },
     "metadata": {
      "needs_background": "light"
     },
     "output_type": "display_data"
    }
   ],
   "source": [
    "#For plotting multiple category columns at once\n",
    "fig, ax = plt.subplots(2,4,figsize = (15,10))\n",
    "for variable, subplot in zip(var_cualitativas, ax.flatten()):\n",
    "    sns.countplot(df[variable], ax = subplot)\n",
    "    for label in subplot.get_xticklabels():\n",
    "        label.set_rotation(90)"
   ]
  },
  {
   "cell_type": "markdown",
   "id": "38252ee3",
   "metadata": {},
   "source": [
    "### Análisis de valores extremos"
   ]
  },
  {
   "cell_type": "markdown",
   "id": "f37d65f5",
   "metadata": {},
   "source": [
    "Como uno de los supuestos es justamente que no haya valores atípicos influyentes, repliquemos el tratamiento a las variables de precio y área del script anterior."
   ]
  },
  {
   "cell_type": "code",
   "execution_count": 949,
   "id": "c2b85fce",
   "metadata": {},
   "outputs": [
    {
     "data": {
      "image/png": "[encoded data removed]",
      "text/plain": [
       "<Figure size 1080x720 with 9 Axes>"
      ]
     },
     "metadata": {
      "needs_background": "light"
     },
     "output_type": "display_data"
    }
   ],
   "source": [
    "# Box plots\n",
    "fig, axs = plt.subplots(3,3, figsize = (15,10))\n",
    "plt1 = sns.boxplot(df['edad'], ax = axs[0,0])\n",
    "plt2 = sns.boxplot(df['num_dependientes'], ax = axs[0,1])\n",
    "plt3 = sns.boxplot(df['num_referencias'], ax = axs[0,2])\n",
    "plt1 = sns.boxplot(df['antiguedad_meses'], ax = axs[1,0])\n",
    "plt2 = sns.boxplot(df['cargo_mensual'], ax = axs[1,1])\n",
    "plt3 = sns.boxplot(df['cargos_totales'], ax = axs[1,2])\n",
    "plt3 = sns.boxplot(df['total_ingreso'], ax = axs[2,0])\n",
    "\n",
    "plt.tight_layout()"
   ]
  },
  {
   "cell_type": "markdown",
   "id": "8d1ba6e6",
   "metadata": {},
   "source": [
    "De los box plots, a la única variable a la que le vamos a aplicar el tratamiento de valores extremos es a la variable de ingreso. Descartamos de esta forma a las variables: num_dependientes y num_referencias dado que son variables discretas numéricas."
   ]
  },
  {
   "cell_type": "markdown",
   "id": "498e55bf",
   "metadata": {},
   "source": [
    "### Tratamiento a la variable independiente \"total_ingreso\""
   ]
  },
  {
   "cell_type": "markdown",
   "id": "b9537897",
   "metadata": {},
   "source": [
    "Del diccionario de variables, se especifica que la variable de ingresos totales se calcula al final de cada trimestre y se obtiene mediante: Total Charges - Total Refunds + Total Extra Data Charges + Total Long Distance Charges"
   ]
  },
  {
   "cell_type": "code",
   "execution_count": 950,
   "id": "7409da88",
   "metadata": {},
   "outputs": [
    {
     "data": {
      "text/plain": [
       "66.56      3\n",
       "116.27     3\n",
       "68.41      3\n",
       "118.89     2\n",
       "118.98     2\n",
       "          ..\n",
       "789.99     1\n",
       "355.82     1\n",
       "5419.35    1\n",
       "8414.43    1\n",
       "3707.60    1\n",
       "Name: total_ingreso, Length: 6859, dtype: int64"
      ]
     },
     "execution_count": 950,
     "metadata": {},
     "output_type": "execute_result"
    }
   ],
   "source": [
    "df.total_ingreso.value_counts()"
   ]
  },
  {
   "cell_type": "code",
   "execution_count": 951,
   "id": "c9bd2bfa",
   "metadata": {},
   "outputs": [
    {
     "name": "stdout",
     "output_type": "stream",
     "text": [
      "4204.594999999999\n"
     ]
    }
   ],
   "source": [
    "# Calculamos el Quartil 1 y Quartil 3 que son aquellos que nos permiten estimar los límites de los datos atípicos\n",
    "Q1 = df.total_ingreso.quantile(0.25)\n",
    "Q3 = df.total_ingreso.quantile(0.75)\n",
    "IQR = Q3 - Q1  #rango intercuartil\n",
    "print(IQR)"
   ]
  },
  {
   "cell_type": "code",
   "execution_count": 952,
   "id": "258d9977",
   "metadata": {},
   "outputs": [
    {
     "data": {
      "text/plain": [
       "(6923, 33)"
      ]
     },
     "execution_count": 952,
     "metadata": {},
     "output_type": "execute_result"
    }
   ],
   "source": [
    "df.shape"
   ]
  },
  {
   "cell_type": "code",
   "execution_count": 953,
   "id": "28add691",
   "metadata": {},
   "outputs": [
    {
     "data": {
      "text/plain": [
       "(6902, 33)"
      ]
     },
     "execution_count": 953,
     "metadata": {},
     "output_type": "execute_result"
    }
   ],
   "source": [
    "# Ahora removemos aquellas observaciones que se encuentran por fuera del rango: 1.5 x IOR\n",
    "df = df[~((df['total_ingreso'] < (Q1 - 1.5 * IQR)) |(df['total_ingreso'] > (Q3 + 1.5 * IQR)))]\n",
    "df.shape"
   ]
  },
  {
   "cell_type": "code",
   "execution_count": 954,
   "id": "0cbb302f",
   "metadata": {},
   "outputs": [
    {
     "data": {
      "text/plain": [
       "<AxesSubplot:xlabel='total_ingreso', ylabel='Density'>"
      ]
     },
     "execution_count": 954,
     "metadata": {},
     "output_type": "execute_result"
    },
    {
     "data": {
      "image/png": "[encoded data removed]",
      "text/plain": [
       "<Figure size 432x288 with 1 Axes>"
      ]
     },
     "metadata": {
      "needs_background": "light"
     },
     "output_type": "display_data"
    }
   ],
   "source": [
    "sns.distplot(df['total_ingreso'],color=\"blue\")"
   ]
  },
  {
   "cell_type": "markdown",
   "id": "1c2ee511",
   "metadata": {},
   "source": [
    "Listo, del gráfico de distribución podemos observar que existe un pico en observaciones marcadas cen la primera sección . Al comparar con el diccionario de variables, se explica que esta columna se obtiene de la sumatoria de cargos y reembolsos, por lo que las ganancias por cada cliente tienen un pico en la primera sección concentrando a los clientes altos en un porcentaje menor que los clientes con ganancias pequeñas."
   ]
  },
  {
   "cell_type": "markdown",
   "id": "6c89f47a",
   "metadata": {},
   "source": [
    "El siguiente paso en el tratamiento de las variables, es la recodificación de las variables cualitativas de forma numérica para que el modelo de regresión logística pueda cuantificar su incidencia en la variable dependiente de mejor manera.\n",
    "Para ello, vamos a seguir un proceso para dumificar las variables categóricas con la ayuda del module de pandas."
   ]
  },
  {
   "cell_type": "markdown",
   "id": "29d21af2",
   "metadata": {},
   "source": [
    "### Recodificación de las variables"
   ]
  },
  {
   "cell_type": "markdown",
   "id": "83e9f00f",
   "metadata": {},
   "source": [
    "Antes de recodificar a nuestra variable objetivo, comprobemos que es una variable categórica sin un orden inherente y con más de dos niveles:"
   ]
  },
  {
   "cell_type": "code",
   "execution_count": 955,
   "id": "93def170",
   "metadata": {},
   "outputs": [
    {
     "data": {
      "image/png": "[encoded data removed]",
      "text/plain": [
       "<Figure size 432x288 with 1 Axes>"
      ]
     },
     "metadata": {
      "needs_background": "light"
     },
     "output_type": "display_data"
    }
   ],
   "source": [
    "sns.countplot(df.estado_consumidor);"
   ]
  },
  {
   "cell_type": "code",
   "execution_count": 956,
   "id": "8658636e",
   "metadata": {},
   "outputs": [
    {
     "data": {
      "image/png": "[encoded data removed]",
      "text/plain": [
       "<Figure size 432x288 with 1 Axes>"
      ]
     },
     "metadata": {},
     "output_type": "display_data"
    }
   ],
   "source": [
    "df.estado_consumidor.value_counts().plot(kind='pie', autopct='%1.1f%%');"
   ]
  },
  {
   "cell_type": "markdown",
   "id": "d3e70d5e",
   "metadata": {},
   "source": [
    "Del análisis gráfico observamos que los clientes en el trimestre analizado se concentraron en la sección de permanencia, 6.5% de ellos ingresaron a la empresa como clientes y 26.6% abandonaron a la telefónica."
   ]
  },
  {
   "cell_type": "markdown",
   "id": "6e0ef5e4",
   "metadata": {},
   "source": [
    "#### Me pueden indicar 2 datos importantes con respecto a nuestra variable objetivo y cuáles son las principales causas de que un cliente abanone a esta companía?"
   ]
  },
  {
   "cell_type": "markdown",
   "id": "8fc00098",
   "metadata": {},
   "source": [
    " "
   ]
  },
  {
   "cell_type": "markdown",
   "id": "ee7ea351",
   "metadata": {},
   "source": [
    " "
   ]
  },
  {
   "cell_type": "markdown",
   "id": "f89fa638",
   "metadata": {},
   "source": [
    " "
   ]
  },
  {
   "cell_type": "code",
   "execution_count": 957,
   "id": "439e9095",
   "metadata": {},
   "outputs": [],
   "source": [
    " df2 = df.loc[df.estado_consumidor != 'Joined']"
   ]
  },
  {
   "cell_type": "code",
   "execution_count": 959,
   "id": "59e64795",
   "metadata": {},
   "outputs": [
    {
     "data": {
      "text/plain": [
       "[Text(0.5, 0, ''), Text(0, 0.5, '')]"
      ]
     },
     "execution_count": 959,
     "metadata": {},
     "output_type": "execute_result"
    },
    {
     "data": {
      "image/png": "[encoded data removed]",
      "text/plain": [
       "<Figure size 1080x720 with 1 Axes>"
      ]
     },
     "metadata": {
      "needs_background": "light"
     },
     "output_type": "display_data"
    }
   ],
   "source": [
    "fig = plt.figure(figsize = (15, 10))\n",
    "ax = sns.countplot(data = df2, y = df2.razon_churn, order = df2.razon_churn.value_counts().index , color = '#676FA3')\n",
    "ax.set(xlabel = None, ylabel = None)"
   ]
  },
  {
   "cell_type": "markdown",
   "id": "f1e44d1f",
   "metadata": {},
   "source": [
    " Perfecto, el siguiente paso es recodificar todas nuestras variables que no sean numéricas. Para ello utilizaremos el module LabelEncoder."
   ]
  },
  {
   "cell_type": "code",
   "execution_count": 831,
   "id": "63e868de",
   "metadata": {},
   "outputs": [
    {
     "data": {
      "text/html": [
       "<div>\n",
       "<style scoped>\n",
       "    .dataframe tbody tr th:only-of-type {\n",
       "        vertical-align: middle;\n",
       "    }\n",
       "\n",
       "    .dataframe tbody tr th {\n",
       "        vertical-align: top;\n",
       "    }\n",
       "\n",
       "    .dataframe thead th {\n",
       "        text-align: right;\n",
       "    }\n",
       "</style>\n",
       "<table border=\"1\" class=\"dataframe\">\n",
       "  <thead>\n",
       "    <tr style=\"text-align: right;\">\n",
       "      <th></th>\n",
       "      <th>genero</th>\n",
       "      <th>casado</th>\n",
       "      <th>oferta</th>\n",
       "      <th>servicio_telefonico</th>\n",
       "      <th>lineas_multiples</th>\n",
       "      <th>servicio_internet</th>\n",
       "      <th>tipo_internet</th>\n",
       "      <th>seguridad_online</th>\n",
       "      <th>respaldo_online</th>\n",
       "      <th>plan_proteccion_equipo</th>\n",
       "      <th>...</th>\n",
       "      <th>datos_ilimitados</th>\n",
       "      <th>contrato</th>\n",
       "      <th>factura_fisica</th>\n",
       "      <th>tipo_pago</th>\n",
       "      <th>total_reembolsos</th>\n",
       "      <th>total_extra_cargos</th>\n",
       "      <th>total_larga_distancia_cargos</th>\n",
       "      <th>estado_consumidor</th>\n",
       "      <th>categoria_churn</th>\n",
       "      <th>razon_churn</th>\n",
       "    </tr>\n",
       "  </thead>\n",
       "  <tbody>\n",
       "    <tr>\n",
       "      <th>0</th>\n",
       "      <td>Female</td>\n",
       "      <td>Yes</td>\n",
       "      <td>None</td>\n",
       "      <td>Yes</td>\n",
       "      <td>No</td>\n",
       "      <td>Yes</td>\n",
       "      <td>Cable</td>\n",
       "      <td>No</td>\n",
       "      <td>Yes</td>\n",
       "      <td>No</td>\n",
       "      <td>...</td>\n",
       "      <td>Yes</td>\n",
       "      <td>One Year</td>\n",
       "      <td>Yes</td>\n",
       "      <td>Credit Card</td>\n",
       "      <td>no</td>\n",
       "      <td>no</td>\n",
       "      <td>si</td>\n",
       "      <td>Stayed</td>\n",
       "      <td>NaN</td>\n",
       "      <td>NaN</td>\n",
       "    </tr>\n",
       "    <tr>\n",
       "      <th>2</th>\n",
       "      <td>Male</td>\n",
       "      <td>No</td>\n",
       "      <td>Offer E</td>\n",
       "      <td>Yes</td>\n",
       "      <td>No</td>\n",
       "      <td>Yes</td>\n",
       "      <td>Fiber Optic</td>\n",
       "      <td>No</td>\n",
       "      <td>No</td>\n",
       "      <td>Yes</td>\n",
       "      <td>...</td>\n",
       "      <td>Yes</td>\n",
       "      <td>Month-to-Month</td>\n",
       "      <td>Yes</td>\n",
       "      <td>Bank Withdrawal</td>\n",
       "      <td>no</td>\n",
       "      <td>no</td>\n",
       "      <td>si</td>\n",
       "      <td>Churned</td>\n",
       "      <td>Competitor</td>\n",
       "      <td>Competitor had better devices</td>\n",
       "    </tr>\n",
       "    <tr>\n",
       "      <th>3</th>\n",
       "      <td>Male</td>\n",
       "      <td>Yes</td>\n",
       "      <td>Offer D</td>\n",
       "      <td>Yes</td>\n",
       "      <td>No</td>\n",
       "      <td>Yes</td>\n",
       "      <td>Fiber Optic</td>\n",
       "      <td>No</td>\n",
       "      <td>Yes</td>\n",
       "      <td>Yes</td>\n",
       "      <td>...</td>\n",
       "      <td>Yes</td>\n",
       "      <td>Month-to-Month</td>\n",
       "      <td>Yes</td>\n",
       "      <td>Bank Withdrawal</td>\n",
       "      <td>no</td>\n",
       "      <td>no</td>\n",
       "      <td>si</td>\n",
       "      <td>Churned</td>\n",
       "      <td>Dissatisfaction</td>\n",
       "      <td>Product dissatisfaction</td>\n",
       "    </tr>\n",
       "    <tr>\n",
       "      <th>4</th>\n",
       "      <td>Female</td>\n",
       "      <td>Yes</td>\n",
       "      <td>None</td>\n",
       "      <td>Yes</td>\n",
       "      <td>No</td>\n",
       "      <td>Yes</td>\n",
       "      <td>Fiber Optic</td>\n",
       "      <td>No</td>\n",
       "      <td>No</td>\n",
       "      <td>No</td>\n",
       "      <td>...</td>\n",
       "      <td>Yes</td>\n",
       "      <td>Month-to-Month</td>\n",
       "      <td>Yes</td>\n",
       "      <td>Credit Card</td>\n",
       "      <td>no</td>\n",
       "      <td>no</td>\n",
       "      <td>si</td>\n",
       "      <td>Churned</td>\n",
       "      <td>Dissatisfaction</td>\n",
       "      <td>Network reliability</td>\n",
       "    </tr>\n",
       "    <tr>\n",
       "      <th>5</th>\n",
       "      <td>Female</td>\n",
       "      <td>No</td>\n",
       "      <td>Offer E</td>\n",
       "      <td>Yes</td>\n",
       "      <td>No</td>\n",
       "      <td>Yes</td>\n",
       "      <td>Cable</td>\n",
       "      <td>No</td>\n",
       "      <td>No</td>\n",
       "      <td>No</td>\n",
       "      <td>...</td>\n",
       "      <td>Yes</td>\n",
       "      <td>Month-to-Month</td>\n",
       "      <td>Yes</td>\n",
       "      <td>Credit Card</td>\n",
       "      <td>no</td>\n",
       "      <td>no</td>\n",
       "      <td>si</td>\n",
       "      <td>Stayed</td>\n",
       "      <td>NaN</td>\n",
       "      <td>NaN</td>\n",
       "    </tr>\n",
       "    <tr>\n",
       "      <th>...</th>\n",
       "      <td>...</td>\n",
       "      <td>...</td>\n",
       "      <td>...</td>\n",
       "      <td>...</td>\n",
       "      <td>...</td>\n",
       "      <td>...</td>\n",
       "      <td>...</td>\n",
       "      <td>...</td>\n",
       "      <td>...</td>\n",
       "      <td>...</td>\n",
       "      <td>...</td>\n",
       "      <td>...</td>\n",
       "      <td>...</td>\n",
       "      <td>...</td>\n",
       "      <td>...</td>\n",
       "      <td>...</td>\n",
       "      <td>...</td>\n",
       "      <td>...</td>\n",
       "      <td>...</td>\n",
       "      <td>...</td>\n",
       "      <td>...</td>\n",
       "    </tr>\n",
       "    <tr>\n",
       "      <th>7038</th>\n",
       "      <td>Female</td>\n",
       "      <td>No</td>\n",
       "      <td>Offer D</td>\n",
       "      <td>Yes</td>\n",
       "      <td>No</td>\n",
       "      <td>Yes</td>\n",
       "      <td>DSL</td>\n",
       "      <td>Yes</td>\n",
       "      <td>No</td>\n",
       "      <td>No</td>\n",
       "      <td>...</td>\n",
       "      <td>Yes</td>\n",
       "      <td>One Year</td>\n",
       "      <td>No</td>\n",
       "      <td>Credit Card</td>\n",
       "      <td>no</td>\n",
       "      <td>no</td>\n",
       "      <td>si</td>\n",
       "      <td>Stayed</td>\n",
       "      <td>NaN</td>\n",
       "      <td>NaN</td>\n",
       "    </tr>\n",
       "    <tr>\n",
       "      <th>7039</th>\n",
       "      <td>Male</td>\n",
       "      <td>Yes</td>\n",
       "      <td>Offer D</td>\n",
       "      <td>Yes</td>\n",
       "      <td>Yes</td>\n",
       "      <td>Yes</td>\n",
       "      <td>Fiber Optic</td>\n",
       "      <td>No</td>\n",
       "      <td>No</td>\n",
       "      <td>No</td>\n",
       "      <td>...</td>\n",
       "      <td>Yes</td>\n",
       "      <td>Month-to-Month</td>\n",
       "      <td>Yes</td>\n",
       "      <td>Bank Withdrawal</td>\n",
       "      <td>no</td>\n",
       "      <td>no</td>\n",
       "      <td>si</td>\n",
       "      <td>Churned</td>\n",
       "      <td>Dissatisfaction</td>\n",
       "      <td>Product dissatisfaction</td>\n",
       "    </tr>\n",
       "    <tr>\n",
       "      <th>7040</th>\n",
       "      <td>Male</td>\n",
       "      <td>No</td>\n",
       "      <td>Offer E</td>\n",
       "      <td>Yes</td>\n",
       "      <td>No</td>\n",
       "      <td>Yes</td>\n",
       "      <td>DSL</td>\n",
       "      <td>No</td>\n",
       "      <td>Yes</td>\n",
       "      <td>No</td>\n",
       "      <td>...</td>\n",
       "      <td>Yes</td>\n",
       "      <td>Month-to-Month</td>\n",
       "      <td>Yes</td>\n",
       "      <td>Credit Card</td>\n",
       "      <td>no</td>\n",
       "      <td>no</td>\n",
       "      <td>si</td>\n",
       "      <td>Joined</td>\n",
       "      <td>NaN</td>\n",
       "      <td>NaN</td>\n",
       "    </tr>\n",
       "    <tr>\n",
       "      <th>7041</th>\n",
       "      <td>Male</td>\n",
       "      <td>Yes</td>\n",
       "      <td>Offer A</td>\n",
       "      <td>Yes</td>\n",
       "      <td>No</td>\n",
       "      <td>Yes</td>\n",
       "      <td>Cable</td>\n",
       "      <td>Yes</td>\n",
       "      <td>No</td>\n",
       "      <td>Yes</td>\n",
       "      <td>...</td>\n",
       "      <td>Yes</td>\n",
       "      <td>Two Year</td>\n",
       "      <td>No</td>\n",
       "      <td>Credit Card</td>\n",
       "      <td>no</td>\n",
       "      <td>no</td>\n",
       "      <td>si</td>\n",
       "      <td>Stayed</td>\n",
       "      <td>NaN</td>\n",
       "      <td>NaN</td>\n",
       "    </tr>\n",
       "    <tr>\n",
       "      <th>7042</th>\n",
       "      <td>Male</td>\n",
       "      <td>Yes</td>\n",
       "      <td>None</td>\n",
       "      <td>No</td>\n",
       "      <td>no_servicio_telefonico</td>\n",
       "      <td>Yes</td>\n",
       "      <td>Cable</td>\n",
       "      <td>Yes</td>\n",
       "      <td>Yes</td>\n",
       "      <td>Yes</td>\n",
       "      <td>...</td>\n",
       "      <td>Yes</td>\n",
       "      <td>Two Year</td>\n",
       "      <td>No</td>\n",
       "      <td>Bank Withdrawal</td>\n",
       "      <td>no</td>\n",
       "      <td>no</td>\n",
       "      <td>no</td>\n",
       "      <td>Stayed</td>\n",
       "      <td>NaN</td>\n",
       "      <td>NaN</td>\n",
       "    </tr>\n",
       "  </tbody>\n",
       "</table>\n",
       "<p>6902 rows × 24 columns</p>\n",
       "</div>"
      ],
      "text/plain": [
       "      genero casado   oferta servicio_telefonico        lineas_multiples  \\\n",
       "0     Female    Yes     None                 Yes                      No   \n",
       "2       Male     No  Offer E                 Yes                      No   \n",
       "3       Male    Yes  Offer D                 Yes                      No   \n",
       "4     Female    Yes     None                 Yes                      No   \n",
       "5     Female     No  Offer E                 Yes                      No   \n",
       "...      ...    ...      ...                 ...                     ...   \n",
       "7038  Female     No  Offer D                 Yes                      No   \n",
       "7039    Male    Yes  Offer D                 Yes                     Yes   \n",
       "7040    Male     No  Offer E                 Yes                      No   \n",
       "7041    Male    Yes  Offer A                 Yes                      No   \n",
       "7042    Male    Yes     None                  No  no_servicio_telefonico   \n",
       "\n",
       "     servicio_internet tipo_internet seguridad_online respaldo_online  \\\n",
       "0                  Yes         Cable               No             Yes   \n",
       "2                  Yes   Fiber Optic               No              No   \n",
       "3                  Yes   Fiber Optic               No             Yes   \n",
       "4                  Yes   Fiber Optic               No              No   \n",
       "5                  Yes         Cable               No              No   \n",
       "...                ...           ...              ...             ...   \n",
       "7038               Yes           DSL              Yes              No   \n",
       "7039               Yes   Fiber Optic               No              No   \n",
       "7040               Yes           DSL               No             Yes   \n",
       "7041               Yes         Cable              Yes              No   \n",
       "7042               Yes         Cable              Yes             Yes   \n",
       "\n",
       "     plan_proteccion_equipo  ... datos_ilimitados        contrato  \\\n",
       "0                        No  ...              Yes        One Year   \n",
       "2                       Yes  ...              Yes  Month-to-Month   \n",
       "3                       Yes  ...              Yes  Month-to-Month   \n",
       "4                        No  ...              Yes  Month-to-Month   \n",
       "5                        No  ...              Yes  Month-to-Month   \n",
       "...                     ...  ...              ...             ...   \n",
       "7038                     No  ...              Yes        One Year   \n",
       "7039                     No  ...              Yes  Month-to-Month   \n",
       "7040                     No  ...              Yes  Month-to-Month   \n",
       "7041                    Yes  ...              Yes        Two Year   \n",
       "7042                    Yes  ...              Yes        Two Year   \n",
       "\n",
       "     factura_fisica        tipo_pago total_reembolsos total_extra_cargos  \\\n",
       "0               Yes      Credit Card               no                 no   \n",
       "2               Yes  Bank Withdrawal               no                 no   \n",
       "3               Yes  Bank Withdrawal               no                 no   \n",
       "4               Yes      Credit Card               no                 no   \n",
       "5               Yes      Credit Card               no                 no   \n",
       "...             ...              ...              ...                ...   \n",
       "7038             No      Credit Card               no                 no   \n",
       "7039            Yes  Bank Withdrawal               no                 no   \n",
       "7040            Yes      Credit Card               no                 no   \n",
       "7041             No      Credit Card               no                 no   \n",
       "7042             No  Bank Withdrawal               no                 no   \n",
       "\n",
       "     total_larga_distancia_cargos estado_consumidor  categoria_churn  \\\n",
       "0                              si            Stayed              NaN   \n",
       "2                              si           Churned       Competitor   \n",
       "3                              si           Churned  Dissatisfaction   \n",
       "4                              si           Churned  Dissatisfaction   \n",
       "5                              si            Stayed              NaN   \n",
       "...                           ...               ...              ...   \n",
       "7038                           si            Stayed              NaN   \n",
       "7039                           si           Churned  Dissatisfaction   \n",
       "7040                           si            Joined              NaN   \n",
       "7041                           si            Stayed              NaN   \n",
       "7042                           no            Stayed              NaN   \n",
       "\n",
       "                        razon_churn  \n",
       "0                               NaN  \n",
       "2     Competitor had better devices  \n",
       "3           Product dissatisfaction  \n",
       "4               Network reliability  \n",
       "5                               NaN  \n",
       "...                             ...  \n",
       "7038                            NaN  \n",
       "7039        Product dissatisfaction  \n",
       "7040                            NaN  \n",
       "7041                            NaN  \n",
       "7042                            NaN  \n",
       "\n",
       "[6902 rows x 24 columns]"
      ]
     },
     "execution_count": 831,
     "metadata": {},
     "output_type": "execute_result"
    }
   ],
   "source": [
    "df[var_cualitativas]"
   ]
  },
  {
   "cell_type": "code",
   "execution_count": 832,
   "id": "680b6300",
   "metadata": {},
   "outputs": [],
   "source": [
    "from sklearn.preprocessing import LabelEncoder"
   ]
  },
  {
   "cell_type": "code",
   "execution_count": 833,
   "id": "5d3ea17d",
   "metadata": {},
   "outputs": [],
   "source": [
    "# Creamos la instancia del objeto\n",
    "labelencoder = LabelEncoder()"
   ]
  },
  {
   "cell_type": "code",
   "execution_count": 834,
   "id": "2428acd4",
   "metadata": {},
   "outputs": [],
   "source": [
    "df[var_cualitativas]=df[var_cualitativas].apply(LabelEncoder().fit_transform)"
   ]
  },
  {
   "cell_type": "code",
   "execution_count": 835,
   "id": "2a27e25c",
   "metadata": {},
   "outputs": [
    {
     "data": {
      "text/plain": [
       "genero                          int32\n",
       "casado                          int32\n",
       "oferta                          int32\n",
       "servicio_telefonico             int32\n",
       "lineas_multiples                int32\n",
       "servicio_internet               int32\n",
       "tipo_internet                   int32\n",
       "seguridad_online                int32\n",
       "respaldo_online                 int32\n",
       "plan_proteccion_equipo          int32\n",
       "soporte_tech_premium            int32\n",
       "servicio_tv                     int32\n",
       "servicio_peliculas              int32\n",
       "servicio_musica                 int32\n",
       "datos_ilimitados                int32\n",
       "contrato                        int32\n",
       "factura_fisica                  int32\n",
       "tipo_pago                       int32\n",
       "total_reembolsos                int32\n",
       "total_extra_cargos              int32\n",
       "total_larga_distancia_cargos    int32\n",
       "estado_consumidor               int32\n",
       "categoria_churn                 int32\n",
       "razon_churn                     int32\n",
       "dtype: object"
      ]
     },
     "execution_count": 835,
     "metadata": {},
     "output_type": "execute_result"
    }
   ],
   "source": [
    "df[var_cualitativas].dtypes"
   ]
  },
  {
   "cell_type": "markdown",
   "id": "8dbe63a4",
   "metadata": {},
   "source": [
    "Una vez que tenemos nuestra base de datos en el estado deseado para la modelación, procedemos por fines explicativos a incluir todas las variables de categoría churn y la razon_churn que son  variables con mayor valor explicativo\n",
    "fuera del modelo."
   ]
  },
  {
   "cell_type": "markdown",
   "id": "58b70daf",
   "metadata": {},
   "source": [
    "\n",
    "## El modelo de Regresión Logística multinomial en nuestra base de datos"
   ]
  },
  {
   "cell_type": "code",
   "execution_count": 904,
   "id": "22dd5f5f",
   "metadata": {},
   "outputs": [
    {
     "name": "stdout",
     "output_type": "stream",
     "text": [
      "Optimization terminated successfully.\n",
      "         Current function value: 0.405905\n",
      "         Iterations 13\n"
     ]
    }
   ],
   "source": [
    "regresion1 = sm.MNLogit.from_formula(\"estado_consumidor ~ genero + edad + casado + num_dependientes + num_referencias + \\\n",
    "                      antiguedad_meses + oferta + servicio_telefonico + cargos_larga_distancia + lineas_multiples + \\\n",
    "                      servicio_internet + tipo_internet + gigas_promedio_descargas + seguridad_online + respaldo_online +\\\n",
    "                      plan_proteccion_equipo + soporte_tech_premium + servicio_tv + servicio_peliculas + servicio_musica +\\\n",
    "                      datos_ilimitados + contrato + factura_fisica + tipo_pago + cargo_mensual + cargos_totales +\\\n",
    "                      total_reembolsos + total_extra_cargos + total_larga_distancia_cargos + total_ingreso \", data=df)\n",
    "\n",
    "results1 = regresion1.fit()"
   ]
  },
  {
   "cell_type": "markdown",
   "id": "d2705e2d",
   "metadata": {},
   "source": [
    "En vista que la notación de fórmula, se está haciendo difícil de abordar, el día de hoy aprenderemos una nueva syntaxis, que se asemeja a la estructura que usaremos cuando obtengamos los modelos por sklearn."
   ]
  },
  {
   "cell_type": "markdown",
   "id": "a5bd53fb",
   "metadata": {},
   "source": [
    "Primero, tenemos que separar a las variables explicativas de nuestra variable objetivo:"
   ]
  },
  {
   "cell_type": "code",
   "execution_count": 869,
   "id": "3eea45f0",
   "metadata": {},
   "outputs": [],
   "source": [
    "X = df.drop(['estado_consumidor', 'categoria_churn', 'razon_churn'] , axis=1)\n",
    "y = df.estado_consumidor"
   ]
  },
  {
   "cell_type": "code",
   "execution_count": 870,
   "id": "2abff2b1",
   "metadata": {},
   "outputs": [
    {
     "data": {
      "text/html": [
       "<div>\n",
       "<style scoped>\n",
       "    .dataframe tbody tr th:only-of-type {\n",
       "        vertical-align: middle;\n",
       "    }\n",
       "\n",
       "    .dataframe tbody tr th {\n",
       "        vertical-align: top;\n",
       "    }\n",
       "\n",
       "    .dataframe thead th {\n",
       "        text-align: right;\n",
       "    }\n",
       "</style>\n",
       "<table border=\"1\" class=\"dataframe\">\n",
       "  <thead>\n",
       "    <tr style=\"text-align: right;\">\n",
       "      <th></th>\n",
       "      <th>const</th>\n",
       "      <th>genero</th>\n",
       "      <th>edad</th>\n",
       "      <th>casado</th>\n",
       "      <th>num_dependientes</th>\n",
       "      <th>num_referencias</th>\n",
       "      <th>antiguedad_meses</th>\n",
       "      <th>oferta</th>\n",
       "      <th>servicio_telefonico</th>\n",
       "      <th>cargos_larga_distancia</th>\n",
       "      <th>...</th>\n",
       "      <th>datos_ilimitados</th>\n",
       "      <th>contrato</th>\n",
       "      <th>factura_fisica</th>\n",
       "      <th>tipo_pago</th>\n",
       "      <th>cargo_mensual</th>\n",
       "      <th>cargos_totales</th>\n",
       "      <th>total_reembolsos</th>\n",
       "      <th>total_extra_cargos</th>\n",
       "      <th>total_larga_distancia_cargos</th>\n",
       "      <th>total_ingreso</th>\n",
       "    </tr>\n",
       "  </thead>\n",
       "  <tbody>\n",
       "    <tr>\n",
       "      <th>0</th>\n",
       "      <td>1.0</td>\n",
       "      <td>0</td>\n",
       "      <td>37</td>\n",
       "      <td>1</td>\n",
       "      <td>0</td>\n",
       "      <td>2</td>\n",
       "      <td>9</td>\n",
       "      <td>0</td>\n",
       "      <td>1</td>\n",
       "      <td>42.39</td>\n",
       "      <td>...</td>\n",
       "      <td>1</td>\n",
       "      <td>1</td>\n",
       "      <td>1</td>\n",
       "      <td>1</td>\n",
       "      <td>65.60</td>\n",
       "      <td>593.30</td>\n",
       "      <td>0</td>\n",
       "      <td>0</td>\n",
       "      <td>1</td>\n",
       "      <td>974.81</td>\n",
       "    </tr>\n",
       "    <tr>\n",
       "      <th>2</th>\n",
       "      <td>1.0</td>\n",
       "      <td>1</td>\n",
       "      <td>50</td>\n",
       "      <td>0</td>\n",
       "      <td>0</td>\n",
       "      <td>0</td>\n",
       "      <td>4</td>\n",
       "      <td>5</td>\n",
       "      <td>1</td>\n",
       "      <td>33.65</td>\n",
       "      <td>...</td>\n",
       "      <td>1</td>\n",
       "      <td>0</td>\n",
       "      <td>1</td>\n",
       "      <td>0</td>\n",
       "      <td>73.90</td>\n",
       "      <td>280.85</td>\n",
       "      <td>0</td>\n",
       "      <td>0</td>\n",
       "      <td>1</td>\n",
       "      <td>415.45</td>\n",
       "    </tr>\n",
       "    <tr>\n",
       "      <th>3</th>\n",
       "      <td>1.0</td>\n",
       "      <td>1</td>\n",
       "      <td>78</td>\n",
       "      <td>1</td>\n",
       "      <td>0</td>\n",
       "      <td>1</td>\n",
       "      <td>13</td>\n",
       "      <td>4</td>\n",
       "      <td>1</td>\n",
       "      <td>27.82</td>\n",
       "      <td>...</td>\n",
       "      <td>1</td>\n",
       "      <td>0</td>\n",
       "      <td>1</td>\n",
       "      <td>0</td>\n",
       "      <td>98.00</td>\n",
       "      <td>1237.85</td>\n",
       "      <td>0</td>\n",
       "      <td>0</td>\n",
       "      <td>1</td>\n",
       "      <td>1599.51</td>\n",
       "    </tr>\n",
       "    <tr>\n",
       "      <th>4</th>\n",
       "      <td>1.0</td>\n",
       "      <td>0</td>\n",
       "      <td>75</td>\n",
       "      <td>1</td>\n",
       "      <td>0</td>\n",
       "      <td>3</td>\n",
       "      <td>3</td>\n",
       "      <td>0</td>\n",
       "      <td>1</td>\n",
       "      <td>7.38</td>\n",
       "      <td>...</td>\n",
       "      <td>1</td>\n",
       "      <td>0</td>\n",
       "      <td>1</td>\n",
       "      <td>1</td>\n",
       "      <td>83.90</td>\n",
       "      <td>267.40</td>\n",
       "      <td>0</td>\n",
       "      <td>0</td>\n",
       "      <td>1</td>\n",
       "      <td>289.54</td>\n",
       "    </tr>\n",
       "    <tr>\n",
       "      <th>5</th>\n",
       "      <td>1.0</td>\n",
       "      <td>0</td>\n",
       "      <td>23</td>\n",
       "      <td>0</td>\n",
       "      <td>3</td>\n",
       "      <td>0</td>\n",
       "      <td>9</td>\n",
       "      <td>5</td>\n",
       "      <td>1</td>\n",
       "      <td>16.77</td>\n",
       "      <td>...</td>\n",
       "      <td>1</td>\n",
       "      <td>0</td>\n",
       "      <td>1</td>\n",
       "      <td>1</td>\n",
       "      <td>69.40</td>\n",
       "      <td>571.45</td>\n",
       "      <td>0</td>\n",
       "      <td>0</td>\n",
       "      <td>1</td>\n",
       "      <td>722.38</td>\n",
       "    </tr>\n",
       "    <tr>\n",
       "      <th>...</th>\n",
       "      <td>...</td>\n",
       "      <td>...</td>\n",
       "      <td>...</td>\n",
       "      <td>...</td>\n",
       "      <td>...</td>\n",
       "      <td>...</td>\n",
       "      <td>...</td>\n",
       "      <td>...</td>\n",
       "      <td>...</td>\n",
       "      <td>...</td>\n",
       "      <td>...</td>\n",
       "      <td>...</td>\n",
       "      <td>...</td>\n",
       "      <td>...</td>\n",
       "      <td>...</td>\n",
       "      <td>...</td>\n",
       "      <td>...</td>\n",
       "      <td>...</td>\n",
       "      <td>...</td>\n",
       "      <td>...</td>\n",
       "      <td>...</td>\n",
       "    </tr>\n",
       "    <tr>\n",
       "      <th>7038</th>\n",
       "      <td>1.0</td>\n",
       "      <td>0</td>\n",
       "      <td>20</td>\n",
       "      <td>0</td>\n",
       "      <td>0</td>\n",
       "      <td>0</td>\n",
       "      <td>13</td>\n",
       "      <td>4</td>\n",
       "      <td>1</td>\n",
       "      <td>46.68</td>\n",
       "      <td>...</td>\n",
       "      <td>1</td>\n",
       "      <td>1</td>\n",
       "      <td>0</td>\n",
       "      <td>1</td>\n",
       "      <td>55.15</td>\n",
       "      <td>742.90</td>\n",
       "      <td>0</td>\n",
       "      <td>0</td>\n",
       "      <td>1</td>\n",
       "      <td>1349.74</td>\n",
       "    </tr>\n",
       "    <tr>\n",
       "      <th>7039</th>\n",
       "      <td>1.0</td>\n",
       "      <td>1</td>\n",
       "      <td>40</td>\n",
       "      <td>1</td>\n",
       "      <td>0</td>\n",
       "      <td>1</td>\n",
       "      <td>22</td>\n",
       "      <td>4</td>\n",
       "      <td>1</td>\n",
       "      <td>16.20</td>\n",
       "      <td>...</td>\n",
       "      <td>1</td>\n",
       "      <td>0</td>\n",
       "      <td>1</td>\n",
       "      <td>0</td>\n",
       "      <td>85.10</td>\n",
       "      <td>1873.70</td>\n",
       "      <td>0</td>\n",
       "      <td>0</td>\n",
       "      <td>1</td>\n",
       "      <td>2230.10</td>\n",
       "    </tr>\n",
       "    <tr>\n",
       "      <th>7040</th>\n",
       "      <td>1.0</td>\n",
       "      <td>1</td>\n",
       "      <td>22</td>\n",
       "      <td>0</td>\n",
       "      <td>0</td>\n",
       "      <td>0</td>\n",
       "      <td>2</td>\n",
       "      <td>5</td>\n",
       "      <td>1</td>\n",
       "      <td>18.62</td>\n",
       "      <td>...</td>\n",
       "      <td>1</td>\n",
       "      <td>0</td>\n",
       "      <td>1</td>\n",
       "      <td>1</td>\n",
       "      <td>50.30</td>\n",
       "      <td>92.75</td>\n",
       "      <td>0</td>\n",
       "      <td>0</td>\n",
       "      <td>1</td>\n",
       "      <td>129.99</td>\n",
       "    </tr>\n",
       "    <tr>\n",
       "      <th>7041</th>\n",
       "      <td>1.0</td>\n",
       "      <td>1</td>\n",
       "      <td>21</td>\n",
       "      <td>1</td>\n",
       "      <td>0</td>\n",
       "      <td>5</td>\n",
       "      <td>67</td>\n",
       "      <td>1</td>\n",
       "      <td>1</td>\n",
       "      <td>2.12</td>\n",
       "      <td>...</td>\n",
       "      <td>1</td>\n",
       "      <td>2</td>\n",
       "      <td>0</td>\n",
       "      <td>1</td>\n",
       "      <td>67.85</td>\n",
       "      <td>4627.65</td>\n",
       "      <td>0</td>\n",
       "      <td>0</td>\n",
       "      <td>1</td>\n",
       "      <td>4769.69</td>\n",
       "    </tr>\n",
       "    <tr>\n",
       "      <th>7042</th>\n",
       "      <td>1.0</td>\n",
       "      <td>1</td>\n",
       "      <td>36</td>\n",
       "      <td>1</td>\n",
       "      <td>0</td>\n",
       "      <td>1</td>\n",
       "      <td>63</td>\n",
       "      <td>0</td>\n",
       "      <td>0</td>\n",
       "      <td>0.00</td>\n",
       "      <td>...</td>\n",
       "      <td>1</td>\n",
       "      <td>2</td>\n",
       "      <td>0</td>\n",
       "      <td>0</td>\n",
       "      <td>59.00</td>\n",
       "      <td>3707.60</td>\n",
       "      <td>0</td>\n",
       "      <td>0</td>\n",
       "      <td>0</td>\n",
       "      <td>3707.60</td>\n",
       "    </tr>\n",
       "  </tbody>\n",
       "</table>\n",
       "<p>6902 rows × 31 columns</p>\n",
       "</div>"
      ],
      "text/plain": [
       "      const  genero  edad  casado  num_dependientes  num_referencias  \\\n",
       "0       1.0       0    37       1                 0                2   \n",
       "2       1.0       1    50       0                 0                0   \n",
       "3       1.0       1    78       1                 0                1   \n",
       "4       1.0       0    75       1                 0                3   \n",
       "5       1.0       0    23       0                 3                0   \n",
       "...     ...     ...   ...     ...               ...              ...   \n",
       "7038    1.0       0    20       0                 0                0   \n",
       "7039    1.0       1    40       1                 0                1   \n",
       "7040    1.0       1    22       0                 0                0   \n",
       "7041    1.0       1    21       1                 0                5   \n",
       "7042    1.0       1    36       1                 0                1   \n",
       "\n",
       "      antiguedad_meses  oferta  servicio_telefonico  cargos_larga_distancia  \\\n",
       "0                    9       0                    1                   42.39   \n",
       "2                    4       5                    1                   33.65   \n",
       "3                   13       4                    1                   27.82   \n",
       "4                    3       0                    1                    7.38   \n",
       "5                    9       5                    1                   16.77   \n",
       "...                ...     ...                  ...                     ...   \n",
       "7038                13       4                    1                   46.68   \n",
       "7039                22       4                    1                   16.20   \n",
       "7040                 2       5                    1                   18.62   \n",
       "7041                67       1                    1                    2.12   \n",
       "7042                63       0                    0                    0.00   \n",
       "\n",
       "      ...  datos_ilimitados  contrato  factura_fisica  tipo_pago  \\\n",
       "0     ...                 1         1               1          1   \n",
       "2     ...                 1         0               1          0   \n",
       "3     ...                 1         0               1          0   \n",
       "4     ...                 1         0               1          1   \n",
       "5     ...                 1         0               1          1   \n",
       "...   ...               ...       ...             ...        ...   \n",
       "7038  ...                 1         1               0          1   \n",
       "7039  ...                 1         0               1          0   \n",
       "7040  ...                 1         0               1          1   \n",
       "7041  ...                 1         2               0          1   \n",
       "7042  ...                 1         2               0          0   \n",
       "\n",
       "      cargo_mensual  cargos_totales  total_reembolsos  total_extra_cargos  \\\n",
       "0             65.60          593.30                 0                   0   \n",
       "2             73.90          280.85                 0                   0   \n",
       "3             98.00         1237.85                 0                   0   \n",
       "4             83.90          267.40                 0                   0   \n",
       "5             69.40          571.45                 0                   0   \n",
       "...             ...             ...               ...                 ...   \n",
       "7038          55.15          742.90                 0                   0   \n",
       "7039          85.10         1873.70                 0                   0   \n",
       "7040          50.30           92.75                 0                   0   \n",
       "7041          67.85         4627.65                 0                   0   \n",
       "7042          59.00         3707.60                 0                   0   \n",
       "\n",
       "      total_larga_distancia_cargos  total_ingreso  \n",
       "0                                1         974.81  \n",
       "2                                1         415.45  \n",
       "3                                1        1599.51  \n",
       "4                                1         289.54  \n",
       "5                                1         722.38  \n",
       "...                            ...            ...  \n",
       "7038                             1        1349.74  \n",
       "7039                             1        2230.10  \n",
       "7040                             1         129.99  \n",
       "7041                             1        4769.69  \n",
       "7042                             0        3707.60  \n",
       "\n",
       "[6902 rows x 31 columns]"
      ]
     },
     "execution_count": 870,
     "metadata": {},
     "output_type": "execute_result"
    }
   ],
   "source": [
    "X = sm.add_constant(X, prepend = True)\n",
    "X"
   ]
  },
  {
   "cell_type": "code",
   "execution_count": 871,
   "id": "d12fe169",
   "metadata": {},
   "outputs": [
    {
     "name": "stdout",
     "output_type": "stream",
     "text": [
      "Optimization terminated successfully.\n",
      "         Current function value: 0.405905\n",
      "         Iterations 13\n"
     ]
    }
   ],
   "source": [
    "regresion_multinomial = sm.MNLogit(y, X)\n",
    "results=regresion_multinomial.fit()"
   ]
  },
  {
   "cell_type": "markdown",
   "id": "61eaa2df",
   "metadata": {},
   "source": [
    "El default de Python son 35 iteraciones, si el modelo logístico no logra converger hasta ese punto, es probable que Python nos muestre un error. En nuestro ejercicio, vemos que Python a encontrado una solución después de 13 iteraciones."
   ]
  },
  {
   "cell_type": "code",
   "execution_count": 872,
   "id": "3436e5d4",
   "metadata": {},
   "outputs": [
    {
     "name": "stdout",
     "output_type": "stream",
     "text": [
      "                          MNLogit Regression Results                          \n",
      "==============================================================================\n",
      "Dep. Variable:      estado_consumidor   No. Observations:                 6902\n",
      "Model:                        MNLogit   Df Residuals:                     6842\n",
      "Method:                           MLE   Df Model:                           58\n",
      "Date:                Tue, 18 Oct 2022   Pseudo R-squ.:                  0.4919\n",
      "Time:                        21:24:02   Log-Likelihood:                -2801.6\n",
      "converged:                       True   LL-Null:                       -5514.0\n",
      "Covariance Type:            nonrobust   LLR p-value:                     0.000\n",
      "================================================================================================\n",
      "         estado_consumidor=1       coef    std err          z      P>|z|      [0.025      0.975]\n",
      "------------------------------------------------------------------------------------------------\n",
      "const                           -1.2136      1.812     -0.670      0.503      -4.765       2.338\n",
      "genero                           0.0544      0.145      0.375      0.708      -0.230       0.339\n",
      "edad                            -0.0299      0.006     -5.345      0.000      -0.041      -0.019\n",
      "casado                          -1.9550      0.288     -6.787      0.000      -2.520      -1.390\n",
      "num_dependientes                 0.4854      0.105      4.620      0.000       0.279       0.691\n",
      "num_referencias                  0.6924      0.062     11.247      0.000       0.572       0.813\n",
      "antiguedad_meses                -1.0010      0.118     -8.488      0.000      -1.232      -0.770\n",
      "oferta                          -0.0442      0.030     -1.493      0.135      -0.102       0.014\n",
      "servicio_telefonico            124.0705   2.23e+12   5.57e-11      1.000   -4.37e+12    4.37e+12\n",
      "cargos_larga_distancia          -0.0088      0.008     -1.095      0.273      -0.024       0.007\n",
      "lineas_multiples                -0.1586      0.227     -0.699      0.484      -0.603       0.286\n",
      "servicio_internet                6.8225      1.648      4.139      0.000       3.592      10.053\n",
      "tipo_internet                    0.3369      0.186      1.807      0.071      -0.028       0.702\n",
      "gigas_promedio_descargas        -0.0047      0.005     -0.913      0.361      -0.015       0.005\n",
      "seguridad_online                 0.8868      0.250      3.543      0.000       0.396       1.377\n",
      "respaldo_online                  0.8010      0.221      3.630      0.000       0.369       1.233\n",
      "plan_proteccion_equipo           0.1470      0.257      0.573      0.567      -0.356       0.650\n",
      "soporte_tech_premium             1.0342      0.246      4.197      0.000       0.551       1.517\n",
      "servicio_tv                      0.3926      0.248      1.585      0.113      -0.093       0.878\n",
      "servicio_peliculas               1.5613      0.405      3.852      0.000       0.767       2.356\n",
      "servicio_musica                 -1.4224      0.368     -3.866      0.000      -2.144      -0.701\n",
      "datos_ilimitados                -1.2578      0.645     -1.950      0.051      -2.522       0.007\n",
      "contrato                         1.6623      0.183      9.081      0.000       1.304       2.021\n",
      "factura_fisica                  -0.6571      0.153     -4.290      0.000      -0.957      -0.357\n",
      "tipo_pago                       -0.0951      0.115     -0.824      0.410      -0.321       0.131\n",
      "cargo_mensual                   -0.0635      0.012     -5.266      0.000      -0.087      -0.040\n",
      "cargos_totales                   0.0029      0.004      0.822      0.411      -0.004       0.010\n",
      "total_reembolsos                 0.6289      0.595      1.058      0.290      -0.536       1.794\n",
      "total_extra_cargos              -0.7632      0.686     -1.113      0.266      -2.107       0.581\n",
      "total_larga_distancia_cargos  -122.2944   2.23e+12  -5.49e-11      1.000   -4.37e+12    4.37e+12\n",
      "total_ingreso                    0.0011      0.003      0.382      0.702      -0.004       0.007\n",
      "------------------------------------------------------------------------------------------------\n",
      "         estado_consumidor=2       coef    std err          z      P>|z|      [0.025      0.975]\n",
      "------------------------------------------------------------------------------------------------\n",
      "const                           -6.4702        nan        nan        nan         nan         nan\n",
      "genero                           0.0074      0.076      0.098      0.922      -0.141       0.156\n",
      "edad                            -0.0156      0.003     -5.216      0.000      -0.021      -0.010\n",
      "casado                          -1.5748      0.114    -13.768      0.000      -1.799      -1.351\n",
      "num_dependientes                 0.6678      0.063     10.578      0.000       0.544       0.792\n",
      "num_referencias                  0.5238      0.034     15.241      0.000       0.456       0.591\n",
      "antiguedad_meses                 0.1001      0.008     12.443      0.000       0.084       0.116\n",
      "oferta                           0.0098      0.019      0.503      0.615      -0.028       0.048\n",
      "servicio_telefonico              0.8491   9.14e+06   9.29e-08      1.000   -1.79e+07    1.79e+07\n",
      "cargos_larga_distancia           0.0007      0.004      0.163      0.871      -0.008       0.009\n",
      "lineas_multiples                 0.1047      0.097      1.082      0.279      -0.085       0.294\n",
      "servicio_internet                6.4924      0.083     77.841      0.000       6.329       6.656\n",
      "tipo_internet                    0.5206      0.085      6.100      0.000       0.353       0.688\n",
      "gigas_promedio_descargas        -0.0024      0.003     -0.945      0.345      -0.007       0.003\n",
      "seguridad_online                 0.6744      0.097      6.955      0.000       0.484       0.864\n",
      "respaldo_online                  0.4182      0.090      4.638      0.000       0.241       0.595\n",
      "plan_proteccion_equipo           0.2757      0.092      2.992      0.003       0.095       0.456\n",
      "soporte_tech_premium             0.6734      0.096      7.008      0.000       0.485       0.862\n",
      "servicio_tv                      0.2268      0.102      2.212      0.027       0.026       0.428\n",
      "servicio_peliculas               0.5260      0.165      3.184      0.001       0.202       0.850\n",
      "servicio_musica                 -0.2565      0.150     -1.708      0.088      -0.551       0.038\n",
      "datos_ilimitados                -0.2246      0.309     -0.726      0.468      -0.831       0.382\n",
      "contrato                         1.2344      0.078     15.780      0.000       1.081       1.388\n",
      "factura_fisica                  -0.2660      0.086     -3.087      0.002      -0.435      -0.097\n",
      "tipo_pago                        0.0583      0.067      0.867      0.386      -0.073       0.190\n",
      "cargo_mensual                   -0.0410      0.005     -8.079      0.000      -0.051      -0.031\n",
      "cargos_totales                  -0.0008      0.000     -4.351      0.000      -0.001      -0.000\n",
      "total_reembolsos                 0.2368      0.151      1.566      0.117      -0.060       0.533\n",
      "total_extra_cargos              -0.2973      0.330     -0.902      0.367      -0.943       0.349\n",
      "total_larga_distancia_cargos     0.8491   9.14e+06   9.29e-08      1.000   -1.79e+07    1.79e+07\n",
      "total_ingreso                 3.897e-06      0.000      0.030      0.976      -0.000       0.000\n",
      "================================================================================================\n"
     ]
    }
   ],
   "source": [
    "print(results.summary())"
   ]
  },
  {
   "cell_type": "markdown",
   "id": "67f2eb4d",
   "metadata": {},
   "source": [
    "Como habíamos mencionado en la teoría, se calcularán tantos modelos como niveles-1 de las clases existan en la variable dependiente."
   ]
  },
  {
   "cell_type": "markdown",
   "id": "ed27ec6d",
   "metadata": {},
   "source": [
    "De los resultados obtenidos, podemos ver que algunos de los valores de p de las variables son mayores a 0.05, por lo que con la ayuda de el VIF eliminaremos aquellos predictores que presenten multicolinearidad."
   ]
  },
  {
   "cell_type": "markdown",
   "id": "b220408d",
   "metadata": {},
   "source": [
    "## Verificación de los supuestos de la Regresión Logística Multinomial"
   ]
  },
  {
   "cell_type": "markdown",
   "id": "efa60347",
   "metadata": {},
   "source": [
    "Dado que contamos con una sola variable explicativa en este modelo de Regresión Lineal, los supuestos a verificar se centrarán en:\n",
    "\n",
    "- Linealidad en los parámetros\n",
    "    \n",
    "- Normalidad en los residuos\n",
    "    \n",
    "- Homocedasticidad en los residuos\n",
    "\n",
    "\n",
    "Adicionalmente, la regresión logística multinomial asume que las probabilidades de preferir una determinada clase sobre otra no dependen de la presencia o ausencia de otras alternativas, por lo que si tenemos un ejercicio en el que tenemos tres opciones, las probabilidades relativas de predecir la categoría A o B no cambian si se agrega otra opción D como posibilidad adicional."
   ]
  },
  {
   "cell_type": "markdown",
   "id": "10c0a0dc",
   "metadata": {},
   "source": [
    "### 1. Variable dependiente categórica"
   ]
  },
  {
   "cell_type": "markdown",
   "id": "ae8376ce",
   "metadata": {},
   "source": [
    "Para comprobar este supuesto podemos inspeccionar la base de datos y comprobar su tipo de dato, o graficar por medio de un barplot, la proporción de los niveles en nuestra variable objetivo."
   ]
  },
  {
   "cell_type": "code",
   "execution_count": 873,
   "id": "acb98dc1",
   "metadata": {},
   "outputs": [
    {
     "data": {
      "image/png": "[encoded data removed]",
      "text/plain": [
       "<Figure size 432x288 with 1 Axes>"
      ]
     },
     "metadata": {
      "needs_background": "light"
     },
     "output_type": "display_data"
    }
   ],
   "source": [
    "df.estado_consumidor.value_counts().plot(kind='bar', title=\"estado_consumidor\")\n",
    "plt.show()"
   ]
  },
  {
   "cell_type": "markdown",
   "id": "c037fb2a",
   "metadata": {},
   "source": [
    "Como observamos este supuesto se cumple dado que nuestra variable objetivo sólo tiene tres niveles.\n"
   ]
  },
  {
   "cell_type": "markdown",
   "id": "5d834109",
   "metadata": {},
   "source": [
    "### 3. No colinelidad perfecta ni semi-perfecta en los predictores"
   ]
  },
  {
   "cell_type": "code",
   "execution_count": 874,
   "id": "c1766551",
   "metadata": {},
   "outputs": [
    {
     "data": {
      "text/plain": [
       "genero                            int32\n",
       "edad                              int64\n",
       "casado                            int32\n",
       "num_dependientes                  int64\n",
       "num_referencias                   int64\n",
       "antiguedad_meses                  int64\n",
       "oferta                            int32\n",
       "servicio_telefonico               int32\n",
       "cargos_larga_distancia          float64\n",
       "lineas_multiples                  int32\n",
       "servicio_internet                 int32\n",
       "tipo_internet                     int32\n",
       "gigas_promedio_descargas        float64\n",
       "seguridad_online                  int32\n",
       "respaldo_online                   int32\n",
       "plan_proteccion_equipo            int32\n",
       "soporte_tech_premium              int32\n",
       "servicio_tv                       int32\n",
       "servicio_peliculas                int32\n",
       "servicio_musica                   int32\n",
       "datos_ilimitados                  int32\n",
       "contrato                          int32\n",
       "factura_fisica                    int32\n",
       "tipo_pago                         int32\n",
       "cargo_mensual                   float64\n",
       "cargos_totales                  float64\n",
       "total_reembolsos                  int32\n",
       "total_extra_cargos                int32\n",
       "total_larga_distancia_cargos      int32\n",
       "total_ingreso                   float64\n",
       "estado_consumidor                 int32\n",
       "categoria_churn                   int32\n",
       "razon_churn                       int32\n",
       "dtype: object"
      ]
     },
     "execution_count": 874,
     "metadata": {},
     "output_type": "execute_result"
    }
   ],
   "source": [
    "df.dtypes"
   ]
  },
  {
   "cell_type": "markdown",
   "id": "f5f563d1",
   "metadata": {},
   "source": [
    "Ahora si, calculemos el VIF de nuestras vaibales para ver que tan correlacionadas están entre sí:"
   ]
  },
  {
   "cell_type": "code",
   "execution_count": 875,
   "id": "9d964a26",
   "metadata": {},
   "outputs": [],
   "source": [
    "from statsmodels.stats.outliers_influence import variance_inflation_factor"
   ]
  },
  {
   "cell_type": "code",
   "execution_count": 876,
   "id": "26c40516",
   "metadata": {},
   "outputs": [
    {
     "name": "stdout",
     "output_type": "stream",
     "text": [
      "                         feature          VIF\n",
      "8            servicio_telefonico          inf\n",
      "29  total_larga_distancia_cargos          inf\n",
      "0                          const  1432.685535\n",
      "11             servicio_internet   153.818231\n",
      "30                 total_ingreso    58.914920\n",
      "26                cargos_totales    53.232261\n",
      "21              datos_ilimitados    51.365334\n",
      "25                 cargo_mensual    33.636466\n",
      "28            total_extra_cargos    15.853323\n",
      "19            servicio_peliculas    14.268664\n",
      "20               servicio_musica    11.672592\n",
      "6               antiguedad_meses     8.780049\n",
      "12                 tipo_internet     7.692555\n",
      "18                   servicio_tv     6.463520\n",
      "17          soporte_tech_premium     4.847107\n",
      "14              seguridad_online     4.729145\n",
      "16        plan_proteccion_equipo     4.599559\n",
      "15               respaldo_online     4.316054\n",
      "9         cargos_larga_distancia     3.138632\n",
      "10              lineas_multiples     3.051568\n",
      "22                      contrato     2.105511\n",
      "3                         casado     2.033161\n",
      "13      gigas_promedio_descargas     2.021630\n",
      "5                num_referencias     1.897481\n",
      "2                           edad     1.645533\n",
      "4               num_dependientes     1.237695\n",
      "23                factura_fisica     1.202140\n",
      "24                     tipo_pago     1.165790\n",
      "7                         oferta     1.123628\n",
      "27              total_reembolsos     1.012057\n",
      "1                         genero     1.003240\n"
     ]
    }
   ],
   "source": [
    "# Creamos el dataframe del VIF\n",
    "vif_data = pd.DataFrame()\n",
    "vif_data[\"feature\"] = X.columns\n",
    "  \n",
    "# Calculamos el VIF por c/variable\n",
    "vif_data[\"VIF\"] = [variance_inflation_factor(X.values, i) for i in range(len(X.columns))]\n",
    "\n",
    "print(vif_data.sort_values(by=['VIF'], ascending=False ))"
   ]
  },
  {
   "cell_type": "markdown",
   "id": "805b59fc",
   "metadata": {},
   "source": [
    "Como tenemos variables con una multicolinearidad que sobrepasa los rangos aceptables, en esta ronda procedemos a eliminar a las variables de: \n",
    "- servicio_telefonico\n",
    "- total_larga_distancia_cargos \n",
    "- servicio_internet\n",
    "- total_ingreso \n",
    "- cargos_totales \n",
    "- datos_ilimitados \n",
    "- cargo_mensual\n",
    "- total_extra_cargos\n",
    "- servicio_peliculas \n",
    "- servicio_musica \n",
    "- antiguedad_meses \n",
    "- tipo_internet \n",
    "- servicio_tv     "
   ]
  },
  {
   "cell_type": "code",
   "execution_count": 877,
   "id": "7de607db",
   "metadata": {},
   "outputs": [],
   "source": [
    "X2 = X.drop(['servicio_telefonico', 'total_larga_distancia_cargos', 'servicio_internet', 'total_ingreso', 'cargos_totales', 'datos_ilimitados',\n",
    "             'cargo_mensual', 'total_extra_cargos', 'servicio_peliculas', 'servicio_musica',\n",
    "             'antiguedad_meses', 'tipo_internet', 'servicio_tv'] , axis=1)"
   ]
  },
  {
   "cell_type": "code",
   "execution_count": 878,
   "id": "0d1dd11f",
   "metadata": {},
   "outputs": [
    {
     "name": "stdout",
     "output_type": "stream",
     "text": [
      "Optimization terminated successfully.\n",
      "         Current function value: 0.532275\n",
      "         Iterations 8\n"
     ]
    }
   ],
   "source": [
    "regresion_multinomial2 = sm.MNLogit(y, X2)\n",
    "results2=regresion_multinomial2.fit()"
   ]
  },
  {
   "cell_type": "markdown",
   "id": "9e0e1a9c",
   "metadata": {},
   "source": [
    "El default de Python son 35 iteraciones, si el modelo logístico no logra converger hasta ese punto, es probable que Python nos muestre un error. En nuestro ejercicio, vemos que Python a encontrado una solución después de 8 iteraciones."
   ]
  },
  {
   "cell_type": "code",
   "execution_count": 879,
   "id": "487019e4",
   "metadata": {},
   "outputs": [
    {
     "name": "stdout",
     "output_type": "stream",
     "text": [
      "                          MNLogit Regression Results                          \n",
      "==============================================================================\n",
      "Dep. Variable:      estado_consumidor   No. Observations:                 6902\n",
      "Model:                        MNLogit   Df Residuals:                     6866\n",
      "Method:                           MLE   Df Model:                           34\n",
      "Date:                Tue, 18 Oct 2022   Pseudo R-squ.:                  0.3337\n",
      "Time:                        21:24:07   Log-Likelihood:                -3673.8\n",
      "converged:                       True   LL-Null:                       -5514.0\n",
      "Covariance Type:            nonrobust   LLR p-value:                     0.000\n",
      "============================================================================================\n",
      "     estado_consumidor=1       coef    std err          z      P>|z|      [0.025      0.975]\n",
      "--------------------------------------------------------------------------------------------\n",
      "const                        0.6174      0.323      1.912      0.056      -0.015       1.250\n",
      "genero                       0.0894      0.115      0.781      0.435      -0.135       0.314\n",
      "edad                        -0.0218      0.004     -5.009      0.000      -0.030      -0.013\n",
      "casado                      -2.6055      0.239    -10.909      0.000      -3.074      -2.137\n",
      "num_dependientes             0.6129      0.085      7.249      0.000       0.447       0.779\n",
      "num_referencias              0.5894      0.048     12.312      0.000       0.496       0.683\n",
      "oferta                       0.0061      0.027      0.229      0.819      -0.046       0.058\n",
      "cargos_larga_distancia      -0.0131      0.004     -3.264      0.001      -0.021      -0.005\n",
      "lineas_multiples            -0.6716      0.108     -6.242      0.000      -0.883      -0.461\n",
      "gigas_promedio_descargas    -0.0147      0.004     -3.589      0.000      -0.023      -0.007\n",
      "seguridad_online             0.4029      0.143      2.820      0.005       0.123       0.683\n",
      "respaldo_online              0.1615      0.135      1.193      0.233      -0.104       0.427\n",
      "plan_proteccion_equipo      -0.3925      0.142     -2.774      0.006      -0.670      -0.115\n",
      "soporte_tech_premium         0.4083      0.146      2.803      0.005       0.123       0.694\n",
      "contrato                    -0.0032      0.137     -0.023      0.982      -0.272       0.266\n",
      "factura_fisica              -0.8363      0.121     -6.885      0.000      -1.074      -0.598\n",
      "tipo_pago                    0.3134      0.093      3.384      0.001       0.132       0.495\n",
      "total_reembolsos            -1.4518      0.470     -3.090      0.002      -2.373      -0.531\n",
      "--------------------------------------------------------------------------------------------\n",
      "     estado_consumidor=2       coef    std err          z      P>|z|      [0.025      0.975]\n",
      "--------------------------------------------------------------------------------------------\n",
      "const                        0.3735      0.203      1.841      0.066      -0.024       0.771\n",
      "genero                       0.0309      0.071      0.436      0.663      -0.108       0.170\n",
      "edad                        -0.0151      0.003     -5.866      0.000      -0.020      -0.010\n",
      "casado                      -1.3218      0.105    -12.635      0.000      -1.527      -1.117\n",
      "num_dependientes             0.6565      0.061     10.781      0.000       0.537       0.776\n",
      "num_referencias              0.5338      0.033     15.949      0.000       0.468       0.599\n",
      "oferta                      -0.0527      0.018     -2.956      0.003      -0.088      -0.018\n",
      "cargos_larga_distancia      -0.0012      0.002     -0.476      0.634      -0.006       0.004\n",
      "lineas_multiples             0.1127      0.059      1.907      0.056      -0.003       0.228\n",
      "gigas_promedio_descargas    -0.0009      0.002     -0.380      0.704      -0.005       0.004\n",
      "seguridad_online             0.4648      0.081      5.747      0.000       0.306       0.623\n",
      "respaldo_online              0.1722      0.075      2.308      0.021       0.026       0.318\n",
      "plan_proteccion_equipo      -0.1675      0.077     -2.178      0.029      -0.318      -0.017\n",
      "soporte_tech_premium         0.2955      0.083      3.577      0.000       0.134       0.457\n",
      "contrato                     1.7075      0.071     24.017      0.000       1.568       1.847\n",
      "factura_fisica              -0.3343      0.079     -4.231      0.000      -0.489      -0.179\n",
      "tipo_pago                    0.0541      0.061      0.881      0.378      -0.066       0.174\n",
      "total_reembolsos             0.3300      0.146      2.254      0.024       0.043       0.617\n",
      "============================================================================================\n"
     ]
    }
   ],
   "source": [
    "print(results2.summary())"
   ]
  },
  {
   "cell_type": "markdown",
   "id": "00e99174",
   "metadata": {},
   "source": [
    "### 3. No colinelidad perfecta ni semi-perfecta en los predictores"
   ]
  },
  {
   "cell_type": "code",
   "execution_count": 880,
   "id": "8c9eec66",
   "metadata": {},
   "outputs": [
    {
     "name": "stdout",
     "output_type": "stream",
     "text": [
      "                     feature        VIF\n",
      "0                      const  34.172889\n",
      "13      soporte_tech_premium   3.738362\n",
      "10          seguridad_online   3.537855\n",
      "12    plan_proteccion_equipo   3.119836\n",
      "11           respaldo_online   2.999815\n",
      "3                     casado   1.955672\n",
      "5            num_referencias   1.886856\n",
      "9   gigas_promedio_descargas   1.847666\n",
      "2                       edad   1.424776\n",
      "14                  contrato   1.397068\n",
      "8           lineas_multiples   1.268381\n",
      "4           num_dependientes   1.220888\n",
      "15            factura_fisica   1.153149\n",
      "7     cargos_larga_distancia   1.140622\n",
      "16                 tipo_pago   1.114033\n",
      "6                     oferta   1.061249\n",
      "17          total_reembolsos   1.007220\n",
      "1                     genero   1.001300\n"
     ]
    }
   ],
   "source": [
    "# Creamos el dataframe del VIF\n",
    "vif_data = pd.DataFrame()\n",
    "vif_data[\"feature\"] = X2.columns\n",
    "  \n",
    "# Calculamos el VIF por c/variable\n",
    "vif_data[\"VIF\"] = [variance_inflation_factor(X2.values, i) for i in range(len(X2.columns))]\n",
    "\n",
    "print(vif_data.sort_values(by=['VIF'], ascending=False ))"
   ]
  },
  {
   "cell_type": "markdown",
   "id": "45114d74",
   "metadata": {},
   "source": [
    "Adicionalmente en esta tercera ronda, eliminaremos a las variables que en ambas regresiones logísticas no sean estadísticamente significativas: género"
   ]
  },
  {
   "cell_type": "code",
   "execution_count": 881,
   "id": "f5e2db7a",
   "metadata": {},
   "outputs": [],
   "source": [
    "X3 = X2.drop(['genero'] , axis=1)"
   ]
  },
  {
   "cell_type": "code",
   "execution_count": 882,
   "id": "bc3c7bf1",
   "metadata": {},
   "outputs": [
    {
     "name": "stdout",
     "output_type": "stream",
     "text": [
      "Optimization terminated successfully.\n",
      "         Current function value: 0.532321\n",
      "         Iterations 8\n"
     ]
    }
   ],
   "source": [
    "regresion_multinomial3 = sm.MNLogit(y, X3)\n",
    "results3=regresion_multinomial3.fit()"
   ]
  },
  {
   "cell_type": "code",
   "execution_count": 883,
   "id": "5bba8210",
   "metadata": {},
   "outputs": [
    {
     "name": "stdout",
     "output_type": "stream",
     "text": [
      "                          MNLogit Regression Results                          \n",
      "==============================================================================\n",
      "Dep. Variable:      estado_consumidor   No. Observations:                 6902\n",
      "Model:                        MNLogit   Df Residuals:                     6868\n",
      "Method:                           MLE   Df Model:                           32\n",
      "Date:                Tue, 18 Oct 2022   Pseudo R-squ.:                  0.3337\n",
      "Time:                        21:24:22   Log-Likelihood:                -3674.1\n",
      "converged:                       True   LL-Null:                       -5514.0\n",
      "Covariance Type:            nonrobust   LLR p-value:                     0.000\n",
      "============================================================================================\n",
      "     estado_consumidor=1       coef    std err          z      P>|z|      [0.025      0.975]\n",
      "--------------------------------------------------------------------------------------------\n",
      "const                        0.6654      0.317      2.101      0.036       0.045       1.286\n",
      "edad                        -0.0219      0.004     -5.024      0.000      -0.030      -0.013\n",
      "casado                      -2.6116      0.239    -10.940      0.000      -3.079      -2.144\n",
      "num_dependientes             0.6135      0.084      7.261      0.000       0.448       0.779\n",
      "num_referencias              0.5901      0.048     12.329      0.000       0.496       0.684\n",
      "oferta                       0.0065      0.027      0.243      0.808      -0.046       0.059\n",
      "cargos_larga_distancia      -0.0131      0.004     -3.262      0.001      -0.021      -0.005\n",
      "lineas_multiples            -0.6714      0.108     -6.240      0.000      -0.882      -0.461\n",
      "gigas_promedio_descargas    -0.0147      0.004     -3.607      0.000      -0.023      -0.007\n",
      "seguridad_online             0.4018      0.143      2.812      0.005       0.122       0.682\n",
      "respaldo_online              0.1586      0.135      1.172      0.241      -0.107       0.424\n",
      "plan_proteccion_equipo      -0.3912      0.142     -2.765      0.006      -0.669      -0.114\n",
      "soporte_tech_premium         0.4100      0.146      2.814      0.005       0.124       0.696\n",
      "contrato                    -0.0032      0.137     -0.024      0.981      -0.272       0.266\n",
      "factura_fisica              -0.8358      0.121     -6.882      0.000      -1.074      -0.598\n",
      "tipo_pago                    0.3154      0.093      3.408      0.001       0.134       0.497\n",
      "total_reembolsos            -1.4533      0.470     -3.093      0.002      -2.374      -0.532\n",
      "--------------------------------------------------------------------------------------------\n",
      "     estado_consumidor=2       coef    std err          z      P>|z|      [0.025      0.975]\n",
      "--------------------------------------------------------------------------------------------\n",
      "const                        0.3891      0.200      1.949      0.051      -0.002       0.780\n",
      "edad                        -0.0151      0.003     -5.872      0.000      -0.020      -0.010\n",
      "casado                      -1.3211      0.105    -12.629      0.000      -1.526      -1.116\n",
      "num_dependientes             0.6560      0.061     10.777      0.000       0.537       0.775\n",
      "num_referencias              0.5337      0.033     15.950      0.000       0.468       0.599\n",
      "oferta                      -0.0526      0.018     -2.950      0.003      -0.087      -0.018\n",
      "cargos_larga_distancia      -0.0012      0.002     -0.473      0.636      -0.006       0.004\n",
      "lineas_multiples             0.1131      0.059      1.915      0.056      -0.003       0.229\n",
      "gigas_promedio_descargas    -0.0009      0.002     -0.383      0.702      -0.005       0.004\n",
      "seguridad_online             0.4643      0.081      5.741      0.000       0.306       0.623\n",
      "respaldo_online              0.1718      0.075      2.303      0.021       0.026       0.318\n",
      "plan_proteccion_equipo      -0.1675      0.077     -2.178      0.029      -0.318      -0.017\n",
      "soporte_tech_premium         0.2960      0.083      3.584      0.000       0.134       0.458\n",
      "contrato                     1.7075      0.071     24.019      0.000       1.568       1.847\n",
      "factura_fisica              -0.3345      0.079     -4.234      0.000      -0.489      -0.180\n",
      "tipo_pago                    0.0543      0.061      0.885      0.376      -0.066       0.175\n",
      "total_reembolsos             0.3303      0.146      2.256      0.024       0.043       0.617\n",
      "============================================================================================\n"
     ]
    }
   ],
   "source": [
    "print(results3.summary())"
   ]
  },
  {
   "cell_type": "markdown",
   "id": "ed4edfef",
   "metadata": {},
   "source": [
    "\n",
    "### Significancia del modelo"
   ]
  },
  {
   "cell_type": "markdown",
   "id": "421b3148",
   "metadata": {},
   "source": [
    "Para evaluar la calidad del modelo de regresión logística, podemos observar dos métricas en el resultado:\n",
    "\n",
    "- El pseudo R^2, y\n",
    "- el LLR p-value"
   ]
  },
  {
   "cell_type": "markdown",
   "id": "9f3d1dad",
   "metadata": {},
   "source": [
    "#### El pseudo R^2"
   ]
  },
  {
   "cell_type": "markdown",
   "id": "a30b4a4a",
   "metadata": {},
   "source": [
    "Este valor se puede considerar como el sustituto del valor de R^2 para un modelo de regresión lineal ya que al igual que en el último, oscila entre entre 0 y 1. (Los valores más altos indican un mejor ajuste del modelo) y se calcula como el cociente entre la función logarítmica de verosimilitud maximizada del modelo nulo y del modelo completo.\n",
    "\n",
    "\n"
   ]
  },
  {
   "cell_type": "markdown",
   "id": "8fe2304b",
   "metadata": {},
   "source": [
    "En este ejemplo, el valor pseudo R^2 es 0.33, que es medianamente bajo, sugiriéndonos que las variables predictoras en el modelo hacen un mediano trabajo al predecir el valor de la variable de respuesta.\n",
    "Recordemos que este es un pseudo valor de R en la medida que un R^2 como tal no existe en el modelo logístico por lo que su valor debe ser interpretado con más cautela que el original."
   ]
  },
  {
   "cell_type": "markdown",
   "id": "314b8d8a",
   "metadata": {},
   "source": [
    "#### El LLR p-value"
   ]
  },
  {
   "cell_type": "markdown",
   "id": "4196d1ae",
   "metadata": {},
   "source": [
    "Este valor se puede considerar como el sustituto del valor p para el valor F general de un modelo de regresión lineal.\n",
    "\n",
    "Si este valor está por debajo de cierto umbral (por ejemplo, α = .05), entonces podemos concluir que el modelo en general es \"útil\" y es mejor para predecir los valores de la variable de respuesta en comparación con un modelo sin variables predictoras.\n",
    "\n"
   ]
  },
  {
   "cell_type": "markdown",
   "id": "ee2dcce5",
   "metadata": {},
   "source": [
    "En este ejemplo, el valor p de LLR es de 0.000. por lo que podemos concluir que el modelo en su conjunto es útil."
   ]
  },
  {
   "cell_type": "markdown",
   "id": "e1f826bc",
   "metadata": {},
   "source": [
    "\n",
    "### Interpretaciones"
   ]
  },
  {
   "cell_type": "markdown",
   "id": "9dde1e27",
   "metadata": {},
   "source": [
    "Para los resultados del modelo en statsmodel, debemos tener en cuenta que existen k-1 modelos que muestran los coeficientes contra un grupo de referencia. En nuestros resultados, y tomando como referencia a la clase 0, (que corresponde a aquellos clientes que permanecieron en la empresa) podemos interpretar los resultados como:"
   ]
  },
  {
   "cell_type": "markdown",
   "id": "f03d2c90",
   "metadata": {},
   "source": [
    "La interpretación de los coeficientes y tomando en cuenta el grupo de referencia 0, los coeficientes representarán al logaritmo de los cocientes entre dos probabilidades: la probabilidad de pertenecer al grupo de interés o el analizado vs. la probabilidad de pertenecer al grupo de referencia. \n",
    "\n",
    "Si el grupo de referencia son los clientes que permanecieron en la empresa, el primer modelo corresponde al primer conjunto de coeficientes marcados como aquellos clientes que hicieron churn o salieron de la empresa, por lo que el coeficiente de la primera variable explicativa en ese modelo:edad(-0.0219)se interpretaría como:\n",
    "\n",
    "    \"Aumentar la medida de edad en una unidad dará como resultado una disminución de 0.0219 unidades en el logaritmo de la relación entre la probabilidad de ser un cliente que abandone la empesa frente a la probabilidad de que el cliente que permanezca en la empresa. \n",
    "    \n",
    "    -0.0219 significa enonces, que cuando los clientes pasan de ser clasificados como clientes que abandonan la empresa a clientes que permanecen en ella, los odds o razón de probabilidades es 0.0219 veces más baja y, por lo tanto, los clientes que hacen churn, tienden a ser de una edad más baja que los clientes que permanecen en la empresa. \n",
    "    \n",
    "    En otras palabras, si el cliente aumentara su edad en una unidad, se esperaría que las probabilidades logarítmicas multinomiales de ser un cliente que permanece en la empresa frente a un cliente que abandonó la empresa disminuyeran en 0.0219 unidades mientras se mantienen constantes todas las demás variables \"\n",
    "    \n",
    "    \n"
   ]
  },
  {
   "cell_type": "markdown",
   "id": "a0d78f53",
   "metadata": {},
   "source": [
    "Para las variables categóricas, tomemos el caso de la siguiente variable que contiene información de si el cliente es casado o no:"
   ]
  },
  {
   "cell_type": "markdown",
   "id": "55355da0",
   "metadata": {},
   "source": [
    "Para la variable de casado, la interpretación vendría dada por:\n",
    "\n",
    "    \"-2.6116 significa que cuando los clientes pasan de ser clientes que hacen churn a clientes que permanecen en la empresa,  la razón de probabilidades es 2.6116 veces más baja y, por lo tanto, los clientes que hacen churn en la empresa son aquellos que no se encuentran casados.\n",
    "    \n",
    "    \n",
    "    En la misma línea, esta es la estimación logística multinomial que compara el hecho de que un cliente esté casado frente a no estarlo (mientras otras variables en el modelo se mantienen constantes), por lo que el logit multinomial para los clientes que se encuentran casados en relación a aquellos que no, es de 2.61160 unidades más bajo para aquellos clientes que permanecen en la empresa frente a los que abandonan la empresa, manteniendo todos los demás predictores del modelo constantes. \n",
    "\n",
    "    En palabras más sencillas, indica que los clientes casados tienen más probabilidad que los clientes que no lo están de quedarse en la empresa frente a aquellos que hicieron churn \"\n",
    "\n",
    "\n",
    "\n"
   ]
  },
  {
   "cell_type": "markdown",
   "id": "d3cf7816",
   "metadata": {},
   "source": [
    "### Predicciones"
   ]
  },
  {
   "cell_type": "markdown",
   "id": "83d38e74",
   "metadata": {},
   "source": [
    "Dado que un modelo logístico modela el logaritmo de Odds, estas son las unidades en las que se devuelven las predicciones. Para predecir, es necesario convertir las unidades en probabilidades mediante la función softmax."
   ]
  },
  {
   "cell_type": "markdown",
   "id": "be967ed3",
   "metadata": {},
   "source": [
    "En Python, la función predict() puede devolver directamente las probabilidades en lugar de los logOddss de la siguiente forma:"
   ]
  },
  {
   "cell_type": "code",
   "execution_count": 888,
   "id": "36064815",
   "metadata": {},
   "outputs": [],
   "source": [
    "# performing predictions on the test datdaset\n",
    "y_pred = results3.predict()"
   ]
  },
  {
   "cell_type": "markdown",
   "id": "6d5e8b7c",
   "metadata": {},
   "source": [
    "## Evaluación del modelo"
   ]
  },
  {
   "cell_type": "markdown",
   "id": "f6d051a5",
   "metadata": {},
   "source": [
    "#### Accuracy y Matriz de confusión"
   ]
  },
  {
   "cell_type": "code",
   "execution_count": 905,
   "id": "71796893",
   "metadata": {},
   "outputs": [
    {
     "name": "stdout",
     "output_type": "stream",
     "text": [
      "[[1339.   15.  484.]\n",
      " [ 158.   13.  277.]\n",
      " [ 643.   14. 3959.]]\n",
      "Accuracy: 0.7694871051869023\n"
     ]
    }
   ],
   "source": [
    "t = results3.pred_table()\n",
    "print(t)\n",
    "print(\"Accuracy:\",np.diag(t).sum()/t.sum())\n"
   ]
  },
  {
   "cell_type": "markdown",
   "id": "543a4f5e",
   "metadata": {},
   "source": [
    "El porcentaje de aciertos es del 77%. Esto nos dice que del total de observaciones en el modelo, el modelo predijo correctamente la clase correspondiente el 77 % de las veces."
   ]
  },
  {
   "cell_type": "markdown",
   "id": "693d6a5f",
   "metadata": {},
   "source": [
    "A partir de los resultados, observamos que el modelo es capaz de clasificar correctamente 1339+13+3959/(1339+15+484+158+13+277+643+14+3959)=0.7686(77%) de las observaciones de entrenamiento. \n",
    "\n",
    "Si se analiza en detalle cómo se distribuye el error,la matriz de confusión muestra que: 324 y 77 fueron clasificados correctamente, mientras que el modelo categorizó incorrectamente un aproximadoo de 16% de las observaciones.\n"
   ]
  },
  {
   "cell_type": "markdown",
   "id": "c274008a",
   "metadata": {},
   "source": [
    "#### Conclusión"
   ]
  },
  {
   "cell_type": "markdown",
   "id": "f09cf6c0",
   "metadata": {},
   "source": [
    "El modelo logístico creado para predecir la probabilidad de que un cliente haga churn tomando como referencia a aquellos clientes que permanecieron en la empresa, es en conjunto significativo acorde al Likelihood ratio (p-value = 0.000) y la matriz de confusión presenta resultados en la línea del accuracy por lo que se conluye que hemos llegado a un modelo válido."
   ]
  },
  {
   "cell_type": "markdown",
   "id": "93848ebc",
   "metadata": {},
   "source": [
    "### Próximos pasos: "
   ]
  },
  {
   "cell_type": "markdown",
   "id": "8212d689",
   "metadata": {},
   "source": [
    "Excelente! \n",
    "\n",
    "Como siguientes pasos y para mejorar este modelo existen técnicas de balanceo que equiparen la proporción de las clases que tenemos enn nuestra variable objetivo, pero que son en gran medida más populares desde el lado del Machine Learning y que lo analizaremos en la semana No. 4\n"
   ]
  }
 ],
 "metadata": {
  "kernelspec": {
   "display_name": "Python 3 (ipykernel)",
   "language": "python",
   "name": "python3"
  },
  "language_info": {
   "codemirror_mode": {
    "name": "ipython",
    "version": 3
   },
   "file_extension": ".py",
   "mimetype": "text/x-python",
   "name": "python",
   "nbconvert_exporter": "python",
   "pygments_lexer": "ipython3",
   "version": "3.9.7"
  }
 },
 "nbformat": 4,
 "nbformat_minor": 5
}
