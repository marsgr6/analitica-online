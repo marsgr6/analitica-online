{
 "cells": [
  {
   "cell_type": "markdown",
   "id": "840324c4",
   "metadata": {},
   "source": [
    "# La econometría y la Ciencia de Datos"
   ]
  },
  {
   "cell_type": "markdown",
   "id": "4f3f5aed",
   "metadata": {},
   "source": [
    "Una de las principales diferencias entre el enfoque de econometría y la Ciencia de Datos por Machine Learning, es que por el enfoque de ML nos centramos en la analítica predictiva más que en las relaciones entre variables. Por ello, que a lo largo de este script no centraremos nuestros esfuerzos en interpretar coeficientes, o encontar relaciones entre variables, sino entrenar de manera óptima a nuestros algoritmos para que alcancen niveles predictivos altos.\n",
    "\n"
   ]
  },
  {
   "cell_type": "markdown",
   "id": "eee48988",
   "metadata": {},
   "source": [
    "Como regla general, los algoritmos de ML son más flexibles que el marco econométrico, ya que nos enfocamos en predecir, por ello muchos de los supuestos que cubrimos en la primera semana no aplican a este enfoque a excepción de que si vamos a aplicar una Regresión Lineal, requerimos haya linealidad en los parámetros ya que scikit learn, que es el module en Python para modelar por ML, ajusta una línea recta a los datos de entrenamiento."
   ]
  },
  {
   "cell_type": "markdown",
   "id": "837445ff",
   "metadata": {},
   "source": [
    "$$\\hat Y=\\underbrace{\\hat \\beta_0+\\hat \\beta_1X+\\hat \\beta_2X+...\\hat \\beta_nX}_{modelo}+\\underbrace{\\epsilon}_{error} $$"
   ]
  },
  {
   "cell_type": "markdown",
   "id": "0410af35",
   "metadata": {},
   "source": [
    "### Conceptos"
   ]
  },
  {
   "cell_type": "markdown",
   "id": "27dc74c4",
   "metadata": {},
   "source": [
    "Dentro del enfoque de Machine Learning necesitaremos entender tres conceptos fundamentales:"
   ]
  },
  {
   "cell_type": "markdown",
   "id": "c3bc7bbe",
   "metadata": {},
   "source": [
    "#### Train-Test split"
   ]
  },
  {
   "cell_type": "markdown",
   "id": "8544dbdc",
   "metadata": {},
   "source": [
    "Es una técnica que permite la división de nuestra base de datos en dos categorías:"
   ]
  },
  {
   "cell_type": "markdown",
   "id": "ee023444",
   "metadata": {},
   "source": [
    "- La de de prueba llamada \"test\", que se utiliza para estimar el rendimiento de los algoritmos de aprendizaje automático  basados en predicciones.  De manera general, el conjunto de prueba se divide en el 30 % de los datos reales y constituye un conjunto de datos que el algoritmo nunca antes ha visto. De esta forma se garantiza que en un ambiente de producción, el modelo desarrollado opere de manera similar a los resultados obtenidos en el \"test\" set\n",
    "     \n",
    "- La de de entrenamiento llamada \"train\", que se utiliza para que el algoritmo \"aprenda\" de las relaciones entre las variables y los datos, por lo que el conjunto de datos de entrenamiento es generalmente de mayor tamaño en comparación con el conjunto de datos de prueba \n"
   ]
  },
  {
   "cell_type": "markdown",
   "id": "a299f8d7",
   "metadata": {},
   "source": [
    "## Métricas de evaluación de la Regresión Lineal"
   ]
  },
  {
   "cell_type": "markdown",
   "id": "1e99532d",
   "metadata": {},
   "source": [
    "En lo que respecta a la evaluación de nuestro modelo, en el presente script ya no obtedremos el output donde evaluábamos los coeficientes y su significancia, si no que dependiendo del problema nos centraremos en métricas que cuantifiquen el poder explicativo de nuestro modelo. Así, si el problema es de regresión, las tres medidas más comunes utilizadas para evaluar las predicciones son:\n",
    "- El Error cuadrático medio (MSE)\n",
    "- El Error cuadrático medio (RMSE)\n",
    "- El Error absoluto medio (MAE)\n",
    "\n",
    "Las cuales de una u otra forma miden cuan lejos están los valores predichos de los valores observados en nuestro \"test set\""
   ]
  },
  {
   "cell_type": "markdown",
   "id": "c85b14ea",
   "metadata": {},
   "source": [
    "#### MSE"
   ]
  },
  {
   "cell_type": "markdown",
   "id": "340009e9",
   "metadata": {},
   "source": [
    "El error cuadrático medio, o MSE  es una métrica de error, así como una función de costos importante para algoritmos ajustados. Aquí, \"mínimos cuadrados\" se refiere a minimizar el error cuadrático medio entre las predicciones y los valores esperados.\n",
    "\n",
    "El MSE se calcula como la media o el promedio de las diferencias al cuadrado entre los valores objetivo predichos y esperados en un conjunto de datos y matemáticamente se expresa como:"
   ]
  },
  {
   "cell_type": "markdown",
   "id": "a5704658",
   "metadata": {},
   "source": [
    "$${MSE}=\\frac{1}{n} \\sum_{i=1}^n \\left(Y_i-\\hat{Y_i}\\right)^2$$"
   ]
  },
  {
   "cell_type": "markdown",
   "id": "eca1cc99",
   "metadata": {},
   "source": [
    "Donde:\n",
    "- 𝑌𝑖 es el i-ésimo valor esperado en el conjunto de datos \n",
    "- 𝑌𝑖 estimado, es el i-ésimo valor predicho\n",
    "\n",
    "La diferencia entre estos dos valores se eleva al cuadrado, lo que tiene dos efectos:\n",
    "- El efecto de eliminar el signo, lo que da como resultado un valor de error positivo, y \n",
    "- El efecto de inflar o magnificar errores grandes. Es decir, cuanto mayor sea la diferencia entre los valores pronosticados y esperados, mayor será el error cuadrático positivo resultante, por lo que se penaliza más a los modelos por errores más grandes cuando MSE se usa como una función de costo\n"
   ]
  },
  {
   "cell_type": "markdown",
   "id": "5066f2d1",
   "metadata": {},
   "source": [
    "#### RMSE"
   ]
  },
  {
   "cell_type": "markdown",
   "id": "f577b7e1",
   "metadata": {},
   "source": [
    "El RMSE, es una extensión del error cuadrático medio que calcula la raíz cuadrada del error, lo que significa que las unidades del RMSE son las mismas que las unidades originales del valor objetivo que se predice, por ello si la variable objetivo tiene dólares como unidades, el RMSE también tendrá la misma undiad y no \"dólares al cuadrado\" como el MSE.\n",
    "\n",
    "El RMSE se define de la siguiente manera:"
   ]
  },
  {
   "cell_type": "markdown",
   "id": "0c708712",
   "metadata": {},
   "source": [
    "$$RMSE=\\sqrt{\\frac{1}{n} \\sum_{i=1}^n \\left(Y_i-\\hat{Y_i}\\right)^2}$$"
   ]
  },
  {
   "cell_type": "markdown",
   "id": "01787f6d",
   "metadata": {},
   "source": [
    "#### MAE"
   ]
  },
  {
   "cell_type": "markdown",
   "id": "52d6c014",
   "metadata": {},
   "source": [
    "El error absoluto medio, o MAE, es una métrica en que las unidades de la puntuación de error coinciden con las unidades del valor objetivo que se predice, a diferencia del RMSE los cambios en MAE son lineales. Por otra parte, y a diferencia de las métricas previas, el MAE no da más o menos peso a los diferentes tipos de errores, en cambio las puntuaciones del MAE aumentan linealmente con los incrementos en el error.\n",
    "\n",
    "Como su nombre indica, la puntuación MAE se calcula como la media de los valores de error absolutos, por lo tanto, la diferencia entre un valor esperado y predicho puede ser positiva o negativa y se fuerza a ser positiva al calcular el MAE."
   ]
  },
  {
   "cell_type": "markdown",
   "id": "a6db37da",
   "metadata": {},
   "source": [
    "$$ MAE = \\frac{1}{n} *{\\sum_{i=1}^n} \\left|Y_i-\\hat{Y_i}\\right|$$"
   ]
  },
  {
   "cell_type": "markdown",
   "id": "468f0ace",
   "metadata": {},
   "source": [
    " "
   ]
  },
  {
   "cell_type": "markdown",
   "id": "9fc02684",
   "metadata": {},
   "source": [
    " "
   ]
  },
  {
   "cell_type": "markdown",
   "id": "cac8e656",
   "metadata": {},
   "source": [
    "## Métricas de evaluación de la Regresión Logística"
   ]
  },
  {
   "cell_type": "markdown",
   "id": "ff268c56",
   "metadata": {},
   "source": [
    "Por su parte, si el problema es de clasificación, las métricas más comunes son la matriz de confusión y cocientes derivados de esta. Entre los más populares encontramos a:\n",
    "- Accuracy\n",
    "- Presición\n",
    "- Exhaustividad o \"recall\"\n",
    "- F1 score"
   ]
  },
  {
   "cell_type": "markdown",
   "id": "416d1bfd",
   "metadata": {},
   "source": [
    "#### Accuracy"
   ]
  },
  {
   "cell_type": "markdown",
   "id": "f23415f6",
   "metadata": {},
   "source": [
    "La precisión en los problemas de clasificación es el número de predicciones correctas realizadas por el modelo sobre todos los tipos de predicciones realizadas."
   ]
  },
  {
   "cell_type": "markdown",
   "id": "67c09759",
   "metadata": {},
   "source": [
    "$$ Accuracy = \\frac{TP+TN}{TP+TN+FP+FN} $$"
   ]
  },
  {
   "cell_type": "markdown",
   "id": "ca2b173d",
   "metadata": {},
   "source": [
    "En el Numerador, están nuestras predicciones correctas (Verdaderos positivos y Verdaderos negativos) y en el denominador, todas las predicciones hechas por el algoritmo (tanto las correctas como las incorrectas).\n",
    "\n",
    "_¿Cuándo usar el accuracy?_\n",
    "El accuracy es es una buena medida cuando las clases de variables de destino en los datos estén casi equilibradas."
   ]
  },
  {
   "cell_type": "markdown",
   "id": "c5dde565",
   "metadata": {},
   "source": [
    "#### Precisión o \"precision\""
   ]
  },
  {
   "cell_type": "markdown",
   "id": "83daedfc",
   "metadata": {},
   "source": [
    "La precisión es una medida que nos da luces sobre la calidad del modelo ya que evalúa, el número de elementos identificados correctamente como positivos sobre el total de positivos verdaderos."
   ]
  },
  {
   "cell_type": "markdown",
   "id": "97b25da4",
   "metadata": {},
   "source": [
    "$$ Precision = \\frac{TP}{TP+FP} $$"
   ]
  },
  {
   "cell_type": "markdown",
   "id": "cc969be0",
   "metadata": {},
   "source": [
    "#### Exhaustividad o \"recall\""
   ]
  },
  {
   "cell_type": "markdown",
   "id": "f02a05c1",
   "metadata": {},
   "source": [
    "Es una medida que nos dice qué cantidad el modelo de machine learning es capaz de identificar. Responde a la pregunta ¿qué porcentaje de la categoría objetivo somos capaces de identificar?"
   ]
  },
  {
   "cell_type": "markdown",
   "id": "62c4b2e4",
   "metadata": {},
   "source": [
    "$$ Recall = \\frac{TP}{TP+FN} $$"
   ]
  },
  {
   "cell_type": "markdown",
   "id": "4ebb731a",
   "metadata": {},
   "source": [
    "#### F1 score"
   ]
  },
  {
   "cell_type": "markdown",
   "id": "1247f84f",
   "metadata": {},
   "source": [
    "Es una puntuación única que represente tanto la Precisión (P) como la exhaustividad o \"recall\"."
   ]
  },
  {
   "cell_type": "markdown",
   "id": "c3ff5fe2",
   "metadata": {},
   "source": [
    "$$ F1 = \\frac{2*Precision*Recall}{Precision+Recall} = \\frac{2*TP}{2*TP+FP+FN} $$"
   ]
  },
  {
   "cell_type": "markdown",
   "id": "bf34ff8c",
   "metadata": {},
   "source": [
    "Perfecto, una vez cubiertas las métricas de evaluaión tanto para los problemas de regresión como clasificación, lo que sigue es comprender el proceso en ML para predecir. "
   ]
  },
  {
   "cell_type": "markdown",
   "id": "becc1359",
   "metadata": {},
   "source": [
    "Hay 5 pasos:\n",
    "1. Recopilación de datos de varias fuentes de datos\n",
    "2. Limpieza de datos e ingeniería de características\n",
    "3. Construcción de modelos y selección del algoritmo ML\n",
    "4. Evaluación del modelo\n",
    "5. Implementación del modelo"
   ]
  },
  {
   "cell_type": "markdown",
   "id": "59257591",
   "metadata": {},
   "source": [
    "## Los datos"
   ]
  },
  {
   "cell_type": "markdown",
   "id": "93271436",
   "metadata": {},
   "source": [
    "En el presente script, trabajaremos con la misma de base de datos de la semana 1, específicamente con aquella utilizada para el desarrollo del modelo de regresión múltiple. Por ello, por favor corran o copien todos los tratamientos realizados a las variables de la base de datos de inmuebles."
   ]
  },
  {
   "cell_type": "markdown",
   "id": "2e3b1403",
   "metadata": {},
   "source": [
    "#### Importar los modules requeridos"
   ]
  },
  {
   "cell_type": "code",
   "execution_count": 4,
   "id": "6ce9621a",
   "metadata": {},
   "outputs": [],
   "source": [
    "import numpy as np\n",
    "import pandas as pd\n",
    "import matplotlib.pyplot as plt\n",
    "import seaborn as sns\n",
    "\n",
    "import warnings\n",
    "warnings.filterwarnings(\"ignore\")"
   ]
  },
  {
   "cell_type": "markdown",
   "id": "af8e2d0c",
   "metadata": {},
   "source": [
    "Para la regresión y validación de supuestos llamamos a sklearn, el módulo encargado de la modelación por Machine Learning en Python."
   ]
  },
  {
   "cell_type": "markdown",
   "id": "1b9528d5",
   "metadata": {},
   "source": [
    "<img src=\"sklearn.png\" width=\"850\">"
   ]
  },
  {
   "cell_type": "markdown",
   "id": "e02927e8",
   "metadata": {},
   "source": [
    "Ahora, llamemos a nuestra base de datos a nuestro espacio en el Jupyer Notebook:"
   ]
  },
  {
   "cell_type": "code",
   "execution_count": 37,
   "id": "dd6758ed",
   "metadata": {},
   "outputs": [
    {
     "data": {
      "text/html": [
       "<div>\n",
       "<style scoped>\n",
       "    .dataframe tbody tr th:only-of-type {\n",
       "        vertical-align: middle;\n",
       "    }\n",
       "\n",
       "    .dataframe tbody tr th {\n",
       "        vertical-align: top;\n",
       "    }\n",
       "\n",
       "    .dataframe thead th {\n",
       "        text-align: right;\n",
       "    }\n",
       "</style>\n",
       "<table border=\"1\" class=\"dataframe\">\n",
       "  <thead>\n",
       "    <tr style=\"text-align: right;\">\n",
       "      <th></th>\n",
       "      <th>price</th>\n",
       "      <th>area</th>\n",
       "      <th>bedrooms</th>\n",
       "      <th>bathrooms</th>\n",
       "      <th>stories</th>\n",
       "      <th>mainroad</th>\n",
       "      <th>guestroom</th>\n",
       "      <th>basement</th>\n",
       "      <th>hotwaterheating</th>\n",
       "      <th>airconditioning</th>\n",
       "      <th>parking</th>\n",
       "      <th>prefarea</th>\n",
       "      <th>furnishingstatus</th>\n",
       "    </tr>\n",
       "  </thead>\n",
       "  <tbody>\n",
       "    <tr>\n",
       "      <th>0</th>\n",
       "      <td>13300000</td>\n",
       "      <td>7420</td>\n",
       "      <td>4</td>\n",
       "      <td>2</td>\n",
       "      <td>3</td>\n",
       "      <td>yes</td>\n",
       "      <td>no</td>\n",
       "      <td>no</td>\n",
       "      <td>no</td>\n",
       "      <td>yes</td>\n",
       "      <td>2</td>\n",
       "      <td>yes</td>\n",
       "      <td>furnished</td>\n",
       "    </tr>\n",
       "    <tr>\n",
       "      <th>1</th>\n",
       "      <td>12250000</td>\n",
       "      <td>8960</td>\n",
       "      <td>4</td>\n",
       "      <td>4</td>\n",
       "      <td>4</td>\n",
       "      <td>yes</td>\n",
       "      <td>no</td>\n",
       "      <td>no</td>\n",
       "      <td>no</td>\n",
       "      <td>yes</td>\n",
       "      <td>3</td>\n",
       "      <td>no</td>\n",
       "      <td>furnished</td>\n",
       "    </tr>\n",
       "    <tr>\n",
       "      <th>2</th>\n",
       "      <td>12250000</td>\n",
       "      <td>9960</td>\n",
       "      <td>3</td>\n",
       "      <td>2</td>\n",
       "      <td>2</td>\n",
       "      <td>yes</td>\n",
       "      <td>no</td>\n",
       "      <td>yes</td>\n",
       "      <td>no</td>\n",
       "      <td>no</td>\n",
       "      <td>2</td>\n",
       "      <td>yes</td>\n",
       "      <td>semi-furnished</td>\n",
       "    </tr>\n",
       "    <tr>\n",
       "      <th>3</th>\n",
       "      <td>12215000</td>\n",
       "      <td>7500</td>\n",
       "      <td>4</td>\n",
       "      <td>2</td>\n",
       "      <td>2</td>\n",
       "      <td>yes</td>\n",
       "      <td>no</td>\n",
       "      <td>yes</td>\n",
       "      <td>no</td>\n",
       "      <td>yes</td>\n",
       "      <td>3</td>\n",
       "      <td>yes</td>\n",
       "      <td>furnished</td>\n",
       "    </tr>\n",
       "    <tr>\n",
       "      <th>4</th>\n",
       "      <td>11410000</td>\n",
       "      <td>7420</td>\n",
       "      <td>4</td>\n",
       "      <td>1</td>\n",
       "      <td>2</td>\n",
       "      <td>yes</td>\n",
       "      <td>yes</td>\n",
       "      <td>yes</td>\n",
       "      <td>no</td>\n",
       "      <td>yes</td>\n",
       "      <td>2</td>\n",
       "      <td>no</td>\n",
       "      <td>furnished</td>\n",
       "    </tr>\n",
       "    <tr>\n",
       "      <th>...</th>\n",
       "      <td>...</td>\n",
       "      <td>...</td>\n",
       "      <td>...</td>\n",
       "      <td>...</td>\n",
       "      <td>...</td>\n",
       "      <td>...</td>\n",
       "      <td>...</td>\n",
       "      <td>...</td>\n",
       "      <td>...</td>\n",
       "      <td>...</td>\n",
       "      <td>...</td>\n",
       "      <td>...</td>\n",
       "      <td>...</td>\n",
       "    </tr>\n",
       "    <tr>\n",
       "      <th>540</th>\n",
       "      <td>1820000</td>\n",
       "      <td>3000</td>\n",
       "      <td>2</td>\n",
       "      <td>1</td>\n",
       "      <td>1</td>\n",
       "      <td>yes</td>\n",
       "      <td>no</td>\n",
       "      <td>yes</td>\n",
       "      <td>no</td>\n",
       "      <td>no</td>\n",
       "      <td>2</td>\n",
       "      <td>no</td>\n",
       "      <td>unfurnished</td>\n",
       "    </tr>\n",
       "    <tr>\n",
       "      <th>541</th>\n",
       "      <td>1767150</td>\n",
       "      <td>2400</td>\n",
       "      <td>3</td>\n",
       "      <td>1</td>\n",
       "      <td>1</td>\n",
       "      <td>no</td>\n",
       "      <td>no</td>\n",
       "      <td>no</td>\n",
       "      <td>no</td>\n",
       "      <td>no</td>\n",
       "      <td>0</td>\n",
       "      <td>no</td>\n",
       "      <td>semi-furnished</td>\n",
       "    </tr>\n",
       "    <tr>\n",
       "      <th>542</th>\n",
       "      <td>1750000</td>\n",
       "      <td>3620</td>\n",
       "      <td>2</td>\n",
       "      <td>1</td>\n",
       "      <td>1</td>\n",
       "      <td>yes</td>\n",
       "      <td>no</td>\n",
       "      <td>no</td>\n",
       "      <td>no</td>\n",
       "      <td>no</td>\n",
       "      <td>0</td>\n",
       "      <td>no</td>\n",
       "      <td>unfurnished</td>\n",
       "    </tr>\n",
       "    <tr>\n",
       "      <th>543</th>\n",
       "      <td>1750000</td>\n",
       "      <td>2910</td>\n",
       "      <td>3</td>\n",
       "      <td>1</td>\n",
       "      <td>1</td>\n",
       "      <td>no</td>\n",
       "      <td>no</td>\n",
       "      <td>no</td>\n",
       "      <td>no</td>\n",
       "      <td>no</td>\n",
       "      <td>0</td>\n",
       "      <td>no</td>\n",
       "      <td>furnished</td>\n",
       "    </tr>\n",
       "    <tr>\n",
       "      <th>544</th>\n",
       "      <td>1750000</td>\n",
       "      <td>3850</td>\n",
       "      <td>3</td>\n",
       "      <td>1</td>\n",
       "      <td>2</td>\n",
       "      <td>yes</td>\n",
       "      <td>no</td>\n",
       "      <td>no</td>\n",
       "      <td>no</td>\n",
       "      <td>no</td>\n",
       "      <td>0</td>\n",
       "      <td>no</td>\n",
       "      <td>unfurnished</td>\n",
       "    </tr>\n",
       "  </tbody>\n",
       "</table>\n",
       "<p>545 rows × 13 columns</p>\n",
       "</div>"
      ],
      "text/plain": [
       "        price  area  bedrooms  bathrooms  stories mainroad guestroom basement  \\\n",
       "0    13300000  7420         4          2        3      yes        no       no   \n",
       "1    12250000  8960         4          4        4      yes        no       no   \n",
       "2    12250000  9960         3          2        2      yes        no      yes   \n",
       "3    12215000  7500         4          2        2      yes        no      yes   \n",
       "4    11410000  7420         4          1        2      yes       yes      yes   \n",
       "..        ...   ...       ...        ...      ...      ...       ...      ...   \n",
       "540   1820000  3000         2          1        1      yes        no      yes   \n",
       "541   1767150  2400         3          1        1       no        no       no   \n",
       "542   1750000  3620         2          1        1      yes        no       no   \n",
       "543   1750000  2910         3          1        1       no        no       no   \n",
       "544   1750000  3850         3          1        2      yes        no       no   \n",
       "\n",
       "    hotwaterheating airconditioning  parking prefarea furnishingstatus  \n",
       "0                no             yes        2      yes        furnished  \n",
       "1                no             yes        3       no        furnished  \n",
       "2                no              no        2      yes   semi-furnished  \n",
       "3                no             yes        3      yes        furnished  \n",
       "4                no             yes        2       no        furnished  \n",
       "..              ...             ...      ...      ...              ...  \n",
       "540              no              no        2       no      unfurnished  \n",
       "541              no              no        0       no   semi-furnished  \n",
       "542              no              no        0       no      unfurnished  \n",
       "543              no              no        0       no        furnished  \n",
       "544              no              no        0       no      unfurnished  \n",
       "\n",
       "[545 rows x 13 columns]"
      ]
     },
     "execution_count": 37,
     "metadata": {},
     "output_type": "execute_result"
    }
   ],
   "source": [
    "df=pd.read_csv(\"house_dataset.csv\")\n",
    "df"
   ]
  },
  {
   "cell_type": "markdown",
   "id": "b7d52aa5",
   "metadata": {},
   "source": [
    "#### Recodificar el nombre de las columnas a español"
   ]
  },
  {
   "cell_type": "markdown",
   "id": "1df6875a",
   "metadata": {},
   "source": [
    "Como es habitual procedamos a reemplazar los nombres de las columnas a español:"
   ]
  },
  {
   "cell_type": "code",
   "execution_count": 38,
   "id": "18ec3baa",
   "metadata": {},
   "outputs": [],
   "source": [
    "df.rename({'price':'precio', 'bedrooms': 'cuartos', 'bathrooms':'banios', 'stories': 'pisos', 'mainroad':'carretera',\n",
    "          'guestroom':'cuarto_huespedes', 'basement': 'sotano', 'hotwaterheating':'calefaccion', 'airconditioning':'AC', \n",
    "           'parking':'parqueadero', 'prefarea':'periferia', 'furnishingstatus':'amoblado' }, axis=1, inplace=True)"
   ]
  },
  {
   "cell_type": "markdown",
   "id": "3e764aa3",
   "metadata": {},
   "source": [
    "Listo, una vez tenemos en nuestro espacio de trabajo a nuestra base de datos, debemos:\n",
    "1. Inicializar el modelo\n",
    "2. Entrenar el modelo con los datos de entrenamiento\n",
    "3. Hacer predicciones"
   ]
  },
  {
   "cell_type": "markdown",
   "id": "cf55bc46",
   "metadata": {},
   "source": [
    "### 1. Inicializar el modelo"
   ]
  },
  {
   "cell_type": "code",
   "execution_count": 39,
   "id": "4737275e",
   "metadata": {},
   "outputs": [],
   "source": [
    "from sklearn.linear_model import LinearRegression"
   ]
  },
  {
   "cell_type": "markdown",
   "id": "af283cb1",
   "metadata": {},
   "source": [
    "### 2. Entrenar el modelo con los datos de entrenamiento"
   ]
  },
  {
   "cell_type": "markdown",
   "id": "59431697",
   "metadata": {},
   "source": [
    "Antes de realizar nuestra división, dejemos a nuestra base de datos en el estado deseado. Para ello, lo primero que vamos a hacer es separar nuestra variable objetivo de los predictores y recodificar aquellas variables categóricas que no se encuentren dummificadas:"
   ]
  },
  {
   "cell_type": "markdown",
   "id": "88002a41",
   "metadata": {},
   "source": [
    "#### Recodificamos las variables categóricas con Label Encoder"
   ]
  },
  {
   "cell_type": "code",
   "execution_count": 40,
   "id": "852c0b1b",
   "metadata": {},
   "outputs": [],
   "source": [
    "var_cuantitativas = df.select_dtypes('number').columns\n",
    "var_cualitativas  =df.select_dtypes('object').columns"
   ]
  },
  {
   "cell_type": "code",
   "execution_count": 41,
   "id": "5de8c45e",
   "metadata": {},
   "outputs": [],
   "source": [
    "from sklearn.preprocessing import LabelEncoder"
   ]
  },
  {
   "cell_type": "code",
   "execution_count": 42,
   "id": "3f56b799",
   "metadata": {},
   "outputs": [],
   "source": [
    "# creating instance of labelencoder\n",
    "labelencoder = LabelEncoder()"
   ]
  },
  {
   "cell_type": "code",
   "execution_count": 43,
   "id": "4e0cac8b",
   "metadata": {},
   "outputs": [],
   "source": [
    "df[var_cualitativas] = df[var_cualitativas].apply(labelencoder.fit_transform)"
   ]
  },
  {
   "cell_type": "markdown",
   "id": "543cb0a7",
   "metadata": {},
   "source": [
    "Separamos a los predictores de nuestra variable objetivo:"
   ]
  },
  {
   "cell_type": "code",
   "execution_count": 44,
   "id": "a0204a2c",
   "metadata": {},
   "outputs": [],
   "source": [
    "X = df[df.columns.difference(['precio'])]\n",
    "y = df.precio"
   ]
  },
  {
   "cell_type": "markdown",
   "id": "6a0a3191",
   "metadata": {},
   "source": [
    "Como nuestra base de datos no contine la variable tiempo, podemos realizar un train/split aleatorio de la siguiente forma:"
   ]
  },
  {
   "cell_type": "markdown",
   "id": "7d647cee",
   "metadata": {},
   "source": [
    "Importamos del module sklearn la función: train_test_split"
   ]
  },
  {
   "cell_type": "code",
   "execution_count": 45,
   "id": "1eef9d04",
   "metadata": {},
   "outputs": [],
   "source": [
    "from sklearn.model_selection import train_test_split"
   ]
  },
  {
   "cell_type": "markdown",
   "id": "008790f5",
   "metadata": {},
   "source": [
    "Dividimos en dos partes a nuestra base de datos en un 80% para que el algoritmo entrene y un 20% para aplicar nuestras métricas de desempeño."
   ]
  },
  {
   "cell_type": "code",
   "execution_count": 46,
   "id": "294eeb88",
   "metadata": {},
   "outputs": [],
   "source": [
    "X_train , X_test , y_train , y_test = train_test_split(X , y , test_size = 0.20,random_state =123)"
   ]
  },
  {
   "cell_type": "code",
   "execution_count": 47,
   "id": "8382f803",
   "metadata": {},
   "outputs": [
    {
     "name": "stdout",
     "output_type": "stream",
     "text": [
      "(436, 12)  <class 'pandas.core.frame.DataFrame'>\n",
      "(436,) \t  <class 'pandas.core.series.Series'>\n",
      "(109, 12)  <class 'pandas.core.frame.DataFrame'>\n",
      "(109,) \t  <class 'pandas.core.series.Series'>\n"
     ]
    }
   ],
   "source": [
    "print(X_train.shape,\"\",type(X_train))\n",
    "print(y_train.shape,\"\\t \",type(y_train))\n",
    "print(X_test.shape,\"\",type(X_test))\n",
    "print(y_test.shape,\"\\t \",type(y_test))"
   ]
  },
  {
   "cell_type": "markdown",
   "id": "327373cb",
   "metadata": {},
   "source": [
    " "
   ]
  },
  {
   "cell_type": "markdown",
   "id": "edc8ccb8",
   "metadata": {},
   "source": [
    " "
   ]
  },
  {
   "cell_type": "markdown",
   "id": "3221646d",
   "metadata": {},
   "source": [
    " "
   ]
  },
  {
   "cell_type": "markdown",
   "id": "986e1b13",
   "metadata": {},
   "source": [
    "# El Modelo de Regresión Lineal por Sklearn"
   ]
  },
  {
   "cell_type": "markdown",
   "id": "019eae3b",
   "metadata": {},
   "source": [
    "Una vez tenemos nuestros diferentes conjuntos de datos, procedemos a entrenar al modelo:"
   ]
  },
  {
   "cell_type": "code",
   "execution_count": 48,
   "id": "d2964c77",
   "metadata": {},
   "outputs": [
    {
     "data": {
      "text/plain": [
       "LinearRegression()"
      ]
     },
     "execution_count": 48,
     "metadata": {},
     "output_type": "execute_result"
    }
   ],
   "source": [
    "modelo_regresion = LinearRegression()\n",
    "modelo_regresion.fit(X_train, y_train)"
   ]
  },
  {
   "cell_type": "markdown",
   "id": "f604a337",
   "metadata": {},
   "source": [
    "### 3. Realizar las predicciones"
   ]
  },
  {
   "cell_type": "code",
   "execution_count": 50,
   "id": "130a5de0",
   "metadata": {},
   "outputs": [],
   "source": [
    "predicciones_train = modelo_regresion.predict(X_train)\n",
    "predicciones_test = modelo_regresion.predict(X_test)"
   ]
  },
  {
   "cell_type": "markdown",
   "id": "ad64dadb",
   "metadata": {},
   "source": [
    "## Métricas de evaluación"
   ]
  },
  {
   "cell_type": "code",
   "execution_count": 49,
   "id": "2325b69b",
   "metadata": {},
   "outputs": [],
   "source": [
    "from sklearn.metrics import mean_squared_error, mean_absolute_error"
   ]
  },
  {
   "cell_type": "markdown",
   "id": "58b1ed11",
   "metadata": {},
   "source": [
    "#### MSE"
   ]
  },
  {
   "cell_type": "code",
   "execution_count": 51,
   "id": "7277b353",
   "metadata": {},
   "outputs": [
    {
     "name": "stdout",
     "output_type": "stream",
     "text": [
      "1105329541878.594\n",
      "1223203180991.298\n"
     ]
    }
   ],
   "source": [
    "MSE_train = mean_squared_error(y_train, predicciones_train)\n",
    "MSE_test = mean_squared_error(y_test, predicciones_test)\n",
    "print(MSE_train)\n",
    "print(MSE_test)"
   ]
  },
  {
   "cell_type": "markdown",
   "id": "8942445c",
   "metadata": {},
   "source": [
    "#### RMSE"
   ]
  },
  {
   "cell_type": "code",
   "execution_count": 52,
   "id": "31046fd3",
   "metadata": {},
   "outputs": [
    {
     "name": "stdout",
     "output_type": "stream",
     "text": [
      "1051346.5374835236\n",
      "1105985.1630972715\n"
     ]
    }
   ],
   "source": [
    "RMSE_train = np.sqrt(MSE_train)\n",
    "RMSE_test = np.sqrt(MSE_test)\n",
    "print(RMSE_train)\n",
    "print(RMSE_test)"
   ]
  },
  {
   "cell_type": "markdown",
   "id": "5eef4b3e",
   "metadata": {},
   "source": [
    "#### MAE"
   ]
  },
  {
   "cell_type": "code",
   "execution_count": 53,
   "id": "48326b53",
   "metadata": {},
   "outputs": [
    {
     "name": "stdout",
     "output_type": "stream",
     "text": [
      "768236.356911527\n",
      "826960.4509125961\n"
     ]
    }
   ],
   "source": [
    "MAE_train = mean_absolute_error(y_train, predicciones_train)\n",
    "MAE_test = mean_absolute_error(y_test, predicciones_test)\n",
    "print(MAE_train)\n",
    "print(MAE_test)"
   ]
  },
  {
   "cell_type": "markdown",
   "id": "d13e683c",
   "metadata": {},
   "source": [
    "#### R^2"
   ]
  },
  {
   "cell_type": "code",
   "execution_count": 54,
   "id": "1f730e06",
   "metadata": {},
   "outputs": [],
   "source": [
    "from sklearn.metrics import r2_score"
   ]
  },
  {
   "cell_type": "code",
   "execution_count": 55,
   "id": "afda7740",
   "metadata": {},
   "outputs": [
    {
     "name": "stdout",
     "output_type": "stream",
     "text": [
      "El R^2 del subconjunto de entrenamiento es: 0.6879699864014102\n",
      "El R^2 del subconjunto de prueba es: 0.6266250093828641\n"
     ]
    }
   ],
   "source": [
    "r_square_train = r2_score(y_train, predicciones_train)\n",
    "r_square_test  = r2_score(y_test, predicciones_test)\n",
    "print('El R^2 del subconjunto de entrenamiento es:' , r_square_train)\n",
    "print('El R^2 del subconjunto de prueba es:' , r_square_test)"
   ]
  },
  {
   "cell_type": "code",
   "execution_count": 56,
   "id": "b4b26916",
   "metadata": {
    "scrolled": true
   },
   "outputs": [
    {
     "name": "stdout",
     "output_type": "stream",
     "text": [
      "intercepto: 205261.7156973807\n",
      "pendiente: [ 9.68923588e+05 -2.09754047e+05  2.56279610e+02  9.89564570e+05\n",
      "  6.73814242e+05  3.43180358e+05  3.33380979e+05  8.50189626e+04\n",
      "  2.62938660e+05  7.86481613e+05  4.20553186e+05  3.05416143e+05]\n"
     ]
    }
   ],
   "source": [
    "# Print the Intercept:\n",
    "print('intercepto:', modelo_regresion.intercept_)\n",
    "\n",
    "# Print the Slope:\n",
    "print('pendiente:', modelo_regresion.coef_) "
   ]
  },
  {
   "cell_type": "markdown",
   "id": "75329187",
   "metadata": {},
   "source": [
    "#### Predicciones es el subgrupo de datos de entrenamiento"
   ]
  },
  {
   "cell_type": "code",
   "execution_count": 57,
   "id": "60ba473d",
   "metadata": {},
   "outputs": [
    {
     "data": {
      "image/png": "[encoded data removed]",
      "text/plain": [
       "<Figure size 432x288 with 1 Axes>"
      ]
     },
     "metadata": {
      "needs_background": "light"
     },
     "output_type": "display_data"
    }
   ],
   "source": [
    "fig, ax = plt.subplots()\n",
    "ax.plot(y_train.values)\n",
    "ax.plot(predicciones_train)\n",
    "plt.title(\"Valores observados vs. predichos en train set\");"
   ]
  },
  {
   "cell_type": "markdown",
   "id": "5a3c7b92",
   "metadata": {},
   "source": [
    "#### Predicciones es el subgrupo de datos de prueba"
   ]
  },
  {
   "cell_type": "code",
   "execution_count": 58,
   "id": "86b31237",
   "metadata": {},
   "outputs": [
    {
     "data": {
      "image/png": "[encoded data removed]",
      "text/plain": [
       "<Figure size 432x288 with 1 Axes>"
      ]
     },
     "metadata": {
      "needs_background": "light"
     },
     "output_type": "display_data"
    }
   ],
   "source": [
    "fig, ax = plt.subplots()\n",
    "ax.plot(y_test.values)\n",
    "ax.plot(predicciones_test)\n",
    "plt.title(\"Valores observados vs. predichos en test set\");"
   ]
  },
  {
   "cell_type": "markdown",
   "id": "4bef4bb6",
   "metadata": {},
   "source": [
    "#### Algunas preguntas comunes:"
   ]
  },
  {
   "cell_type": "markdown",
   "id": "60350283",
   "metadata": {},
   "source": [
    "En el script de la unidad 1 retiramos valores extremos y obtuvimos el logaritmo de la variable precio. ¿Requerimos realizar en sklearn algún tipo de estandarización de variables previo al entrenamiento del algoritmo?"
   ]
  },
  {
   "cell_type": "markdown",
   "id": "e9ced18a",
   "metadata": {},
   "source": [
    "En el enfoque econométrico es necesario este tipo de transformaciones a las variables y el cumplimiento de los supuestos, desde el enfoque de ML en donde la importancia radica en el nivel predictivo, esto no es necesario ya que el algoritmo iterativo: \"gradient descent\" si bien puede beneficiarse en tiempo de cálculo de la estandarización de variables, no es un limitante para obtener resultados."
   ]
  },
  {
   "cell_type": "markdown",
   "id": "bc2976e2",
   "metadata": {},
   "source": [
    "## Bonus: Feature importance"
   ]
  },
  {
   "cell_type": "markdown",
   "id": "dc7b627d",
   "metadata": {},
   "source": [
    "Uno de los aspectos importantes al momento de entregar un modelo, es dicernir las variabels conforme a su utilidad para predecir nuestra variable objetivo. Este tipo de análisis se llama \"feature importance\" y calcula la importancia de cada variable independiente en nuestro modelo. Para ello, ajustamos nuestro modelo de regresión lineal  y extraemos los coeficientes de los predictores, los cuales proporcionan la base para una puntuación de importancia de características.\n",
    "\n",
    "Nota: Para este tipo de análisis requerimos que las las variables de entrada tengan la misma escala o se hayan escalado antes."
   ]
  },
  {
   "cell_type": "markdown",
   "id": "10d1f092",
   "metadata": {},
   "source": [
    "Requerimos normalizar las variables explicativas porque en un análisis de feature importance si lo obviamos, el modelo difícilmente captará la contribución de las variables de menor escala, incluso si son fuertes. Para ello, usaremos la función StandardScaler del module de sklearn."
   ]
  },
  {
   "cell_type": "code",
   "execution_count": 59,
   "id": "8484c17c",
   "metadata": {},
   "outputs": [],
   "source": [
    "from sklearn.preprocessing import StandardScaler"
   ]
  },
  {
   "cell_type": "code",
   "execution_count": 60,
   "id": "ee68c417",
   "metadata": {},
   "outputs": [],
   "source": [
    "sc = StandardScaler()"
   ]
  },
  {
   "cell_type": "code",
   "execution_count": 61,
   "id": "08a9c751",
   "metadata": {},
   "outputs": [],
   "source": [
    "X_train_std = sc.fit_transform(X_train)\n",
    "X_test_std = sc.transform(X_test)"
   ]
  },
  {
   "cell_type": "markdown",
   "id": "f796e767",
   "metadata": {},
   "source": [
    "Observan algo interesante en el código precedente?"
   ]
  },
  {
   "cell_type": "markdown",
   "id": "e7bd9d42",
   "metadata": {},
   "source": [
    " "
   ]
  },
  {
   "cell_type": "markdown",
   "id": "772836be",
   "metadata": {},
   "source": [
    "### Entrenar el modelo con los datos de entrenamiento"
   ]
  },
  {
   "cell_type": "markdown",
   "id": "79e00726",
   "metadata": {},
   "source": [
    "Una vez tenemos nuestros diferentes conjuntos de datos, procedemos a entrenar al modelo:"
   ]
  },
  {
   "cell_type": "code",
   "execution_count": 116,
   "id": "8d253c00",
   "metadata": {},
   "outputs": [
    {
     "data": {
      "text/plain": [
       "LinearRegression()"
      ]
     },
     "execution_count": 116,
     "metadata": {},
     "output_type": "execute_result"
    }
   ],
   "source": [
    "modelo_regresion_std = LinearRegression()\n",
    "modelo_regresion_std.fit(X_train_std, y_train)"
   ]
  },
  {
   "cell_type": "markdown",
   "id": "be18f094",
   "metadata": {},
   "source": [
    "### Realizar las predicciones"
   ]
  },
  {
   "cell_type": "code",
   "execution_count": 117,
   "id": "01d2a2f6",
   "metadata": {},
   "outputs": [],
   "source": [
    "predicciones_train_std = modelo_regresion_std.predict(X_train_std)\n",
    "predicciones_test_std = modelo_regresion_std.predict(X_test_std)"
   ]
  },
  {
   "cell_type": "markdown",
   "id": "5b989e57",
   "metadata": {},
   "source": [
    "#### R^2"
   ]
  },
  {
   "cell_type": "code",
   "execution_count": 118,
   "id": "df1913fd",
   "metadata": {},
   "outputs": [
    {
     "name": "stdout",
     "output_type": "stream",
     "text": [
      "El R^2 del subconjunto de entrenamiento es: 0.6879699864014102\n",
      "El R^2 del subconjunto de prueba es: 0.6266250093828517\n"
     ]
    }
   ],
   "source": [
    "r_square_train_std = r2_score(y_train, predicciones_train_std)\n",
    "r_square_test_std  = r2_score(y_test, predicciones_test_std)\n",
    "print('El R^2 del subconjunto de entrenamiento es:' , r_square_train_std)\n",
    "print('El R^2 del subconjunto de prueba es:' , r_square_test_std)"
   ]
  },
  {
   "cell_type": "markdown",
   "id": "506e981d",
   "metadata": {},
   "source": [
    "#### Predicciones es el subgrupo de datos de entrenamiento"
   ]
  },
  {
   "cell_type": "code",
   "execution_count": 119,
   "id": "6fd1b612",
   "metadata": {},
   "outputs": [
    {
     "data": {
      "image/png": "[encoded data removed]",
      "text/plain": [
       "<Figure size 432x288 with 1 Axes>"
      ]
     },
     "metadata": {
      "needs_background": "light"
     },
     "output_type": "display_data"
    }
   ],
   "source": [
    "fig, ax = plt.subplots()\n",
    "ax.plot(y_train.values)\n",
    "ax.plot(predicciones_train_std)\n",
    "plt.title(\"Valores observados vs. predichos en train set\");"
   ]
  },
  {
   "cell_type": "markdown",
   "id": "b14856ae",
   "metadata": {},
   "source": [
    "#### Predicciones es el subgrupo de datos de prueba"
   ]
  },
  {
   "cell_type": "code",
   "execution_count": 120,
   "id": "efe214df",
   "metadata": {},
   "outputs": [
    {
     "data": {
      "image/png": "[encoded data removed]",
      "text/plain": [
       "<Figure size 432x288 with 1 Axes>"
      ]
     },
     "metadata": {
      "needs_background": "light"
     },
     "output_type": "display_data"
    }
   ],
   "source": [
    "fig, ax = plt.subplots()\n",
    "ax.plot(y_test.values)\n",
    "ax.plot(predicciones_test_std)\n",
    "plt.title(\"Valores observados vs. predichos en test set\");"
   ]
  },
  {
   "cell_type": "markdown",
   "id": "1d4897b3",
   "metadata": {},
   "source": [
    "### Extraer los coeficientes"
   ]
  },
  {
   "cell_type": "code",
   "execution_count": 122,
   "id": "0b09493f",
   "metadata": {},
   "outputs": [],
   "source": [
    "importancia = modelo_regresion_std.coef_"
   ]
  },
  {
   "cell_type": "code",
   "execution_count": 126,
   "id": "f3b79284",
   "metadata": {},
   "outputs": [
    {
     "name": "stdout",
     "output_type": "stream",
     "text": [
      "Variable explicativa No. 0, Score: 450661.76639\n",
      "Variable explicativa No. 1, Score: -159259.50424\n",
      "Variable explicativa No. 2, Score: 556217.25939\n",
      "Variable explicativa No. 3, Score: 485555.20667\n",
      "Variable explicativa No. 4, Score: 134053.47925\n",
      "Variable explicativa No. 5, Score: 118223.95415\n",
      "Variable explicativa No. 6, Score: 126477.23854\n",
      "Variable explicativa No. 7, Score: 64062.57994\n",
      "Variable explicativa No. 8, Score: 229321.40526\n",
      "Variable explicativa No. 9, Score: 331806.71807\n",
      "Variable explicativa No. 10, Score: 366196.88388\n",
      "Variable explicativa No. 11, Score: 145088.88542\n"
     ]
    }
   ],
   "source": [
    "# Resumen\n",
    "for i,v in enumerate(importancia):\n",
    "    print('Variable explicativa No. %0d, Score: %.5f' % (i,v))"
   ]
  },
  {
   "cell_type": "code",
   "execution_count": 127,
   "id": "765d7445",
   "metadata": {},
   "outputs": [
    {
     "data": {
      "image/png": "[encoded data removed]",
      "text/plain": [
       "<Figure size 432x288 with 1 Axes>"
      ]
     },
     "metadata": {
      "needs_background": "light"
     },
     "output_type": "display_data"
    }
   ],
   "source": [
    "# Graficar la importancia o \"feature importance\"\n",
    "plt.bar([x for x in range(len(importancia))], importancia)\n",
    "plt.show()"
   ]
  },
  {
   "cell_type": "markdown",
   "id": "ae556f03",
   "metadata": {},
   "source": [
    "Un valor de \"feature importance\" negativo significa que esa característica hace que aumente la función de costos, por lo que el modelo no está hace un buen uso de esa característica."
   ]
  },
  {
   "cell_type": "markdown",
   "id": "84a8dd70",
   "metadata": {},
   "source": [
    " "
   ]
  },
  {
   "cell_type": "markdown",
   "id": "0b8aee69",
   "metadata": {},
   "source": [
    " "
   ]
  },
  {
   "cell_type": "markdown",
   "id": "bd364b57",
   "metadata": {},
   "source": [
    " "
   ]
  },
  {
   "cell_type": "markdown",
   "id": "f5c42736",
   "metadata": {},
   "source": [
    " "
   ]
  },
  {
   "cell_type": "markdown",
   "id": "f5604228",
   "metadata": {},
   "source": [
    "# El Modelo de Regresión Loística por Sklearn"
   ]
  },
  {
   "cell_type": "markdown",
   "id": "16170ce9",
   "metadata": {},
   "source": [
    "Una vez tenemos nuestros diferentes conjuntos de datos, procedemos a re-extraer nuestras variables explicativas y variable objetivo."
   ]
  },
  {
   "cell_type": "code",
   "execution_count": 131,
   "id": "53bc6824",
   "metadata": {},
   "outputs": [],
   "source": [
    "X_logit = df[df.columns.difference(['AC'])]\n",
    "y_logit = df.AC"
   ]
  },
  {
   "cell_type": "markdown",
   "id": "a61bc8b0",
   "metadata": {},
   "source": [
    "Dividimos en dos partes a nuestra base de datos en un 80% para que el algoritmo entrene y un 20% para aplicar nuestras métricas de desempeño."
   ]
  },
  {
   "cell_type": "code",
   "execution_count": 133,
   "id": "23f68917",
   "metadata": {},
   "outputs": [],
   "source": [
    "X_train_logit , X_test_logit , y_train_logit , y_test_logit = train_test_split(X_logit , y_logit , test_size = 0.20,random_state =123)"
   ]
  },
  {
   "cell_type": "code",
   "execution_count": 134,
   "id": "e9a416a4",
   "metadata": {},
   "outputs": [
    {
     "name": "stdout",
     "output_type": "stream",
     "text": [
      "(436, 12)  <class 'pandas.core.frame.DataFrame'>\n",
      "(436, 12) \t  <class 'pandas.core.series.Series'>\n",
      "(109, 12)  <class 'pandas.core.frame.DataFrame'>\n",
      "(109, 12) \t  <class 'pandas.core.series.Series'>\n"
     ]
    }
   ],
   "source": [
    "print(X_train_logit.shape,\"\",type(X_train_logit))\n",
    "print(X_train_logit.shape,\"\\t \",type(y_train_logit))\n",
    "print(X_test_logit.shape,\"\",type(X_test_logit))\n",
    "print(X_test_logit.shape,\"\\t \",type(y_test_logit))"
   ]
  },
  {
   "cell_type": "markdown",
   "id": "7929d279",
   "metadata": {},
   "source": [
    "### Entrenar el modelo con los datos de entrenamiento"
   ]
  },
  {
   "cell_type": "code",
   "execution_count": 135,
   "id": "59774445",
   "metadata": {},
   "outputs": [],
   "source": [
    "from sklearn.linear_model import LogisticRegression"
   ]
  },
  {
   "cell_type": "code",
   "execution_count": 136,
   "id": "34cff80f",
   "metadata": {},
   "outputs": [
    {
     "data": {
      "text/plain": [
       "LogisticRegression()"
      ]
     },
     "execution_count": 136,
     "metadata": {},
     "output_type": "execute_result"
    }
   ],
   "source": [
    "modelo_logistico = LogisticRegression()\n",
    "modelo_logistico.fit(X_train_logit, y_train_logit)"
   ]
  },
  {
   "cell_type": "markdown",
   "id": "edb96b91",
   "metadata": {},
   "source": [
    "### Realizar las predicciones"
   ]
  },
  {
   "cell_type": "code",
   "execution_count": 137,
   "id": "e96def10",
   "metadata": {},
   "outputs": [],
   "source": [
    "predicciones_train_logit = modelo_logistico.predict(X_train_logit)\n",
    "predicciones_test_logit  = modelo_logistico.predict(X_test_logit)"
   ]
  },
  {
   "cell_type": "markdown",
   "id": "19884154",
   "metadata": {},
   "source": [
    "### Métricas de evaluación"
   ]
  },
  {
   "cell_type": "markdown",
   "id": "1e22ede6",
   "metadata": {},
   "source": [
    "#### Matriz de confusión"
   ]
  },
  {
   "cell_type": "code",
   "execution_count": 148,
   "id": "448b87dc",
   "metadata": {},
   "outputs": [],
   "source": [
    "from sklearn import metrics\n",
    "from sklearn.metrics import precision_score, recall_score, f1_score"
   ]
  },
  {
   "cell_type": "code",
   "execution_count": 142,
   "id": "066f21ca",
   "metadata": {},
   "outputs": [
    {
     "name": "stdout",
     "output_type": "stream",
     "text": [
      "[[58 17]\n",
      " [24 10]]\n"
     ]
    }
   ],
   "source": [
    "cm = metrics.confusion_matrix(y_test_logit, predicciones_test_logit)\n",
    "print(cm)"
   ]
  },
  {
   "cell_type": "code",
   "execution_count": 144,
   "id": "8851a192",
   "metadata": {},
   "outputs": [
    {
     "data": {
      "image/png": "[encoded data removed]",
      "text/plain": [
       "<Figure size 360x360 with 1 Axes>"
      ]
     },
     "metadata": {
      "needs_background": "light"
     },
     "output_type": "display_data"
    }
   ],
   "source": [
    "fig, ax = plt.subplots(figsize=(5, 5))\n",
    "ax.matshow(cm, cmap=plt.cm.Oranges, alpha=0.3)\n",
    "for i in range(cm.shape[0]):\n",
    "    for j in range(cm.shape[1]):\n",
    "        ax.text(x=j, y=i,s=cm[i, j], va='center', ha='center', size='xx-large')\n",
    " \n",
    "plt.xlabel('Predictions', fontsize=18)\n",
    "plt.ylabel('Actuals', fontsize=18)\n",
    "plt.title('Confusion Matrix', fontsize=18)\n",
    "plt.show()"
   ]
  },
  {
   "cell_type": "markdown",
   "id": "6d5480c6",
   "metadata": {},
   "source": [
    "#### Precisión o \"precision\""
   ]
  },
  {
   "cell_type": "code",
   "execution_count": 149,
   "id": "ee12f833",
   "metadata": {},
   "outputs": [
    {
     "name": "stdout",
     "output_type": "stream",
     "text": [
      "Precision: 0.370\n"
     ]
    }
   ],
   "source": [
    "print('Precision: %.3f' % precision_score(y_test_logit, predicciones_test_logit))"
   ]
  },
  {
   "cell_type": "markdown",
   "id": "aa20ca5f",
   "metadata": {},
   "source": [
    "La precisión es una medida que nos da luces sobre la calidad del modelo ya que evalúa, el número de elementos identificados correctamente como positivos sobre el total de positivos verdaderos."
   ]
  },
  {
   "cell_type": "markdown",
   "id": "4cef3b86",
   "metadata": {},
   "source": [
    "#### Exhaustividad o \"recall\""
   ]
  },
  {
   "cell_type": "code",
   "execution_count": 150,
   "id": "fbe1c04f",
   "metadata": {},
   "outputs": [
    {
     "name": "stdout",
     "output_type": "stream",
     "text": [
      "Recall: 0.294\n"
     ]
    }
   ],
   "source": [
    "print('Recall: %.3f' % recall_score(y_test_logit, predicciones_test_logit))"
   ]
  },
  {
   "cell_type": "markdown",
   "id": "88964787",
   "metadata": {},
   "source": [
    "#### F1 score"
   ]
  },
  {
   "cell_type": "code",
   "execution_count": 151,
   "id": "bc7557e8",
   "metadata": {
    "scrolled": true
   },
   "outputs": [
    {
     "name": "stdout",
     "output_type": "stream",
     "text": [
      "F1 Score: 0.328\n"
     ]
    }
   ],
   "source": [
    "print('F1 Score: %.3f' % f1_score(y_test_logit, predicciones_test_logit))"
   ]
  },
  {
   "cell_type": "markdown",
   "id": "c31661fa",
   "metadata": {},
   "source": [
    " "
   ]
  },
  {
   "cell_type": "markdown",
   "id": "9260d315",
   "metadata": {},
   "source": [
    "## Bonus: Feature importance"
   ]
  },
  {
   "cell_type": "code",
   "execution_count": 161,
   "id": "24c1640f",
   "metadata": {},
   "outputs": [],
   "source": [
    "sc_logit = StandardScaler()"
   ]
  },
  {
   "cell_type": "code",
   "execution_count": 162,
   "id": "9fed415a",
   "metadata": {},
   "outputs": [],
   "source": [
    "X_train_std_logit = sc_logit.fit_transform(X_train_logit)\n",
    "X_test_std_logit = sc_logit.transform(X_test_logit)"
   ]
  },
  {
   "cell_type": "markdown",
   "id": "324267db",
   "metadata": {},
   "source": [
    "### Entrenar el modelo con los datos de entrenamiento"
   ]
  },
  {
   "cell_type": "code",
   "execution_count": 163,
   "id": "5e5cd144",
   "metadata": {},
   "outputs": [
    {
     "data": {
      "text/plain": [
       "LogisticRegression()"
      ]
     },
     "execution_count": 163,
     "metadata": {},
     "output_type": "execute_result"
    }
   ],
   "source": [
    "modelo_logistico_std = LogisticRegression()\n",
    "modelo_logistico_std.fit(X_train_std_logit, y_train_logit)"
   ]
  },
  {
   "cell_type": "markdown",
   "id": "9cc01af8",
   "metadata": {},
   "source": [
    "Una vez tenemos nuestros diferentes conjuntos de datos, procedemos a entrenar al modelo:"
   ]
  },
  {
   "cell_type": "markdown",
   "id": "87e6442c",
   "metadata": {},
   "source": [
    "### Realizar las predicciones"
   ]
  },
  {
   "cell_type": "code",
   "execution_count": 164,
   "id": "8902a019",
   "metadata": {},
   "outputs": [],
   "source": [
    "predicciones_train_logit_std = modelo_logistico_std.predict(X_train_std_logit)\n",
    "predicciones_test_logit_std  = modelo_logistico_std.predict(X_test_std_logit)"
   ]
  },
  {
   "cell_type": "markdown",
   "id": "6af7624d",
   "metadata": {},
   "source": [
    "### Extraer los coeficientes"
   ]
  },
  {
   "cell_type": "code",
   "execution_count": 167,
   "id": "7c4e191b",
   "metadata": {},
   "outputs": [],
   "source": [
    "importancia_logit = modelo_logistico_std.coef_[0]"
   ]
  },
  {
   "cell_type": "code",
   "execution_count": 168,
   "id": "dddee744",
   "metadata": {},
   "outputs": [
    {
     "name": "stdout",
     "output_type": "stream",
     "text": [
      "Variable explicativa No. 0, Score: -0.02007\n",
      "Variable explicativa No. 1, Score: -0.15763\n",
      "Variable explicativa No. 2, Score: -0.25106\n",
      "Variable explicativa No. 3, Score: -0.99929\n",
      "Variable explicativa No. 4, Score: -0.03582\n",
      "Variable explicativa No. 5, Score: 0.04863\n",
      "Variable explicativa No. 6, Score: -0.03295\n",
      "Variable explicativa No. 7, Score: -0.01542\n",
      "Variable explicativa No. 8, Score: -0.20158\n",
      "Variable explicativa No. 9, Score: 0.23715\n",
      "Variable explicativa No. 10, Score: 1.54726\n",
      "Variable explicativa No. 11, Score: 0.06913\n"
     ]
    }
   ],
   "source": [
    "# Resumen\n",
    "for i,v in enumerate(importancia_logit):\n",
    "    print('Variable explicativa No. %0d, Score: %.5f' % (i,v))"
   ]
  },
  {
   "cell_type": "code",
   "execution_count": 169,
   "id": "c4f85f4e",
   "metadata": {},
   "outputs": [
    {
     "data": {
      "image/png": "[encoded data removed]",
      "text/plain": [
       "<Figure size 432x288 with 1 Axes>"
      ]
     },
     "metadata": {
      "needs_background": "light"
     },
     "output_type": "display_data"
    }
   ],
   "source": [
    "# Graficar la importancia o \"feature importance\"\n",
    "plt.bar([x for x in range(len(importancia_logit))], importancia_logit)\n",
    "plt.show()"
   ]
  },
  {
   "cell_type": "markdown",
   "id": "92946e10",
   "metadata": {},
   "source": [
    "Un valor de \"feature importance\" negativo significa que esa característica hace que aumente la función de costos, por lo que el modelo no está hace un buen uso de esa característica."
   ]
  },
  {
   "cell_type": "markdown",
   "id": "5deb3342",
   "metadata": {},
   "source": [
    " "
   ]
  }
 ],
 "metadata": {
  "kernelspec": {
   "display_name": "Python 3 (ipykernel)",
   "language": "python",
   "name": "python3"
  },
  "language_info": {
   "codemirror_mode": {
    "name": "ipython",
    "version": 3
   },
   "file_extension": ".py",
   "mimetype": "text/x-python",
   "name": "python",
   "nbconvert_exporter": "python",
   "pygments_lexer": "ipython3",
   "version": "3.9.7"
  }
 },
 "nbformat": 4,
 "nbformat_minor": 5
}
