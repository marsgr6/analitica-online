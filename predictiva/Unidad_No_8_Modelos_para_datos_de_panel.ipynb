{
 "cells": [
  {
   "cell_type": "markdown",
   "id": "840324c4",
   "metadata": {},
   "source": [
    "# Datos de Panel"
   ]
  },
  {
   "cell_type": "markdown",
   "id": "4f3f5aed",
   "metadata": {},
   "source": [
    "Los datos de panel son un conjunto de datos que se recopilan durante un período de tiempo para uno o más individuos o \"casos\" identificables de forma única. En la terminología de datos de panel, cada individuo o \"caso, se denomina unidad.\n",
    "\n",
    "Para construir una base de datos en este estado, los investigadores miden uno o más variables para cada unidad y registran sus valores en un formato tabular, en el que cada fila representa una unidad única, cada columna contiene los datos de una de las variables y el eje contiene la secuencia de períodos de tiempo durante los cuales la unidad ha sido rastreada o monitoreada."
   ]
  },
  {
   "cell_type": "markdown",
   "id": "1e2ec856",
   "metadata": {},
   "source": [
    "En un conjunto de datos de panel, el conjunto de puntos de datos pertenecientes a una unidad se denomina grupo y a menudo, requiere que los datos sean indexados como grupo."
   ]
  },
  {
   "attachments": {},
   "cell_type": "markdown",
   "id": "1c717a37",
   "metadata": {},
   "source": [
    "<img src=\"panel_data.png\" width=\"400\">"
   ]
  },
  {
   "cell_type": "markdown",
   "id": "d499b0fc",
   "metadata": {},
   "source": [
    "Como podemos observar, lo que resulta de este ejercicio es una base para la cual, cada estado de los EEUU, identificados por la columna de: id_estado o la \"unidad\", ha sido monitoreada durante la misma cantidad de períodos de tiempo, lo que da como resultado lo que se denomina un panel equilibrado. Por ello, un requisito fundamental en los datos de panel es que, se disponga de de una columna para identificar al caso y de otra columna para identificar a la unidad de tiempo.\n",
    "\n",
    "El conjunto de datos anterior también es un ejemplo de un panel fijo (en lugar de un panel giratorio) porque estamos rastreando el mismo conjunto de estados en cada período de tiempo.\n"
   ]
  },
  {
   "cell_type": "markdown",
   "id": "65ba5d31",
   "metadata": {},
   "source": [
    "#### Datos de sección trasnversal"
   ]
  },
  {
   "cell_type": "markdown",
   "id": "26aa18b7",
   "metadata": {},
   "source": [
    "Los datos transversales se describen como una observación de múltiples objetos y variables correspondientes en un punto específico en el tiempo, por lo que los datos de series temporales solo observan un objeto de forma recurrente a lo largo del tiempo. "
   ]
  },
  {
   "cell_type": "markdown",
   "id": "4a56a870",
   "metadata": {},
   "source": [
    "<img src=\"coss_sectional.png\" width=\"350\">"
   ]
  },
  {
   "cell_type": "markdown",
   "id": "0decf15c",
   "metadata": {},
   "source": [
    "#### Entonces:¿Cuál es el beneficio de este tipo de modelos?"
   ]
  },
  {
   "cell_type": "markdown",
   "id": "763cc9a9",
   "metadata": {},
   "source": [
    "La regresión con datos de panel puede mitigar el sesgo de variable omitida cuando no hay información sobre las variables que se correlacionan tanto con la variable objetivo como con la variable independiente. Siempre que se disponga de datos de panel, los métodos de regresión de panel pueden mejorar los modelos de regresión múltiple.\n",
    "\n",
    "En sí, el problema que puede ocasionarse de no usar datos de panel es la heterogeneidad y endogeneidad resultante, conceptos familiares si revisamos los supuestos de la Regresión Lineal en la semana No.1. \n"
   ]
  },
  {
   "cell_type": "markdown",
   "id": "d2e34104",
   "metadata": {},
   "source": [
    "#### Heterogenidad y endogenidad"
   ]
  },
  {
   "cell_type": "markdown",
   "id": "ef11c81d",
   "metadata": {},
   "source": [
    "El problema de heterogenidad y endogenidad es causado por la heterogeneidad no observada. Así, la dependencia no observada de otras variables independientes se denomina heterogeneidad no observada y la correlación entre las variables independientes y el término de error se denomina endogeneidad.\n",
    "\n",
    "Afortunadamente, podemos recurrir a los modelos de datos de panel para controlar la heterogeneidad en nuestro modelo de regresión al reconocer heterogeneidad fija o aleatoria. "
   ]
  },
  {
   "cell_type": "markdown",
   "id": "1c3ae2ed",
   "metadata": {},
   "source": [
    "Dentro de los datos de panel, los dos modelos más comunes son los de Efectos Fijos y Efectos aleatorios.  En el primero, se suponen que la variable explicativa tiene una relación fija o constante con la variable de respuesta en todas las observaciones, mientras que en el modelo de Efectos aleatorios se supone que las variables explicativas tienen relaciones fijas con la variable de respuesta en todas las observaciones, pero que estos efectos fijos pueden variar de una observación a otra."
   ]
  },
  {
   "cell_type": "markdown",
   "id": "f37a5dba",
   "metadata": {},
   "source": [
    "## Modelo de Efectos Fijos \"fixed effects\""
   ]
  },
  {
   "cell_type": "markdown",
   "id": "4c97eae2",
   "metadata": {},
   "source": [
    "El modelo de Regresión de Efectos Fijos se utiliza para estimar el efecto de las características intrínsecas de los individuos en un conjunto de datos de panel que no son directamente observables o medibles. Para ello, se busca mediante esta metodología,  estimar sus efectos para mejorar la calidad del análisis. Matemáticamente viene definido como:"
   ]
  },
  {
   "cell_type": "markdown",
   "id": "63bf9c3f",
   "metadata": {},
   "source": [
    "$$ Y_{it} = \\beta_0 + \\beta_1 X_{it} + \\beta_2 Z_i +  u_{it}$$"
   ]
  },
  {
   "cell_type": "markdown",
   "id": "5f8167fa",
   "metadata": {},
   "source": [
    "Donde:\n",
    "- 𝑌𝑖𝑡 es una matriz de tamaño [T x 1] que contiene las T observaciones para la unidad \n",
    "- 𝑋𝑖𝑡 es una matriz de tamaño [T x k] que contiene los valores de \"k\" variables de regresión, observables y relevantes\n",
    "- 𝛽1 es una matriz de tamaño [k x 1] que contiene los valores de la población de los coeficientes de regresión para las primera variables de regresión\n",
    "- 𝑍𝑖 es una matriz de tamaño [T x m]son heterogeneidades invariantes en el tiempo no observadas entre las entidades\n",
    "- 𝑢𝑖𝑡 es una matriz de tamaño [T x 1] que contiene los errores correspondientes a las T observaciones para la unidad i"
   ]
  },
  {
   "cell_type": "markdown",
   "id": "d62313e4",
   "metadata": {},
   "source": [
    "Cabe recalcar, que tal como en la Rgeresión Lineal simple, el modelo de Efectos Fijos también puede generalizarse para incluir más determinantes de \"y\" que están correlacionados con \"X\" y que varían en el tiempo."
   ]
  },
  {
   "cell_type": "markdown",
   "id": "c101888b",
   "metadata": {},
   "source": [
    "## Modelo de Efectos Aleatorios \"random effects\""
   ]
  },
  {
   "cell_type": "markdown",
   "id": "4ed58a12",
   "metadata": {},
   "source": [
    "El modelo de regresión de efectos aleatorios es útil para para estimar el efecto de las características específicas de la unidad, que son intrínsecamente imposibles de medir. En otras palabras, es entonces una técnica para estudiar el efecto de las características específicas del individuo en la variable de respuesta del conjunto de datos del panel. Matemáticamente está definido como:"
   ]
  },
  {
   "cell_type": "markdown",
   "id": "cc2f1a66",
   "metadata": {},
   "source": [
    "$$\\begin{align}\n",
    "Y_{it} = \\beta_1 X_{1,it} + \\cdots + \\beta_k X_{k,it} + \\alpha_i + u_{it}\n",
    "\\end{align}\n",
    "$$\n"
   ]
  },
  {
   "cell_type": "markdown",
   "id": "a4a0d3f5",
   "metadata": {},
   "source": [
    "Donde los 𝛼𝑖 son las intersecciones específicas de la entidad que capturan heterogeneidades entre entidades."
   ]
  },
  {
   "cell_type": "markdown",
   "id": "563c3257",
   "metadata": {},
   "source": [
    "Nuestro objetivo dentro de este modelo es estimar los 𝛽, que es el efecto de 𝑋𝑖 en 𝑌𝑖, manteniendo constante los cambios en 𝑍𝑖. Dado que 𝛼𝑖, son interceptos específicos individuales, estos se interpretan como el efecto fijo de entidad \"i\". He aquí el nombre del modelo \"efectos fijos\"."
   ]
  },
  {
   "cell_type": "markdown",
   "id": "59257591",
   "metadata": {},
   "source": [
    "## Los datos"
   ]
  },
  {
   "cell_type": "markdown",
   "id": "93271436",
   "metadata": {},
   "source": [
    "Para cerrar el curso el día de hoy, y teniendo en cuenta que estos modelos concentran sus esfuerzos en bases de datos de corte econométrico, trabajaremos con una base que contiene 1173 observaciones y 11 variables para un total de 51 estados, por año desde 1977 a 1999”. \n",
    "\n",
    "Para descargarla, pueden dirigirse directamente a: https://github.com/saivishnuk/Data-Science/blob/master/Do_more_guns_reduce_violence_crime_rate/guns.csv o descargarla de R mediante el comando data(\"Guns\")."
   ]
  },
  {
   "cell_type": "markdown",
   "id": "2e3b1403",
   "metadata": {},
   "source": [
    "#### Importar los modules requeridos"
   ]
  },
  {
   "cell_type": "code",
   "execution_count": 3,
   "id": "6ce9621a",
   "metadata": {},
   "outputs": [],
   "source": [
    "import numpy as np\n",
    "import pandas as pd\n",
    "import matplotlib.pyplot as plt\n",
    "import seaborn as sns\n",
    "\n",
    "import warnings\n",
    "warnings.filterwarnings(\"ignore\")"
   ]
  },
  {
   "cell_type": "markdown",
   "id": "c89b20f8",
   "metadata": {},
   "source": [
    "Para la regresión y validación de supuestos llamamos a linearmodels, el módulo encargado de la modelación para datos de panel en Python."
   ]
  },
  {
   "cell_type": "markdown",
   "id": "378d2601",
   "metadata": {},
   "source": [
    "<img src=\"panel_models.png\" width=\"650\">"
   ]
  },
  {
   "cell_type": "markdown",
   "id": "e02927e8",
   "metadata": {},
   "source": [
    "Ahora, llamemos a nuestra base de datos a nuestro espacio en el Jupyer Notebook:"
   ]
  },
  {
   "cell_type": "code",
   "execution_count": 4,
   "id": "dd6758ed",
   "metadata": {},
   "outputs": [
    {
     "data": {
      "text/html": [
       "<div>\n",
       "<style scoped>\n",
       "    .dataframe tbody tr th:only-of-type {\n",
       "        vertical-align: middle;\n",
       "    }\n",
       "\n",
       "    .dataframe tbody tr th {\n",
       "        vertical-align: top;\n",
       "    }\n",
       "\n",
       "    .dataframe thead th {\n",
       "        text-align: right;\n",
       "    }\n",
       "</style>\n",
       "<table border=\"1\" class=\"dataframe\">\n",
       "  <thead>\n",
       "    <tr style=\"text-align: right;\">\n",
       "      <th></th>\n",
       "      <th>year</th>\n",
       "      <th>vio</th>\n",
       "      <th>incarc_rate</th>\n",
       "      <th>pb1064</th>\n",
       "      <th>pw1064</th>\n",
       "      <th>pm1029</th>\n",
       "      <th>pop</th>\n",
       "      <th>avginc</th>\n",
       "      <th>density</th>\n",
       "      <th>stateid</th>\n",
       "      <th>shall</th>\n",
       "    </tr>\n",
       "  </thead>\n",
       "  <tbody>\n",
       "    <tr>\n",
       "      <th>0</th>\n",
       "      <td>77</td>\n",
       "      <td>414.399994</td>\n",
       "      <td>83</td>\n",
       "      <td>8.384873</td>\n",
       "      <td>55.122906</td>\n",
       "      <td>18.174412</td>\n",
       "      <td>3.780403</td>\n",
       "      <td>9.563148</td>\n",
       "      <td>0.074552</td>\n",
       "      <td>1</td>\n",
       "      <td>0</td>\n",
       "    </tr>\n",
       "    <tr>\n",
       "      <th>1</th>\n",
       "      <td>78</td>\n",
       "      <td>419.100006</td>\n",
       "      <td>94</td>\n",
       "      <td>8.352101</td>\n",
       "      <td>55.143665</td>\n",
       "      <td>17.994080</td>\n",
       "      <td>3.831838</td>\n",
       "      <td>9.932000</td>\n",
       "      <td>0.075567</td>\n",
       "      <td>1</td>\n",
       "      <td>0</td>\n",
       "    </tr>\n",
       "    <tr>\n",
       "      <th>2</th>\n",
       "      <td>79</td>\n",
       "      <td>413.299988</td>\n",
       "      <td>144</td>\n",
       "      <td>8.329575</td>\n",
       "      <td>55.135857</td>\n",
       "      <td>17.839336</td>\n",
       "      <td>3.866248</td>\n",
       "      <td>9.877028</td>\n",
       "      <td>0.076245</td>\n",
       "      <td>1</td>\n",
       "      <td>0</td>\n",
       "    </tr>\n",
       "    <tr>\n",
       "      <th>3</th>\n",
       "      <td>80</td>\n",
       "      <td>448.500000</td>\n",
       "      <td>141</td>\n",
       "      <td>8.408386</td>\n",
       "      <td>54.912586</td>\n",
       "      <td>17.734198</td>\n",
       "      <td>3.900368</td>\n",
       "      <td>9.541428</td>\n",
       "      <td>0.076829</td>\n",
       "      <td>1</td>\n",
       "      <td>0</td>\n",
       "    </tr>\n",
       "    <tr>\n",
       "      <th>4</th>\n",
       "      <td>81</td>\n",
       "      <td>470.500000</td>\n",
       "      <td>149</td>\n",
       "      <td>8.483435</td>\n",
       "      <td>54.925125</td>\n",
       "      <td>17.673716</td>\n",
       "      <td>3.918531</td>\n",
       "      <td>9.548351</td>\n",
       "      <td>0.077187</td>\n",
       "      <td>1</td>\n",
       "      <td>0</td>\n",
       "    </tr>\n",
       "    <tr>\n",
       "      <th>...</th>\n",
       "      <td>...</td>\n",
       "      <td>...</td>\n",
       "      <td>...</td>\n",
       "      <td>...</td>\n",
       "      <td>...</td>\n",
       "      <td>...</td>\n",
       "      <td>...</td>\n",
       "      <td>...</td>\n",
       "      <td>...</td>\n",
       "      <td>...</td>\n",
       "      <td>...</td>\n",
       "    </tr>\n",
       "    <tr>\n",
       "      <th>1168</th>\n",
       "      <td>95</td>\n",
       "      <td>254.199997</td>\n",
       "      <td>254</td>\n",
       "      <td>1.485849</td>\n",
       "      <td>73.716209</td>\n",
       "      <td>15.370982</td>\n",
       "      <td>0.478447</td>\n",
       "      <td>14.070156</td>\n",
       "      <td>0.004927</td>\n",
       "      <td>56</td>\n",
       "      <td>1</td>\n",
       "    </tr>\n",
       "    <tr>\n",
       "      <th>1169</th>\n",
       "      <td>96</td>\n",
       "      <td>249.699997</td>\n",
       "      <td>289</td>\n",
       "      <td>1.521814</td>\n",
       "      <td>73.857964</td>\n",
       "      <td>15.446014</td>\n",
       "      <td>0.480085</td>\n",
       "      <td>14.032229</td>\n",
       "      <td>0.004944</td>\n",
       "      <td>56</td>\n",
       "      <td>1</td>\n",
       "    </tr>\n",
       "    <tr>\n",
       "      <th>1170</th>\n",
       "      <td>97</td>\n",
       "      <td>255.199997</td>\n",
       "      <td>310</td>\n",
       "      <td>1.527818</td>\n",
       "      <td>73.927307</td>\n",
       "      <td>15.493999</td>\n",
       "      <td>0.480031</td>\n",
       "      <td>14.790977</td>\n",
       "      <td>0.004943</td>\n",
       "      <td>56</td>\n",
       "      <td>1</td>\n",
       "    </tr>\n",
       "    <tr>\n",
       "      <th>1171</th>\n",
       "      <td>98</td>\n",
       "      <td>247.600006</td>\n",
       "      <td>326</td>\n",
       "      <td>1.558396</td>\n",
       "      <td>73.985146</td>\n",
       "      <td>15.510213</td>\n",
       "      <td>0.480045</td>\n",
       "      <td>15.225509</td>\n",
       "      <td>0.004944</td>\n",
       "      <td>56</td>\n",
       "      <td>1</td>\n",
       "    </tr>\n",
       "    <tr>\n",
       "      <th>1172</th>\n",
       "      <td>99</td>\n",
       "      <td>232.300003</td>\n",
       "      <td>327</td>\n",
       "      <td>1.613004</td>\n",
       "      <td>74.049522</td>\n",
       "      <td>15.480127</td>\n",
       "      <td>0.479602</td>\n",
       "      <td>15.765074</td>\n",
       "      <td>0.004939</td>\n",
       "      <td>56</td>\n",
       "      <td>1</td>\n",
       "    </tr>\n",
       "  </tbody>\n",
       "</table>\n",
       "<p>1173 rows × 11 columns</p>\n",
       "</div>"
      ],
      "text/plain": [
       "      year         vio  incarc_rate    pb1064     pw1064     pm1029       pop  \\\n",
       "0       77  414.399994           83  8.384873  55.122906  18.174412  3.780403   \n",
       "1       78  419.100006           94  8.352101  55.143665  17.994080  3.831838   \n",
       "2       79  413.299988          144  8.329575  55.135857  17.839336  3.866248   \n",
       "3       80  448.500000          141  8.408386  54.912586  17.734198  3.900368   \n",
       "4       81  470.500000          149  8.483435  54.925125  17.673716  3.918531   \n",
       "...    ...         ...          ...       ...        ...        ...       ...   \n",
       "1168    95  254.199997          254  1.485849  73.716209  15.370982  0.478447   \n",
       "1169    96  249.699997          289  1.521814  73.857964  15.446014  0.480085   \n",
       "1170    97  255.199997          310  1.527818  73.927307  15.493999  0.480031   \n",
       "1171    98  247.600006          326  1.558396  73.985146  15.510213  0.480045   \n",
       "1172    99  232.300003          327  1.613004  74.049522  15.480127  0.479602   \n",
       "\n",
       "         avginc   density  stateid  shall  \n",
       "0      9.563148  0.074552        1      0  \n",
       "1      9.932000  0.075567        1      0  \n",
       "2      9.877028  0.076245        1      0  \n",
       "3      9.541428  0.076829        1      0  \n",
       "4      9.548351  0.077187        1      0  \n",
       "...         ...       ...      ...    ...  \n",
       "1168  14.070156  0.004927       56      1  \n",
       "1169  14.032229  0.004944       56      1  \n",
       "1170  14.790977  0.004943       56      1  \n",
       "1171  15.225509  0.004944       56      1  \n",
       "1172  15.765074  0.004939       56      1  \n",
       "\n",
       "[1173 rows x 11 columns]"
      ]
     },
     "execution_count": 4,
     "metadata": {},
     "output_type": "execute_result"
    }
   ],
   "source": [
    "df=pd.read_csv(\"guns.csv\")\n",
    "df"
   ]
  },
  {
   "cell_type": "markdown",
   "id": "b7d52aa5",
   "metadata": {},
   "source": [
    "#### Recodificar el nombre de las columnas a español"
   ]
  },
  {
   "cell_type": "markdown",
   "id": "1df6875a",
   "metadata": {},
   "source": [
    "Como es habitual procedamos a reemplazar los nombres de las columnas a español:"
   ]
  },
  {
   "cell_type": "code",
   "execution_count": 5,
   "id": "18ec3baa",
   "metadata": {},
   "outputs": [],
   "source": [
    "df.rename({'year':'anio', 'vio': 'tasa_crimen_violento', 'incarc_rate':'rasa_encarcelamiento', \n",
    "           'pb1064': 'tasa_pob_negra', 'pw1064':'tasa_pob_caucasica', 'pm1029':'tasa_pob_cmasculina',\n",
    "           'pop':'poblacion', 'avginc': 'ingresos_promedios', 'density':'densidad_poblacional', 'stateid':'id_estado', \n",
    "           'shall':'ley' }, axis=1, inplace=True)"
   ]
  },
  {
   "cell_type": "markdown",
   "id": "1d7e0d7d",
   "metadata": {},
   "source": [
    "Para simplificar el análisis limitemos las variables explicativas a 4: el año y estado en donde se recogió la información, el ingreso promedio y la tasa de crimen violento:"
   ]
  },
  {
   "cell_type": "code",
   "execution_count": 6,
   "id": "0b4f306c",
   "metadata": {},
   "outputs": [
    {
     "data": {
      "text/html": [
       "<div>\n",
       "<style scoped>\n",
       "    .dataframe tbody tr th:only-of-type {\n",
       "        vertical-align: middle;\n",
       "    }\n",
       "\n",
       "    .dataframe tbody tr th {\n",
       "        vertical-align: top;\n",
       "    }\n",
       "\n",
       "    .dataframe thead th {\n",
       "        text-align: right;\n",
       "    }\n",
       "</style>\n",
       "<table border=\"1\" class=\"dataframe\">\n",
       "  <thead>\n",
       "    <tr style=\"text-align: right;\">\n",
       "      <th></th>\n",
       "      <th>anio</th>\n",
       "      <th>tasa_crimen_violento</th>\n",
       "      <th>ingresos_promedios</th>\n",
       "      <th>id_estado</th>\n",
       "    </tr>\n",
       "  </thead>\n",
       "  <tbody>\n",
       "    <tr>\n",
       "      <th>0</th>\n",
       "      <td>77</td>\n",
       "      <td>414.399994</td>\n",
       "      <td>9.563148</td>\n",
       "      <td>1</td>\n",
       "    </tr>\n",
       "    <tr>\n",
       "      <th>1</th>\n",
       "      <td>78</td>\n",
       "      <td>419.100006</td>\n",
       "      <td>9.932000</td>\n",
       "      <td>1</td>\n",
       "    </tr>\n",
       "    <tr>\n",
       "      <th>2</th>\n",
       "      <td>79</td>\n",
       "      <td>413.299988</td>\n",
       "      <td>9.877028</td>\n",
       "      <td>1</td>\n",
       "    </tr>\n",
       "    <tr>\n",
       "      <th>3</th>\n",
       "      <td>80</td>\n",
       "      <td>448.500000</td>\n",
       "      <td>9.541428</td>\n",
       "      <td>1</td>\n",
       "    </tr>\n",
       "    <tr>\n",
       "      <th>4</th>\n",
       "      <td>81</td>\n",
       "      <td>470.500000</td>\n",
       "      <td>9.548351</td>\n",
       "      <td>1</td>\n",
       "    </tr>\n",
       "    <tr>\n",
       "      <th>...</th>\n",
       "      <td>...</td>\n",
       "      <td>...</td>\n",
       "      <td>...</td>\n",
       "      <td>...</td>\n",
       "    </tr>\n",
       "    <tr>\n",
       "      <th>1168</th>\n",
       "      <td>95</td>\n",
       "      <td>254.199997</td>\n",
       "      <td>14.070156</td>\n",
       "      <td>56</td>\n",
       "    </tr>\n",
       "    <tr>\n",
       "      <th>1169</th>\n",
       "      <td>96</td>\n",
       "      <td>249.699997</td>\n",
       "      <td>14.032229</td>\n",
       "      <td>56</td>\n",
       "    </tr>\n",
       "    <tr>\n",
       "      <th>1170</th>\n",
       "      <td>97</td>\n",
       "      <td>255.199997</td>\n",
       "      <td>14.790977</td>\n",
       "      <td>56</td>\n",
       "    </tr>\n",
       "    <tr>\n",
       "      <th>1171</th>\n",
       "      <td>98</td>\n",
       "      <td>247.600006</td>\n",
       "      <td>15.225509</td>\n",
       "      <td>56</td>\n",
       "    </tr>\n",
       "    <tr>\n",
       "      <th>1172</th>\n",
       "      <td>99</td>\n",
       "      <td>232.300003</td>\n",
       "      <td>15.765074</td>\n",
       "      <td>56</td>\n",
       "    </tr>\n",
       "  </tbody>\n",
       "</table>\n",
       "<p>1173 rows × 4 columns</p>\n",
       "</div>"
      ],
      "text/plain": [
       "      anio  tasa_crimen_violento  ingresos_promedios  id_estado\n",
       "0       77            414.399994            9.563148          1\n",
       "1       78            419.100006            9.932000          1\n",
       "2       79            413.299988            9.877028          1\n",
       "3       80            448.500000            9.541428          1\n",
       "4       81            470.500000            9.548351          1\n",
       "...    ...                   ...                 ...        ...\n",
       "1168    95            254.199997           14.070156         56\n",
       "1169    96            249.699997           14.032229         56\n",
       "1170    97            255.199997           14.790977         56\n",
       "1171    98            247.600006           15.225509         56\n",
       "1172    99            232.300003           15.765074         56\n",
       "\n",
       "[1173 rows x 4 columns]"
      ]
     },
     "execution_count": 6,
     "metadata": {},
     "output_type": "execute_result"
    }
   ],
   "source": [
    "df=df[['anio', 'tasa_crimen_violento', 'ingresos_promedios', 'id_estado']]\n",
    "df"
   ]
  },
  {
   "cell_type": "markdown",
   "id": "58f3fd11",
   "metadata": {},
   "source": [
    "En el conjunto de datos anterior, se realiza un seguimiento de cada país (la \"unidad\") durante la misma cantidad de períodos de tiempo, lo que da como resultado lo que se denomina un panel equilibrado. Un panel desequilibrado o desequilibrado es aquel en el que se rastrean diferentes unidades durante diferentes períodos de tiempo.\n",
    "\n",
    "El conjunto de datos anterior también es un ejemplo de un panel fijo (en lugar de un panel giratorio) porque estamos rastreando el mismo conjunto de países en cada período de tiempo.\n",
    "\n",
    "En el resto de este capítulo, veremos paneles de datos fijos y balanceados.\n",
    "\n",
    "En un conjunto de datos de panel, el conjunto de puntos de datos pertenecientes a una unidad se denomina grupo. A menudo, las palabras unidad y grupo se usan indistintamente en discusiones sobre conjuntos de datos de panel.\n",
    "\n",
    "Volviendo al conjunto de datos del Banco Mundial, supongamos que deseamos estudiar la relación entre el crecimiento de la formación bruta de capital y el crecimiento del PIB de un país. Con ese fin, formamos el siguiente objetivo de regresión:"
   ]
  },
  {
   "cell_type": "code",
   "execution_count": 7,
   "id": "d893f20b",
   "metadata": {},
   "outputs": [
    {
     "data": {
      "text/html": [
       "<div>\n",
       "<style scoped>\n",
       "    .dataframe tbody tr th:only-of-type {\n",
       "        vertical-align: middle;\n",
       "    }\n",
       "\n",
       "    .dataframe tbody tr th {\n",
       "        vertical-align: top;\n",
       "    }\n",
       "\n",
       "    .dataframe thead th {\n",
       "        text-align: right;\n",
       "    }\n",
       "</style>\n",
       "<table border=\"1\" class=\"dataframe\">\n",
       "  <thead>\n",
       "    <tr style=\"text-align: right;\">\n",
       "      <th></th>\n",
       "      <th>anio</th>\n",
       "      <th>tasa_crimen_violento</th>\n",
       "      <th>ingresos_promedios</th>\n",
       "      <th>id_estado</th>\n",
       "    </tr>\n",
       "  </thead>\n",
       "  <tbody>\n",
       "    <tr>\n",
       "      <th>count</th>\n",
       "      <td>1173.000000</td>\n",
       "      <td>1173.000000</td>\n",
       "      <td>1173.000000</td>\n",
       "      <td>1173.000000</td>\n",
       "    </tr>\n",
       "    <tr>\n",
       "      <th>mean</th>\n",
       "      <td>88.000000</td>\n",
       "      <td>503.074681</td>\n",
       "      <td>13.724796</td>\n",
       "      <td>28.960784</td>\n",
       "    </tr>\n",
       "    <tr>\n",
       "      <th>std</th>\n",
       "      <td>6.636079</td>\n",
       "      <td>334.277195</td>\n",
       "      <td>2.554543</td>\n",
       "      <td>15.683522</td>\n",
       "    </tr>\n",
       "    <tr>\n",
       "      <th>min</th>\n",
       "      <td>77.000000</td>\n",
       "      <td>47.000000</td>\n",
       "      <td>8.554884</td>\n",
       "      <td>1.000000</td>\n",
       "    </tr>\n",
       "    <tr>\n",
       "      <th>25%</th>\n",
       "      <td>82.000000</td>\n",
       "      <td>283.100006</td>\n",
       "      <td>11.934755</td>\n",
       "      <td>16.000000</td>\n",
       "    </tr>\n",
       "    <tr>\n",
       "      <th>50%</th>\n",
       "      <td>88.000000</td>\n",
       "      <td>443.000000</td>\n",
       "      <td>13.401551</td>\n",
       "      <td>29.000000</td>\n",
       "    </tr>\n",
       "    <tr>\n",
       "      <th>75%</th>\n",
       "      <td>94.000000</td>\n",
       "      <td>650.900024</td>\n",
       "      <td>15.271010</td>\n",
       "      <td>42.000000</td>\n",
       "    </tr>\n",
       "    <tr>\n",
       "      <th>max</th>\n",
       "      <td>99.000000</td>\n",
       "      <td>2921.800049</td>\n",
       "      <td>23.646713</td>\n",
       "      <td>56.000000</td>\n",
       "    </tr>\n",
       "  </tbody>\n",
       "</table>\n",
       "</div>"
      ],
      "text/plain": [
       "              anio  tasa_crimen_violento  ingresos_promedios    id_estado\n",
       "count  1173.000000           1173.000000         1173.000000  1173.000000\n",
       "mean     88.000000            503.074681           13.724796    28.960784\n",
       "std       6.636079            334.277195            2.554543    15.683522\n",
       "min      77.000000             47.000000            8.554884     1.000000\n",
       "25%      82.000000            283.100006           11.934755    16.000000\n",
       "50%      88.000000            443.000000           13.401551    29.000000\n",
       "75%      94.000000            650.900024           15.271010    42.000000\n",
       "max      99.000000           2921.800049           23.646713    56.000000"
      ]
     },
     "execution_count": 7,
     "metadata": {},
     "output_type": "execute_result"
    }
   ],
   "source": [
    "df.describe()"
   ]
  },
  {
   "cell_type": "code",
   "execution_count": 8,
   "id": "6f027cf3",
   "metadata": {},
   "outputs": [
    {
     "data": {
      "text/plain": [
       "anio                    0\n",
       "tasa_crimen_violento    0\n",
       "ingresos_promedios      0\n",
       "id_estado               0\n",
       "dtype: int64"
      ]
     },
     "execution_count": 8,
     "metadata": {},
     "output_type": "execute_result"
    }
   ],
   "source": [
    "df.isna().sum()"
   ]
  },
  {
   "cell_type": "markdown",
   "id": "69d3fe59",
   "metadata": {},
   "source": [
    "Recordemos que en datos de panel, requerimos especificar los índice para nuestra base de datos. En este caso, setiaremos al año y al codificado de estado como referencia."
   ]
  },
  {
   "cell_type": "code",
   "execution_count": 9,
   "id": "8977e281",
   "metadata": {},
   "outputs": [],
   "source": [
    "df=df.set_index(['anio', 'id_estado'])"
   ]
  },
  {
   "cell_type": "code",
   "execution_count": 10,
   "id": "8489f1e6",
   "metadata": {},
   "outputs": [],
   "source": [
    "anios = df.index.get_level_values('anio').to_list()\n",
    "df['anio'] = pd.Categorical(anios)"
   ]
  },
  {
   "cell_type": "markdown",
   "id": "37247969",
   "metadata": {},
   "source": [
    "Listo, una vez que tenemos nuestra base de datos, nuestro punto de partida en este tipo de análisis siempre será un modelo simple OLS sobre nuestros datos de panel, en el cual, ignoraremos el tiempo y las características individuales, y se enfocará únicamente en las dependencias entre los individuos. Cuando obtengamos el modelo simple, debemos siempre verificar que no haya correlación o endogeneidad en los errores."
   ]
  },
  {
   "cell_type": "markdown",
   "id": "4843ff95",
   "metadata": {},
   "source": [
    "## Pooled OLS"
   ]
  },
  {
   "cell_type": "markdown",
   "id": "e998d2e2",
   "metadata": {},
   "source": [
    "Iniciaremos con este tipo de modelo como base, ya que si se violan las condiciones especificadas previamente, los modelos de efectos fjos o efectos aleatorios serán más adecuados. \n",
    "\n",
    "Para ello, importamos al sub-module PooledOLS y a la funcionalidad de Python que nos permite expresar el modelo con notación de fórmula. "
   ]
  },
  {
   "cell_type": "code",
   "execution_count": 11,
   "id": "0948172f",
   "metadata": {},
   "outputs": [],
   "source": [
    "from linearmodels import PooledOLS\n",
    "import statsmodels.api as sm"
   ]
  },
  {
   "cell_type": "code",
   "execution_count": 12,
   "id": "3f019216",
   "metadata": {},
   "outputs": [],
   "source": [
    "X = sm.tools.tools.add_constant(df.ingresos_promedios)\n",
    "y = df.tasa_crimen_violento"
   ]
  },
  {
   "cell_type": "code",
   "execution_count": 13,
   "id": "19f2cf85",
   "metadata": {},
   "outputs": [],
   "source": [
    "modelo1 = PooledOLS(y, X)\n",
    "resultados_pooled_OLS = modelo1.fit(cov_type='clustered', cluster_entity=True)"
   ]
  },
  {
   "cell_type": "code",
   "execution_count": 14,
   "id": "f7ed3ec7",
   "metadata": {},
   "outputs": [],
   "source": [
    "# Store values for checking homoskedasticity graphically\n",
    "predicciones_pooled_OLS = resultados_pooled_OLS.predict().fitted_values\n",
    "residuos_pooled_OLS = resultados_pooled_OLS.resids"
   ]
  },
  {
   "cell_type": "code",
   "execution_count": 15,
   "id": "6c58d5eb",
   "metadata": {},
   "outputs": [
    {
     "data": {
      "text/html": [
       "<table class=\"simpletable\">\n",
       "<caption>PooledOLS Estimation Summary</caption>\n",
       "<tr>\n",
       "  <th>Dep. Variable:</th>    <td>tasa_crimen_violento</td> <th>  R-squared:         </th>    <td>0.1665</td>  \n",
       "</tr>\n",
       "<tr>\n",
       "  <th>Estimator:</th>              <td>PooledOLS</td>      <th>  R-squared (Between):</th>   <td>-0.0847</td> \n",
       "</tr>\n",
       "<tr>\n",
       "  <th>No. Observations:</th>         <td>1173</td>         <th>  R-squared (Within):</th>    <td>0.1758</td>  \n",
       "</tr>\n",
       "<tr>\n",
       "  <th>Date:</th>               <td>Wed, Oct 26 2022</td>   <th>  R-squared (Overall):</th>   <td>0.1665</td>  \n",
       "</tr>\n",
       "<tr>\n",
       "  <th>Time:</th>                   <td>05:38:26</td>       <th>  Log-likelihood     </th>    <td>-8374.6</td> \n",
       "</tr>\n",
       "<tr>\n",
       "  <th>Cov. Estimator:</th>         <td>Clustered</td>      <th>                     </th>       <td></td>     \n",
       "</tr>\n",
       "<tr>\n",
       "  <th></th>                            <td></td>           <th>  F-statistic:       </th>    <td>233.84</td>  \n",
       "</tr>\n",
       "<tr>\n",
       "  <th>Entities:</th>                  <td>23</td>          <th>  P-value            </th>    <td>0.0000</td>  \n",
       "</tr>\n",
       "<tr>\n",
       "  <th>Avg Obs:</th>                 <td>51.000</td>        <th>  Distribution:      </th>   <td>F(1,1171)</td>\n",
       "</tr>\n",
       "<tr>\n",
       "  <th>Min Obs:</th>                 <td>51.000</td>        <th>                     </th>       <td></td>     \n",
       "</tr>\n",
       "<tr>\n",
       "  <th>Max Obs:</th>                 <td>51.000</td>        <th>  F-statistic (robust):</th>  <td>75.562</td>  \n",
       "</tr>\n",
       "<tr>\n",
       "  <th></th>                            <td></td>           <th>  P-value            </th>    <td>0.0000</td>  \n",
       "</tr>\n",
       "<tr>\n",
       "  <th>Time periods:</th>              <td>51</td>          <th>  Distribution:      </th>   <td>F(1,1171)</td>\n",
       "</tr>\n",
       "<tr>\n",
       "  <th>Avg Obs:</th>                 <td>23.000</td>        <th>                     </th>       <td></td>     \n",
       "</tr>\n",
       "<tr>\n",
       "  <th>Min Obs:</th>                 <td>23.000</td>        <th>                     </th>       <td></td>     \n",
       "</tr>\n",
       "<tr>\n",
       "  <th>Max Obs:</th>                 <td>23.000</td>        <th>                     </th>       <td></td>     \n",
       "</tr>\n",
       "<tr>\n",
       "  <th></th>                            <td></td>           <th>                     </th>       <td></td>     \n",
       "</tr>\n",
       "</table>\n",
       "<table class=\"simpletable\">\n",
       "<caption>Parameter Estimates</caption>\n",
       "<tr>\n",
       "           <td></td>          <th>Parameter</th> <th>Std. Err.</th> <th>T-stat</th>  <th>P-value</th> <th>Lower CI</th> <th>Upper CI</th>\n",
       "</tr>\n",
       "<tr>\n",
       "  <th>const</th>               <td>-229.66</td>   <td>73.832</td>   <td>-3.1105</td> <td>0.0019</td>   <td>-374.52</td>  <td>-84.800</td>\n",
       "</tr>\n",
       "<tr>\n",
       "  <th>ingresos_promedios</th>  <td>53.387</td>    <td>6.1417</td>   <td>8.6926</td>  <td>0.0000</td>   <td>41.338</td>   <td>65.437</td> \n",
       "</tr>\n",
       "</table><br/>id: 0x24a0363c6d0"
      ],
      "text/plain": [
       "                           PooledOLS Estimation Summary                           \n",
       "==================================================================================\n",
       "Dep. Variable:     tasa_crimen_violento   R-squared:                        0.1665\n",
       "Estimator:                    PooledOLS   R-squared (Between):             -0.0847\n",
       "No. Observations:                  1173   R-squared (Within):               0.1758\n",
       "Date:                  Wed, Oct 26 2022   R-squared (Overall):              0.1665\n",
       "Time:                          05:38:26   Log-likelihood                   -8374.6\n",
       "Cov. Estimator:               Clustered                                           \n",
       "                                          F-statistic:                      233.84\n",
       "Entities:                            23   P-value                           0.0000\n",
       "Avg Obs:                         51.000   Distribution:                  F(1,1171)\n",
       "Min Obs:                         51.000                                           \n",
       "Max Obs:                         51.000   F-statistic (robust):             75.562\n",
       "                                          P-value                           0.0000\n",
       "Time periods:                        51   Distribution:                  F(1,1171)\n",
       "Avg Obs:                         23.000                                           \n",
       "Min Obs:                         23.000                                           \n",
       "Max Obs:                         23.000                                           \n",
       "                                                                                  \n",
       "                                 Parameter Estimates                                  \n",
       "======================================================================================\n",
       "                    Parameter  Std. Err.     T-stat    P-value    Lower CI    Upper CI\n",
       "--------------------------------------------------------------------------------------\n",
       "const                 -229.66     73.832    -3.1105     0.0019     -374.52     -84.800\n",
       "ingresos_promedios     53.387     6.1417     8.6926     0.0000      41.338      65.437\n",
       "======================================================================================\n",
       "PanelResults, id: 0x24a0363c6d0"
      ]
     },
     "execution_count": 15,
     "metadata": {},
     "output_type": "execute_result"
    }
   ],
   "source": [
    "resultados_pooled_OLS"
   ]
  },
  {
   "cell_type": "markdown",
   "id": "b8522dc6",
   "metadata": {},
   "source": [
    "Lo primero que hay que tener en cuenta en los resultados del modelo, es que el valor de los coeficientes ajustados, en este caso los ingresos promedios, son significativos, lo cual es un buen indicador. \n",
    "\n",
    "\n",
    "Adicionalmente, podemos fijarnos en el R-cuadrado ajustado que mide la fracción de la varianza total en \"y\" que es explicada por \"X\" después de tener en cuenta los grados de libertad perdidos debido a la inclusión de variables de regresión es 0.17, bastante bajo.\n",
    "\n",
    "La prueba F para la regresión que mide la significación conjunta de los parámetros del modelo ha producido una estadística de prueba de 233.84 con un valor p de 0, lo que nos lleva a concluir que las estimaciones del coeficiente del modelo son significativas en conjunto con una p < 0.005 .\n",
    "\n",
    "El Log-verosimilitud del modelo es -8374.6.  Este valor de bondad de ajuste por sí mismo no es repesentativo a menos que lo comparemos con los de un modelo alternativo, por lo que a seguir  validamos los supuestos de homocedasticidad y no-autocrrelación y procedemos a desarrollar dos modelos extras: EL modelo de efectos fijos, y el modelo de efectos aleatorios."
   ]
  },
  {
   "cell_type": "markdown",
   "id": "4427999f",
   "metadata": {},
   "source": [
    "### Verificación de los supuestos de la Regresión Pooled OLS"
   ]
  },
  {
   "cell_type": "markdown",
   "id": "e12cbc91",
   "metadata": {},
   "source": [
    "#### Homocedasticidad"
   ]
  },
  {
   "cell_type": "markdown",
   "id": "fd78aab9",
   "metadata": {},
   "source": [
    "Para validar este supuesto, primero graficaremos los residuos y validaremos la prueba gráfica con el test estadístico de  Breusch-Pagan."
   ]
  },
  {
   "cell_type": "code",
   "execution_count": 16,
   "id": "43040f6b",
   "metadata": {},
   "outputs": [
    {
     "data": {
      "image/png": "[encoded data removed]",
      "text/plain": [
       "<Figure size 432x288 with 1 Axes>"
      ]
     },
     "metadata": {
      "needs_background": "light"
     },
     "output_type": "display_data"
    }
   ],
   "source": [
    "fig, ax = plt.subplots()\n",
    "ax.scatter(predicciones_pooled_OLS, residuos_pooled_OLS)\n",
    "ax.axhline(0, color = 'r', ls = '--')\n",
    "ax.set_xlabel('Predicciones', fontsize = 15)\n",
    "ax.set_ylabel('Residuos', fontsize = 15)\n",
    "ax.set_title('Evaluación de homocedasticidad', fontsize = 18)\n",
    "plt.show()"
   ]
  },
  {
   "cell_type": "markdown",
   "id": "5c93b661",
   "metadata": {},
   "source": [
    "De la gráfica, y como los puntos se dispersan, tenemos un indicador de varianza creciente y, por lo tanto, de heteroscedasticidad. \n",
    "\n",
    "Comprobemos esta intuición gráfcia con el test de Breusch-Pagan:"
   ]
  },
  {
   "cell_type": "code",
   "execution_count": 17,
   "id": "31d1efe6",
   "metadata": {},
   "outputs": [],
   "source": [
    "from statsmodels.stats.diagnostic import het_breuschpagan"
   ]
  },
  {
   "cell_type": "code",
   "execution_count": 18,
   "id": "d84a4573",
   "metadata": {},
   "outputs": [],
   "source": [
    "pooled_OLS_df = pd.concat([df, residuos_pooled_OLS], axis=1)\n",
    "pooled_OLS_df = pooled_OLS_df.drop(['anio'], axis = 1).fillna(0)\n",
    "X_ = sm.tools.tools.add_constant(df['ingresos_promedios']).fillna(0)"
   ]
  },
  {
   "cell_type": "code",
   "execution_count": 19,
   "id": "546aba7d",
   "metadata": {},
   "outputs": [
    {
     "data": {
      "text/html": [
       "<div>\n",
       "<style scoped>\n",
       "    .dataframe tbody tr th:only-of-type {\n",
       "        vertical-align: middle;\n",
       "    }\n",
       "\n",
       "    .dataframe tbody tr th {\n",
       "        vertical-align: top;\n",
       "    }\n",
       "\n",
       "    .dataframe thead th {\n",
       "        text-align: right;\n",
       "    }\n",
       "</style>\n",
       "<table border=\"1\" class=\"dataframe\">\n",
       "  <thead>\n",
       "    <tr style=\"text-align: right;\">\n",
       "      <th></th>\n",
       "      <th></th>\n",
       "      <th>tasa_crimen_violento</th>\n",
       "      <th>ingresos_promedios</th>\n",
       "      <th>residual</th>\n",
       "    </tr>\n",
       "    <tr>\n",
       "      <th>anio</th>\n",
       "      <th>id_estado</th>\n",
       "      <th></th>\n",
       "      <th></th>\n",
       "      <th></th>\n",
       "    </tr>\n",
       "  </thead>\n",
       "  <tbody>\n",
       "    <tr>\n",
       "      <th>77</th>\n",
       "      <th>1</th>\n",
       "      <td>414.399994</td>\n",
       "      <td>9.563148</td>\n",
       "      <td>133.505144</td>\n",
       "    </tr>\n",
       "    <tr>\n",
       "      <th>78</th>\n",
       "      <th>1</th>\n",
       "      <td>419.100006</td>\n",
       "      <td>9.932000</td>\n",
       "      <td>118.513100</td>\n",
       "    </tr>\n",
       "    <tr>\n",
       "      <th>79</th>\n",
       "      <th>1</th>\n",
       "      <td>413.299988</td>\n",
       "      <td>9.877028</td>\n",
       "      <td>115.647932</td>\n",
       "    </tr>\n",
       "    <tr>\n",
       "      <th>80</th>\n",
       "      <th>1</th>\n",
       "      <td>448.500000</td>\n",
       "      <td>9.541428</td>\n",
       "      <td>168.764774</td>\n",
       "    </tr>\n",
       "    <tr>\n",
       "      <th>81</th>\n",
       "      <th>1</th>\n",
       "      <td>470.500000</td>\n",
       "      <td>9.548351</td>\n",
       "      <td>190.395136</td>\n",
       "    </tr>\n",
       "    <tr>\n",
       "      <th>...</th>\n",
       "      <th>...</th>\n",
       "      <td>...</td>\n",
       "      <td>...</td>\n",
       "      <td>...</td>\n",
       "    </tr>\n",
       "    <tr>\n",
       "      <th>95</th>\n",
       "      <th>56</th>\n",
       "      <td>254.199997</td>\n",
       "      <td>14.070156</td>\n",
       "      <td>-267.312584</td>\n",
       "    </tr>\n",
       "    <tr>\n",
       "      <th>96</th>\n",
       "      <th>56</th>\n",
       "      <td>249.699997</td>\n",
       "      <td>14.032229</td>\n",
       "      <td>-269.787775</td>\n",
       "    </tr>\n",
       "    <tr>\n",
       "      <th>97</th>\n",
       "      <th>56</th>\n",
       "      <td>255.199997</td>\n",
       "      <td>14.790977</td>\n",
       "      <td>-304.795414</td>\n",
       "    </tr>\n",
       "    <tr>\n",
       "      <th>98</th>\n",
       "      <th>56</th>\n",
       "      <td>247.600006</td>\n",
       "      <td>15.225509</td>\n",
       "      <td>-335.593927</td>\n",
       "    </tr>\n",
       "    <tr>\n",
       "      <th>99</th>\n",
       "      <th>56</th>\n",
       "      <td>232.300003</td>\n",
       "      <td>15.765074</td>\n",
       "      <td>-379.699944</td>\n",
       "    </tr>\n",
       "  </tbody>\n",
       "</table>\n",
       "<p>1173 rows × 3 columns</p>\n",
       "</div>"
      ],
      "text/plain": [
       "                tasa_crimen_violento  ingresos_promedios    residual\n",
       "anio id_estado                                                      \n",
       "77   1                    414.399994            9.563148  133.505144\n",
       "78   1                    419.100006            9.932000  118.513100\n",
       "79   1                    413.299988            9.877028  115.647932\n",
       "80   1                    448.500000            9.541428  168.764774\n",
       "81   1                    470.500000            9.548351  190.395136\n",
       "...                              ...                 ...         ...\n",
       "95   56                   254.199997           14.070156 -267.312584\n",
       "96   56                   249.699997           14.032229 -269.787775\n",
       "97   56                   255.199997           14.790977 -304.795414\n",
       "98   56                   247.600006           15.225509 -335.593927\n",
       "99   56                   232.300003           15.765074 -379.699944\n",
       "\n",
       "[1173 rows x 3 columns]"
      ]
     },
     "execution_count": 19,
     "metadata": {},
     "output_type": "execute_result"
    }
   ],
   "source": [
    "pooled_OLS_df"
   ]
  },
  {
   "cell_type": "code",
   "execution_count": 20,
   "id": "c167b10d",
   "metadata": {},
   "outputs": [
    {
     "name": "stdout",
     "output_type": "stream",
     "text": [
      "{'LM-Stat': 110.96166123874887, 'LM p-val': 6.032614548331739e-26, 'F-Stat': 122.34596489438498, 'F p-val': 4.048135806870943e-27}\n"
     ]
    }
   ],
   "source": [
    "breusch_pagan = het_breuschpagan(pooled_OLS_df.residual, X_)\n",
    "labels = ['LM-Stat', 'LM p-val', 'F-Stat', 'F p-val'] \n",
    "print(dict(zip(labels, breusch_pagan)))"
   ]
  },
  {
   "cell_type": "markdown",
   "id": "a2c91984",
   "metadata": {},
   "source": [
    "Como el p-valor del estadístico de Breush-Pagan es < 0.05 (6.032614548331739e-26), entonces se rechaza la hipótesis nula, y por lo tanto estamos en la presencia de heterocedasticidad en el término del error.\n",
    "\n",
    "- Ho:Las varianzas del error son iguales, hay presencia de homocedasticidad\n",
    "- Hi:Las varianzas del error no son iguales, hay presencia de heterocedasticidad"
   ]
  },
  {
   "cell_type": "markdown",
   "id": "454b8467",
   "metadata": {},
   "source": [
    "#### No- autocorrelación"
   ]
  },
  {
   "cell_type": "markdown",
   "id": "40bcf849",
   "metadata": {},
   "source": [
    "Para validar este supuesto, utilizaremos la prueba de Durbin Watson. Recordemos que para probar la no-autocorrelación en esta prueba, la prueba de Durbin-Watson devolverá un resultado entre 0 y 4:\n",
    "\n",
    "- El valor medio de dos, indicaría que no se ha identificado una autocorrelación, \n",
    "- 0 - 2 significa una autocorrelación positiva (cuanto más cerca de cero, mayor es la correlación), y \n",
    "- 2 - 4 significa autocorrelación negativa (cuanto más cerca de cuatro, mayor es la correlación)"
   ]
  },
  {
   "cell_type": "code",
   "execution_count": 21,
   "id": "69d17144",
   "metadata": {},
   "outputs": [],
   "source": [
    "from statsmodels.stats.stattools import durbin_watson"
   ]
  },
  {
   "cell_type": "code",
   "execution_count": 22,
   "id": "b79b2238",
   "metadata": {},
   "outputs": [
    {
     "name": "stdout",
     "output_type": "stream",
     "text": [
      "0.08937263330524356\n"
     ]
    }
   ],
   "source": [
    "durbin_watson = durbin_watson(pooled_OLS_df.residual) \n",
    "print(durbin_watson)"
   ]
  },
  {
   "cell_type": "markdown",
   "id": "1c0ab66f",
   "metadata": {},
   "source": [
    "En nuestro ejercicio, el resultado es 0,0893, lo que indica claramente una fuerte autocorrelación positiva, violándose el supuesto.\n",
    "\n",
    "Como las dos secciones del tercer supuesto fueron contradichas, a seguir exploraremos los modelos de efectos fijos y efectos aleatorios:"
   ]
  },
  {
   "cell_type": "markdown",
   "id": "cbed1492",
   "metadata": {},
   "source": [
    " "
   ]
  },
  {
   "cell_type": "markdown",
   "id": "f75ef38c",
   "metadata": {},
   "source": [
    "## Modelo de Efectos Fijos \"fixed effects\""
   ]
  },
  {
   "cell_type": "code",
   "execution_count": 23,
   "id": "d2e457d4",
   "metadata": {},
   "outputs": [],
   "source": [
    "from linearmodels import PanelOLS"
   ]
  },
  {
   "cell_type": "code",
   "execution_count": 24,
   "id": "ec510cad",
   "metadata": {},
   "outputs": [],
   "source": [
    "modelo_fe = PanelOLS(y, X, entity_effects = True)\n",
    "resultados_fe = modelo_fe.fit()"
   ]
  },
  {
   "cell_type": "code",
   "execution_count": 25,
   "id": "4bc81b3a",
   "metadata": {},
   "outputs": [
    {
     "data": {
      "text/html": [
       "<table class=\"simpletable\">\n",
       "<caption>PanelOLS Estimation Summary</caption>\n",
       "<tr>\n",
       "  <th>Dep. Variable:</th>    <td>tasa_crimen_violento</td> <th>  R-squared:         </th>    <td>0.1817</td>  \n",
       "</tr>\n",
       "<tr>\n",
       "  <th>Estimator:</th>              <td>PanelOLS</td>       <th>  R-squared (Between):</th>   <td>-0.4633</td> \n",
       "</tr>\n",
       "<tr>\n",
       "  <th>No. Observations:</th>         <td>1173</td>         <th>  R-squared (Within):</th>    <td>0.1817</td>  \n",
       "</tr>\n",
       "<tr>\n",
       "  <th>Date:</th>               <td>Wed, Oct 26 2022</td>   <th>  R-squared (Overall):</th>   <td>0.1585</td>  \n",
       "</tr>\n",
       "<tr>\n",
       "  <th>Time:</th>                   <td>05:39:28</td>       <th>  Log-likelihood     </th>    <td>-8342.3</td> \n",
       "</tr>\n",
       "<tr>\n",
       "  <th>Cov. Estimator:</th>        <td>Unadjusted</td>      <th>                     </th>       <td></td>     \n",
       "</tr>\n",
       "<tr>\n",
       "  <th></th>                            <td></td>           <th>  F-statistic:       </th>    <td>255.07</td>  \n",
       "</tr>\n",
       "<tr>\n",
       "  <th>Entities:</th>                  <td>23</td>          <th>  P-value            </th>    <td>0.0000</td>  \n",
       "</tr>\n",
       "<tr>\n",
       "  <th>Avg Obs:</th>                 <td>51.000</td>        <th>  Distribution:      </th>   <td>F(1,1149)</td>\n",
       "</tr>\n",
       "<tr>\n",
       "  <th>Min Obs:</th>                 <td>51.000</td>        <th>                     </th>       <td></td>     \n",
       "</tr>\n",
       "<tr>\n",
       "  <th>Max Obs:</th>                 <td>51.000</td>        <th>  F-statistic (robust):</th>  <td>255.07</td>  \n",
       "</tr>\n",
       "<tr>\n",
       "  <th></th>                            <td></td>           <th>  P-value            </th>    <td>0.0000</td>  \n",
       "</tr>\n",
       "<tr>\n",
       "  <th>Time periods:</th>              <td>51</td>          <th>  Distribution:      </th>   <td>F(1,1149)</td>\n",
       "</tr>\n",
       "<tr>\n",
       "  <th>Avg Obs:</th>                 <td>23.000</td>        <th>                     </th>       <td></td>     \n",
       "</tr>\n",
       "<tr>\n",
       "  <th>Min Obs:</th>                 <td>23.000</td>        <th>                     </th>       <td></td>     \n",
       "</tr>\n",
       "<tr>\n",
       "  <th>Max Obs:</th>                 <td>23.000</td>        <th>                     </th>       <td></td>     \n",
       "</tr>\n",
       "<tr>\n",
       "  <th></th>                            <td></td>           <th>                     </th>       <td></td>     \n",
       "</tr>\n",
       "</table>\n",
       "<table class=\"simpletable\">\n",
       "<caption>Parameter Estimates</caption>\n",
       "<tr>\n",
       "           <td></td>          <th>Parameter</th> <th>Std. Err.</th> <th>T-stat</th>  <th>P-value</th> <th>Lower CI</th> <th>Upper CI</th>\n",
       "</tr>\n",
       "<tr>\n",
       "  <th>const</th>               <td>-389.91</td>   <td>56.595</td>   <td>-6.8895</td> <td>0.0000</td>   <td>-500.95</td>  <td>-278.87</td>\n",
       "</tr>\n",
       "<tr>\n",
       "  <th>ingresos_promedios</th>  <td>65.063</td>    <td>4.0739</td>   <td>15.971</td>  <td>0.0000</td>   <td>57.070</td>   <td>73.057</td> \n",
       "</tr>\n",
       "</table><br/><br/>F-test for Poolability: 2.9533<br/>P-value: 0.0000<br/>Distribution: F(22,1149)<br/><br/>Included effects: Entity<br/>id: 0x24a077b7130"
      ],
      "text/plain": [
       "                           PanelOLS Estimation Summary                            \n",
       "==================================================================================\n",
       "Dep. Variable:     tasa_crimen_violento   R-squared:                        0.1817\n",
       "Estimator:                     PanelOLS   R-squared (Between):             -0.4633\n",
       "No. Observations:                  1173   R-squared (Within):               0.1817\n",
       "Date:                  Wed, Oct 26 2022   R-squared (Overall):              0.1585\n",
       "Time:                          05:39:28   Log-likelihood                   -8342.3\n",
       "Cov. Estimator:              Unadjusted                                           \n",
       "                                          F-statistic:                      255.07\n",
       "Entities:                            23   P-value                           0.0000\n",
       "Avg Obs:                         51.000   Distribution:                  F(1,1149)\n",
       "Min Obs:                         51.000                                           \n",
       "Max Obs:                         51.000   F-statistic (robust):             255.07\n",
       "                                          P-value                           0.0000\n",
       "Time periods:                        51   Distribution:                  F(1,1149)\n",
       "Avg Obs:                         23.000                                           \n",
       "Min Obs:                         23.000                                           \n",
       "Max Obs:                         23.000                                           \n",
       "                                                                                  \n",
       "                                 Parameter Estimates                                  \n",
       "======================================================================================\n",
       "                    Parameter  Std. Err.     T-stat    P-value    Lower CI    Upper CI\n",
       "--------------------------------------------------------------------------------------\n",
       "const                 -389.91     56.595    -6.8895     0.0000     -500.95     -278.87\n",
       "ingresos_promedios     65.063     4.0739     15.971     0.0000      57.070      73.057\n",
       "======================================================================================\n",
       "\n",
       "F-test for Poolability: 2.9533\n",
       "P-value: 0.0000\n",
       "Distribution: F(22,1149)\n",
       "\n",
       "Included effects: Entity\n",
       "PanelEffectsResults, id: 0x24a077b7130"
      ]
     },
     "execution_count": 25,
     "metadata": {},
     "output_type": "execute_result"
    }
   ],
   "source": [
    "resultados_fe"
   ]
  },
  {
   "cell_type": "markdown",
   "id": "39cb3f77",
   "metadata": {},
   "source": [
    "## Modelo de Efectos Aleatorios \"random effects\""
   ]
  },
  {
   "cell_type": "code",
   "execution_count": 26,
   "id": "0a7b0f69",
   "metadata": {},
   "outputs": [],
   "source": [
    "from linearmodels import RandomEffects"
   ]
  },
  {
   "cell_type": "code",
   "execution_count": 27,
   "id": "bdf364b5",
   "metadata": {},
   "outputs": [],
   "source": [
    "modelo_re = RandomEffects(y, X)\n",
    "resultados_re = modelo_re.fit()"
   ]
  },
  {
   "cell_type": "code",
   "execution_count": 28,
   "id": "9b50c7aa",
   "metadata": {},
   "outputs": [
    {
     "data": {
      "text/html": [
       "<table class=\"simpletable\">\n",
       "<caption>RandomEffects Estimation Summary</caption>\n",
       "<tr>\n",
       "  <th>Dep. Variable:</th>    <td>tasa_crimen_violento</td> <th>  R-squared:         </th>    <td>0.1712</td>  \n",
       "</tr>\n",
       "<tr>\n",
       "  <th>Estimator:</th>            <td>RandomEffects</td>    <th>  R-squared (Between):</th>   <td>-0.2017</td> \n",
       "</tr>\n",
       "<tr>\n",
       "  <th>No. Observations:</th>         <td>1173</td>         <th>  R-squared (Within):</th>    <td>0.1792</td>  \n",
       "</tr>\n",
       "<tr>\n",
       "  <th>Date:</th>               <td>Wed, Oct 26 2022</td>   <th>  R-squared (Overall):</th>   <td>0.1655</td>  \n",
       "</tr>\n",
       "<tr>\n",
       "  <th>Time:</th>                   <td>05:39:31</td>       <th>  Log-likelihood     </th>    <td>-8362.1</td> \n",
       "</tr>\n",
       "<tr>\n",
       "  <th>Cov. Estimator:</th>        <td>Unadjusted</td>      <th>                     </th>       <td></td>     \n",
       "</tr>\n",
       "<tr>\n",
       "  <th></th>                            <td></td>           <th>  F-statistic:       </th>    <td>241.96</td>  \n",
       "</tr>\n",
       "<tr>\n",
       "  <th>Entities:</th>                  <td>23</td>          <th>  P-value            </th>    <td>0.0000</td>  \n",
       "</tr>\n",
       "<tr>\n",
       "  <th>Avg Obs:</th>                 <td>51.000</td>        <th>  Distribution:      </th>   <td>F(1,1171)</td>\n",
       "</tr>\n",
       "<tr>\n",
       "  <th>Min Obs:</th>                 <td>51.000</td>        <th>                     </th>       <td></td>     \n",
       "</tr>\n",
       "<tr>\n",
       "  <th>Max Obs:</th>                 <td>51.000</td>        <th>  F-statistic (robust):</th>  <td>241.96</td>  \n",
       "</tr>\n",
       "<tr>\n",
       "  <th></th>                            <td></td>           <th>  P-value            </th>    <td>0.0000</td>  \n",
       "</tr>\n",
       "<tr>\n",
       "  <th>Time periods:</th>              <td>51</td>          <th>  Distribution:      </th>   <td>F(1,1171)</td>\n",
       "</tr>\n",
       "<tr>\n",
       "  <th>Avg Obs:</th>                 <td>23.000</td>        <th>                     </th>       <td></td>     \n",
       "</tr>\n",
       "<tr>\n",
       "  <th>Min Obs:</th>                 <td>23.000</td>        <th>                     </th>       <td></td>     \n",
       "</tr>\n",
       "<tr>\n",
       "  <th>Max Obs:</th>                 <td>23.000</td>        <th>                     </th>       <td></td>     \n",
       "</tr>\n",
       "<tr>\n",
       "  <th></th>                            <td></td>           <th>                     </th>       <td></td>     \n",
       "</tr>\n",
       "</table>\n",
       "<table class=\"simpletable\">\n",
       "<caption>Parameter Estimates</caption>\n",
       "<tr>\n",
       "           <td></td>          <th>Parameter</th> <th>Std. Err.</th> <th>T-stat</th>  <th>P-value</th> <th>Lower CI</th> <th>Upper CI</th>\n",
       "</tr>\n",
       "<tr>\n",
       "  <th>const</th>               <td>-285.38</td>   <td>52.015</td>   <td>-5.4864</td> <td>0.0000</td>   <td>-387.43</td>  <td>-183.33</td>\n",
       "</tr>\n",
       "<tr>\n",
       "  <th>ingresos_promedios</th>  <td>57.447</td>    <td>3.6932</td>   <td>15.555</td>  <td>0.0000</td>   <td>50.201</td>   <td>64.693</td> \n",
       "</tr>\n",
       "</table><br/>id: 0x24a077df490"
      ],
      "text/plain": [
       "                         RandomEffects Estimation Summary                         \n",
       "==================================================================================\n",
       "Dep. Variable:     tasa_crimen_violento   R-squared:                        0.1712\n",
       "Estimator:                RandomEffects   R-squared (Between):             -0.2017\n",
       "No. Observations:                  1173   R-squared (Within):               0.1792\n",
       "Date:                  Wed, Oct 26 2022   R-squared (Overall):              0.1655\n",
       "Time:                          05:39:31   Log-likelihood                   -8362.1\n",
       "Cov. Estimator:              Unadjusted                                           \n",
       "                                          F-statistic:                      241.96\n",
       "Entities:                            23   P-value                           0.0000\n",
       "Avg Obs:                         51.000   Distribution:                  F(1,1171)\n",
       "Min Obs:                         51.000                                           \n",
       "Max Obs:                         51.000   F-statistic (robust):             241.96\n",
       "                                          P-value                           0.0000\n",
       "Time periods:                        51   Distribution:                  F(1,1171)\n",
       "Avg Obs:                         23.000                                           \n",
       "Min Obs:                         23.000                                           \n",
       "Max Obs:                         23.000                                           \n",
       "                                                                                  \n",
       "                                 Parameter Estimates                                  \n",
       "======================================================================================\n",
       "                    Parameter  Std. Err.     T-stat    P-value    Lower CI    Upper CI\n",
       "--------------------------------------------------------------------------------------\n",
       "const                 -285.38     52.015    -5.4864     0.0000     -387.43     -183.33\n",
       "ingresos_promedios     57.447     3.6932     15.555     0.0000      50.201      64.693\n",
       "======================================================================================\n",
       "RandomEffectsResults, id: 0x24a077df490"
      ]
     },
     "execution_count": 28,
     "metadata": {},
     "output_type": "execute_result"
    }
   ],
   "source": [
    "resultados_re"
   ]
  },
  {
   "cell_type": "markdown",
   "id": "9117549a",
   "metadata": {},
   "source": [
    " "
   ]
  },
  {
   "cell_type": "markdown",
   "id": "4cf656e4",
   "metadata": {},
   "source": [
    "Como ambos modelos devuelven resultados similares,  para seleccionar el modelo, aplicaremos el test de Hausman."
   ]
  },
  {
   "cell_type": "markdown",
   "id": "c2e96e8e",
   "metadata": {},
   "source": [
    "#### Test de Haussman"
   ]
  },
  {
   "cell_type": "markdown",
   "id": "25b3ae5f",
   "metadata": {},
   "source": [
    "La prueba de Hausman detecta regresores endógenos (variables predictoras) en un modelo de regresión. \n",
    "\n",
    "Las variables endógenas tienen valores que están determinados por otras variables en el sistema, en su presencia, los estimadores de mínimos cuadrados ordinarios fallarán, ya que se estaría violando el supuesto de OLS, que es: no correlación entre una variable predictora y el término de error. \n",
    "Para corregirlo, los estimadores de variables instrumentales se pueden utilizar como alternativa en este caso. Sin embargo, antes de que pueda decidir cuál es el mejor método de regresión, primero debe averiguar si sus variables predictoras son endógenas. Esto es lo que hará la prueba de Hausman."
   ]
  },
  {
   "cell_type": "markdown",
   "id": "f24cc445",
   "metadata": {},
   "source": [
    "En el análisis de datos de panel, la prueba de Hausman puede asistirnos a elegir entre un modelo de efectos fijos o un modelo de efectos aleatorios contrastando las siguientes hipótesis:\n",
    "\n",
    "- Ho: El modelo preferido es el de efectos aleatorios\n",
    "- Hi: El modelo preferido es el de efectos fijos\n",
    "\n",
    "Esencialmente, las pruebas buscan ver si existe una correlación entre los errores únicos y los regresores en el modelo. La hipótesis nula en este caso vendría dadaa por la no correlación entre los dos."
   ]
  },
  {
   "cell_type": "code",
   "execution_count": 29,
   "id": "80520257",
   "metadata": {},
   "outputs": [],
   "source": [
    "import numpy.linalg as la\n",
    "from scipy import stats\n",
    "import numpy as np"
   ]
  },
  {
   "cell_type": "code",
   "execution_count": 30,
   "id": "d03429dc",
   "metadata": {},
   "outputs": [],
   "source": [
    "def hausman(fe, re):\n",
    "    b = fe.params\n",
    "    B = re.params\n",
    "    v_b = fe.cov\n",
    "    v_B = re.cov\n",
    "    df = b[np.abs(b) < 1e8].size\n",
    "    chi2 = np.dot((b - B).T, la.inv(v_b - v_B).dot(b - B)) \n",
    " \n",
    "    pval = stats.chi2.sf(chi2, df)\n",
    "    return chi2, df, pval"
   ]
  },
  {
   "cell_type": "code",
   "execution_count": 31,
   "id": "20c0c0dd",
   "metadata": {},
   "outputs": [],
   "source": [
    "hausman = hausman(resultados_fe, resultados_re) "
   ]
  },
  {
   "cell_type": "code",
   "execution_count": 32,
   "id": "545c3f9e",
   "metadata": {},
   "outputs": [
    {
     "name": "stdout",
     "output_type": "stream",
     "text": [
      "chi-Squared: 19.61518516402507\n",
      "degrees of freedom: 2\n",
      "p-Value:5.503217289584829e-05\n"
     ]
    }
   ],
   "source": [
    "print('chi-Squared: ' + str(hausman[0]))\n",
    "print('degrees of freedom: ' + str(hausman[1]))\n",
    "print('p-Value:' + str(hausman[2]))"
   ]
  },
  {
   "cell_type": "markdown",
   "id": "e55aa2cc",
   "metadata": {},
   "source": [
    "Listo!, dado que el valor p es muy pequeño (5.503217289584829e-05), la hipótesis nula puede rechazarse. En consecuencia, el modelo de efectos fijos parece ser el más adecuado, porque claramente tenemos presencia de endogeneidad en nuestro modelo."
   ]
  },
  {
   "cell_type": "markdown",
   "id": "5deb3342",
   "metadata": {},
   "source": [
    " "
   ]
  }
 ],
 "metadata": {
  "kernelspec": {
   "display_name": "Python 3 (ipykernel)",
   "language": "python",
   "name": "python3"
  },
  "language_info": {
   "codemirror_mode": {
    "name": "ipython",
    "version": 3
   },
   "file_extension": ".py",
   "mimetype": "text/x-python",
   "name": "python",
   "nbconvert_exporter": "python",
   "pygments_lexer": "ipython3",
   "version": "3.9.7"
  }
 },
 "nbformat": 4,
 "nbformat_minor": 5
}
